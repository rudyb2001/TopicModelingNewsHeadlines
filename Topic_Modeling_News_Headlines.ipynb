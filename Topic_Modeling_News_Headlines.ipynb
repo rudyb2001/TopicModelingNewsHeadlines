{
 "cells": [
  {
   "cell_type": "markdown",
   "metadata": {},
   "source": [
    "# Making sense of the news using Machine Learning"
   ]
  },
  {
   "cell_type": "markdown",
   "metadata": {},
   "source": [
    "There are times when people need to make sense of a large set of text. These could be conversations on social media or online forums, information repositories or knowledge bases, news articles, customer reviews on e-commerce websites, e-mails from customers to get support, ... etc. For example businesses, researchers, medical professionals, employers, lawyers, political campaigns all find it valuable to understand what people are talking about or writing about. But with the vast amounts of content being produced today, it is hard for this to be done through manual effort alone. Fortunately breakthroughs in computer scienece mean that computers can be trained to do the job quite efficiently using Machine Learning. \n",
    "\n",
    "This paper describes a way to use Machine Learning techniques to analyze a large collection of news articles, and discover the set of common “topics” in them. The dataset used for project has over one million news headlines that were published over a span of 15 years by the Australian Broadcasting Corporation. \n",
    "\n",
    "The specific Machine Learning technique used in this paper is called \"Topic modeling\". This is a way to look through a large collection of documents and discover the set of common “topics” in there. The challenge is how to extract high quality topics that are meaningful to a human, while being separate and distinct from each other. \n",
    "\n",
    "The typical approach that a data scientest follows to solve this challenge is a two step process. First convert the text into a set of numeric information that a computer can work with. This is called pre-processing, and the result is a transformation from a large amount of text into a large matrix of numbers that captures the most relevant information from that text. Then the second step is to train a machine learning model that can identify the set of distinct patterns represented within those numbers. These patterns represent clusters of information - the set of different topics contained within the documents. \n",
    "\n",
    "This paper describes a detailed way to do this, and is structured along these lines:\n",
    "1. A description of how to collect and pre-process the text from the dataset of news headlines - so that it is transformed into a multi-dimensional vector space of numbers.\n",
    "2. A description of how to train a machine learning model on that vector space, using a common algorithm for topic modeling called Latent Dirichlet Allocation (LDA). \n",
    "3. A description of a metric called the \"Coherence Score\" - which measures the effectiveness of the machine learning, based on how distinct the topics are and how likley they will be meaningful to a human.\n",
    "4. Using that metric to improve the machine learned model by estimating the number of different topics that might be represented in the dataset of news headlines (since that isn't known at the beginning), and also by trying two different software implementations of the LDA algorithm.\n",
    "4. Finally a way to use that machine learned model to predict what topic a new document would belong to, that is not part of the set of news headlines that were used to train the machine learning model."
   ]
  },
  {
   "cell_type": "markdown",
   "metadata": {},
   "source": [
    "## Get the dataset of news headlines"
   ]
  },
  {
   "cell_type": "markdown",
   "metadata": {},
   "source": [
    "The dataset is a list of over one million news headlines that were published over a span of 15 years. It has been downloaded as a CSV file from Kaggle (https://www.kaggle.com/therohk/million-headlines). The headlines were sourced from the Australian Broadcasting Corporation (http://www.abc.net.au/) from Feb 19 2003, to Dec 31 2017. \n",
    "\n",
    "This dataset is also described as a corpus, or a collection of documents, and we need a way to manipulate this corpus using Python, so that we can build a statistical model of the topics contained within this corpus. So We use the Python Data Analysis Library (pandas). This is a Python package that lets us build a dataframe from the CSV file downloaded from Kaggle with the data. A dataframe is a flexible, expressive data structure that makes it easy to manipulate \"relational\" or \"labeled\" data."
   ]
  },
  {
   "cell_type": "code",
   "execution_count": 1,
   "metadata": {},
   "outputs": [],
   "source": [
    "import pandas as pd\n",
    "\n",
    "data = pd.read_csv('abcnews-date-text.csv', error_bad_lines=False);\n",
    "data_text = data[['headline_text']]\n",
    "data_text['index'] = data_text.index\n",
    "documents = data_text"
   ]
  },
  {
   "cell_type": "markdown",
   "metadata": {},
   "source": [
    "The Kaggle dataset home page claims that there are over one million news headlines. Lets check that claim by looking at the number of documents in the dataframe that we created using pandas. Looking at the length we can see that there are just over 1.1 million news headlines in this dataset."
   ]
  },
  {
   "cell_type": "code",
   "execution_count": 2,
   "metadata": {},
   "outputs": [
    {
     "data": {
      "text/plain": [
       "1103665"
      ]
     },
     "execution_count": 2,
     "metadata": {},
     "output_type": "execute_result"
    }
   ],
   "source": [
    "len(documents)"
   ]
  },
  {
   "cell_type": "markdown",
   "metadata": {},
   "source": [
    "Now lets take a quick look at the data to visually inspect it. This is always a good idea before analyzing the data and building a machine learning model. If the data is not clean then none of our results will be accurate. This would be a case of GIGO - or Garbage In / Garbage Out. However looking at a few headlines it appears that the dataset is clean."
   ]
  },
  {
   "cell_type": "code",
   "execution_count": 3,
   "metadata": {},
   "outputs": [
    {
     "data": {
      "text/html": [
       "<div>\n",
       "<style scoped>\n",
       "    .dataframe tbody tr th:only-of-type {\n",
       "        vertical-align: middle;\n",
       "    }\n",
       "\n",
       "    .dataframe tbody tr th {\n",
       "        vertical-align: top;\n",
       "    }\n",
       "\n",
       "    .dataframe thead th {\n",
       "        text-align: right;\n",
       "    }\n",
       "</style>\n",
       "<table border=\"1\" class=\"dataframe\">\n",
       "  <thead>\n",
       "    <tr style=\"text-align: right;\">\n",
       "      <th></th>\n",
       "      <th>headline_text</th>\n",
       "      <th>index</th>\n",
       "    </tr>\n",
       "  </thead>\n",
       "  <tbody>\n",
       "    <tr>\n",
       "      <th>0</th>\n",
       "      <td>aba decides against community broadcasting lic...</td>\n",
       "      <td>0</td>\n",
       "    </tr>\n",
       "    <tr>\n",
       "      <th>1</th>\n",
       "      <td>act fire witnesses must be aware of defamation</td>\n",
       "      <td>1</td>\n",
       "    </tr>\n",
       "    <tr>\n",
       "      <th>2</th>\n",
       "      <td>a g calls for infrastructure protection summit</td>\n",
       "      <td>2</td>\n",
       "    </tr>\n",
       "    <tr>\n",
       "      <th>3</th>\n",
       "      <td>air nz staff in aust strike for pay rise</td>\n",
       "      <td>3</td>\n",
       "    </tr>\n",
       "    <tr>\n",
       "      <th>4</th>\n",
       "      <td>air nz strike to affect australian travellers</td>\n",
       "      <td>4</td>\n",
       "    </tr>\n",
       "  </tbody>\n",
       "</table>\n",
       "</div>"
      ],
      "text/plain": [
       "                                       headline_text  index\n",
       "0  aba decides against community broadcasting lic...      0\n",
       "1     act fire witnesses must be aware of defamation      1\n",
       "2     a g calls for infrastructure protection summit      2\n",
       "3           air nz staff in aust strike for pay rise      3\n",
       "4      air nz strike to affect australian travellers      4"
      ]
     },
     "execution_count": 3,
     "metadata": {},
     "output_type": "execute_result"
    }
   ],
   "source": [
    "documents[:5]"
   ]
  },
  {
   "cell_type": "markdown",
   "metadata": {},
   "source": [
    "## Preprocessing the text before the Topic Model can be trained"
   ]
  },
  {
   "cell_type": "markdown",
   "metadata": {},
   "source": [
    "The headline data needs to be pre-processed before we can build a Machine Learning model. This is what we need to do to the data:\n",
    "1. First we take each headline, and run sentence detection on it to split the text into sentences, and then we split the sentences into words. This is called tokenization - which is the process of breaking content into small, usable chunks of text. The most common approach to tokenization of English is to split strings based on the occurrence of whitespace such as spaces and line breaks. Puntuation is also removed, and all the words are transformed into lower case alphabets for consistency. \n",
    "2. We will remove words with fewer than 3 characters.\n",
    "3. We will filter out stopwords, which are commonly occuring words like 'the', 'and', and 'a'. These words add little value when performing topic modeling, as the algorithms don’t rely on sentence structure. \n",
    "4. We will perform lemmatization on the words. This means that words in third person are changed to first person, and verbs in past / future tenses are changed into present tense.\n",
    "5. We will perform stemming - which reduces words to their root, or simpler, form e.g. 'dogs' to 'dog', or from 'running' to 'run'.\n",
    "For more details on stemming and lemmatization, see here: https://nlp.stanford.edu/IR-book/html/htmledition/stemming-and-lemmatization-1.html"
   ]
  },
  {
   "cell_type": "markdown",
   "metadata": {},
   "source": [
    "In this project we will use the following Python libraries. \n",
    "\n",
    "1) gensim\n",
    "\n",
    "gensim is a Python library for topic modeling - and the name comes from \"generate similar\". It is designed to find a short list of the most similar documents to a given document. It uses \"Latent Semantic Methods\" to perform unsupervised semantic modelling from plain text. The design decisions are described in this academic paper from 2010: https://radimrehurek.com/gensim/lrec2010_final.pdf \n",
    "\n",
    "According to the website the author has tried hard to make this library \"robust, efficient and hassle free\" - and the library has been used in over a thousand research papers and student theses.\n",
    "\n",
    "2) NLTK or \"Natural Language Toolkit\" \n",
    "\n",
    "NLTK is a library used to build Python programs that can work with natural language datasets. It has built-in support for over 50 different tools for Natural Language Processing including pre-trained Machine Learning models, and a suite of text processing libraries for classification, tokenization, stemming, tagging, parsing, and semantic reasoning.\n",
    "\n",
    "3) NumPy \n",
    "\n",
    "NumPy is a Python library that adds data structures to handle large, multi-dimensional arrays and matrices. It also provides a set of mathematical functions that can operate on those data structures."
   ]
  },
  {
   "cell_type": "code",
   "execution_count": 4,
   "metadata": {},
   "outputs": [
    {
     "name": "stderr",
     "output_type": "stream",
     "text": [
      "C:\\Users\\atanu\\Anaconda3\\lib\\site-packages\\gensim\\utils.py:1212: UserWarning: detected Windows; aliasing chunkize to chunkize_serial\n",
      "  warnings.warn(\"detected Windows; aliasing chunkize to chunkize_serial\")\n"
     ]
    }
   ],
   "source": [
    "import gensim\n",
    "from gensim.utils import simple_preprocess\n",
    "from gensim.parsing.preprocessing import STOPWORDS\n",
    "from nltk.stem import WordNetLemmatizer, SnowballStemmer\n",
    "from nltk.stem.porter import *\n",
    "import numpy as np\n",
    "np.random.seed(2018)"
   ]
  },
  {
   "cell_type": "markdown",
   "metadata": {},
   "source": [
    "Next we will use the Natural Language Toolkit (NLTK) to download WordNet, which is described on Wikipedia as a \"lexical database for the English language\" - or as a combination of a dictionary and a thesaurus for English."
   ]
  },
  {
   "cell_type": "code",
   "execution_count": 5,
   "metadata": {},
   "outputs": [
    {
     "name": "stdout",
     "output_type": "stream",
     "text": [
      "[nltk_data] Error loading wordnet: <urlopen error [Errno 11001]\n",
      "[nltk_data]     getaddrinfo failed>\n"
     ]
    },
    {
     "data": {
      "text/plain": [
       "False"
      ]
     },
     "execution_count": 5,
     "metadata": {},
     "output_type": "execute_result"
    }
   ],
   "source": [
    "import nltk\n",
    "nltk.download('wordnet')"
   ]
  },
  {
   "cell_type": "markdown",
   "metadata": {},
   "source": [
    "### Using Stemming to reduce words to their root forms"
   ]
  },
  {
   "cell_type": "markdown",
   "metadata": {},
   "source": [
    "In order to build up a topic model from our corpus, we need to make sure that the algorithms can treat all variations of the same word similarly. For example articles containing the words 'bank', 'banks', 'banking', 'banker', 'banked', ... are all likely about the same topic of banking. So the statistical model needs to be told that all variations of the same word are essentially the same. Stemming is the process of reducing a word to a root, or simpler form, which isn’t necessarily a word on its own. The goal is to improve the performance of NLP algorithms by organizing under a single heading all the different variant forms of a word which all share a common meaning. \n",
    "\n",
    "There are many different algorithms for stemming, each with their own design goals. Some are aggressive, reducing words to the smallest root possible, whereas others are lighter, preferring to do basic things like removing s or ing from words. A common stemming algorithm is called the Porter stemmer, named after Martin Porter who developed it, but most people now use an improved version of this called the Porter2 stemmer. The Natural Language Toolkit (NTLK) includes the Porter2 stemmer, but confusingly calls it the Snowball stemmer - alhough Snowball is really a framework developed by Martin Porter to describe stemming algorithms for a variety of languages in addition to English. The most aggressive stemming algorithm is called the Lancaster stemmer - which reduces words to stems which are so short that they can barely be readable by a human. A Lancaster stemmer is useful when working with very large text datasets, as it reduces the computer hardware footprint required for stemming. \n",
    "\n",
    "In this project we'll just use the SnowballStemer algortithm included in the Natural Language Toolkit (NTLK) - which is documented here: http://snowballstem.org. The following example shows how the stemmer can reduce a few sample words down to their stemmed form, using one of the unit tests that ships in the NTLK."
   ]
  },
  {
   "cell_type": "code",
   "execution_count": 6,
   "metadata": {},
   "outputs": [
    {
     "data": {
      "text/html": [
       "<div>\n",
       "<style scoped>\n",
       "    .dataframe tbody tr th:only-of-type {\n",
       "        vertical-align: middle;\n",
       "    }\n",
       "\n",
       "    .dataframe tbody tr th {\n",
       "        vertical-align: top;\n",
       "    }\n",
       "\n",
       "    .dataframe thead th {\n",
       "        text-align: right;\n",
       "    }\n",
       "</style>\n",
       "<table border=\"1\" class=\"dataframe\">\n",
       "  <thead>\n",
       "    <tr style=\"text-align: right;\">\n",
       "      <th></th>\n",
       "      <th>original word</th>\n",
       "      <th>stemmed</th>\n",
       "    </tr>\n",
       "  </thead>\n",
       "  <tbody>\n",
       "    <tr>\n",
       "      <th>0</th>\n",
       "      <td>caresses</td>\n",
       "      <td>caress</td>\n",
       "    </tr>\n",
       "    <tr>\n",
       "      <th>1</th>\n",
       "      <td>flies</td>\n",
       "      <td>fli</td>\n",
       "    </tr>\n",
       "    <tr>\n",
       "      <th>2</th>\n",
       "      <td>dies</td>\n",
       "      <td>die</td>\n",
       "    </tr>\n",
       "    <tr>\n",
       "      <th>3</th>\n",
       "      <td>mules</td>\n",
       "      <td>mule</td>\n",
       "    </tr>\n",
       "    <tr>\n",
       "      <th>4</th>\n",
       "      <td>denied</td>\n",
       "      <td>deni</td>\n",
       "    </tr>\n",
       "    <tr>\n",
       "      <th>5</th>\n",
       "      <td>died</td>\n",
       "      <td>die</td>\n",
       "    </tr>\n",
       "    <tr>\n",
       "      <th>6</th>\n",
       "      <td>agreed</td>\n",
       "      <td>agre</td>\n",
       "    </tr>\n",
       "    <tr>\n",
       "      <th>7</th>\n",
       "      <td>owned</td>\n",
       "      <td>own</td>\n",
       "    </tr>\n",
       "    <tr>\n",
       "      <th>8</th>\n",
       "      <td>humbled</td>\n",
       "      <td>humbl</td>\n",
       "    </tr>\n",
       "    <tr>\n",
       "      <th>9</th>\n",
       "      <td>sized</td>\n",
       "      <td>size</td>\n",
       "    </tr>\n",
       "    <tr>\n",
       "      <th>10</th>\n",
       "      <td>meeting</td>\n",
       "      <td>meet</td>\n",
       "    </tr>\n",
       "    <tr>\n",
       "      <th>11</th>\n",
       "      <td>stating</td>\n",
       "      <td>state</td>\n",
       "    </tr>\n",
       "    <tr>\n",
       "      <th>12</th>\n",
       "      <td>siezing</td>\n",
       "      <td>siez</td>\n",
       "    </tr>\n",
       "    <tr>\n",
       "      <th>13</th>\n",
       "      <td>itemization</td>\n",
       "      <td>item</td>\n",
       "    </tr>\n",
       "    <tr>\n",
       "      <th>14</th>\n",
       "      <td>sensational</td>\n",
       "      <td>sensat</td>\n",
       "    </tr>\n",
       "    <tr>\n",
       "      <th>15</th>\n",
       "      <td>traditional</td>\n",
       "      <td>tradit</td>\n",
       "    </tr>\n",
       "    <tr>\n",
       "      <th>16</th>\n",
       "      <td>reference</td>\n",
       "      <td>refer</td>\n",
       "    </tr>\n",
       "    <tr>\n",
       "      <th>17</th>\n",
       "      <td>colonizer</td>\n",
       "      <td>colon</td>\n",
       "    </tr>\n",
       "    <tr>\n",
       "      <th>18</th>\n",
       "      <td>plotted</td>\n",
       "      <td>plot</td>\n",
       "    </tr>\n",
       "  </tbody>\n",
       "</table>\n",
       "</div>"
      ],
      "text/plain": [
       "   original word stemmed\n",
       "0       caresses  caress\n",
       "1          flies     fli\n",
       "2           dies     die\n",
       "3          mules    mule\n",
       "4         denied    deni\n",
       "5           died     die\n",
       "6         agreed    agre\n",
       "7          owned     own\n",
       "8        humbled   humbl\n",
       "9          sized    size\n",
       "10       meeting    meet\n",
       "11       stating   state\n",
       "12       siezing    siez\n",
       "13   itemization    item\n",
       "14   sensational  sensat\n",
       "15   traditional  tradit\n",
       "16     reference   refer\n",
       "17     colonizer   colon\n",
       "18       plotted    plot"
      ]
     },
     "execution_count": 6,
     "metadata": {},
     "output_type": "execute_result"
    }
   ],
   "source": [
    "stemmer = SnowballStemmer('english')\n",
    "original_words = ['caresses', 'flies', 'dies', 'mules', 'denied','died', 'agreed', 'owned', \n",
    "           'humbled', 'sized','meeting', 'stating', 'siezing', 'itemization','sensational', \n",
    "           'traditional', 'reference', 'colonizer','plotted']\n",
    "singles = [stemmer.stem(plural) for plural in original_words]\n",
    "pd.DataFrame(data = {'original word': original_words, 'stemmed': singles})"
   ]
  },
  {
   "cell_type": "markdown",
   "metadata": {},
   "source": [
    "### Lemmatization leverages vocabulary to make better sense of the words"
   ]
  },
  {
   "cell_type": "markdown",
   "metadata": {},
   "source": [
    "Lemmatization has the same goal as stemming above - it is a way to reduce words to their base (or root) form - but the approach is different. Stemmers follow an algorithmic approach to removing prefixes and suffixes of words, and the result may or may not be a real word that you would find in a dictionary. However a Lemmatizer uses a dictionary as a reference, and so Lemmatization converts the words of a sentence to their dictionary form or 'lemma'. For example, a Lemmatizer when run on the words amusement, amusing, and amused, would result in a lemma for each of these that is 'amuse'. So the result is always a dictionary word. Similary the lemma of the word ‘computers’ is ‘computer’, the lemma for ‘running’ is ‘run’, and the lemma for ‘mice’ is ‘mouse’. \n",
    "\n",
    "When should you use stemming vs lemmatization? If it is important that the result of reduction be a dictionary word, then use lemmatization. Stemming is essentially a crude heuristic process that trims the ends off words with the hope of being correct most of the time. Lemmatization is a way to do things properly with the use of a known vocabulary (i.e. a dictionary lookup). and an analysis of how words are being used in the text. If a lemmatizer is run on the word 'saw', it would attempt to return either 'see' or 'saw' depending on whether the word was being used as a verb or a noun. But a stemmer might only return 's'. However if speed is more important than accuracy, then use a stemmer - as a lemmatizer has to search through a dictionary while stemmers perform simple string operations.\n",
    "\n",
    "For more technical details on the differences between lemmatization and stemming see here: https://nlp.stanford.edu/IR-book/html/htmledition/stemming-and-lemmatization-1.html "
   ]
  },
  {
   "cell_type": "markdown",
   "metadata": {},
   "source": [
    "Just as we did above with the SnowballStemer, we will show how the WordNetLemmatizer algortithm included in the Natural Language Toolkit (NTLK) can reduce a few sample words down to their reduced form. The NLTK Lemmatization method is based on WordNet’s built-in morphy function. "
   ]
  },
  {
   "cell_type": "code",
   "execution_count": 7,
   "metadata": {},
   "outputs": [
    {
     "name": "stdout",
     "output_type": "stream",
     "text": [
      "go\n",
      "go\n",
      "go\n",
      "go\n"
     ]
    }
   ],
   "source": [
    "print(WordNetLemmatizer().lemmatize('go', pos='v'))\n",
    "print(WordNetLemmatizer().lemmatize('going', pos='v'))\n",
    "print(WordNetLemmatizer().lemmatize('gone', pos='v'))\n",
    "print(WordNetLemmatizer().lemmatize('went', pos='v'))"
   ]
  },
  {
   "cell_type": "markdown",
   "metadata": {},
   "source": [
    "### Combining dictionary lemmatization with stemmer\n",
    "\n",
    "For this study we will use a two step approach to pre-process the news headlines. First we will use wordnet lemmatization i.e. use a dictionary lookup to find the lemmas, and then after that we will additionally apply a Porter2 stemmer to the word vector. It can be expected that the first step itself will result in most lemmas, and the use of a stemmer after that will catch any missing words. To do this we will create a helper function to pre-process the headlines that combines lemmatization and stemming.\n",
    "\n",
    "We will also tell our helper function to ignore stop-words. These are words that do not contain important significance, and can usually be safely filtered out to avoid unnecessary information. For example common English stop words are 'as', 'the', 'be', 'are' ... etc."
   ]
  },
  {
   "cell_type": "code",
   "execution_count": 9,
   "metadata": {},
   "outputs": [],
   "source": [
    "def lemmatize_stemming(text):\n",
    "    return stemmer.stem(WordNetLemmatizer().lemmatize(text, pos='v'))\n",
    "\n",
    "def preprocess(text):\n",
    "    result = []\n",
    "    for token in gensim.utils.simple_preprocess(text):\n",
    "        if token not in gensim.parsing.preprocessing.STOPWORDS and len(token) > 3:\n",
    "            result.append(lemmatize_stemming(token))\n",
    "    return result"
   ]
  },
  {
   "cell_type": "markdown",
   "metadata": {},
   "source": [
    "We will select a random headline to use as an example through this project. This is the 3000th headline from the dataset. The original headline is \"Briton makes second big rowing attempt\". The pre-processed version of this headline is 'briton', 'make', 'second', 'row', 'attempt'."
   ]
  },
  {
   "cell_type": "code",
   "execution_count": 10,
   "metadata": {
    "scrolled": true
   },
   "outputs": [
    {
     "name": "stdout",
     "output_type": "stream",
     "text": [
      "original document: \n",
      "['briton', 'makes', 'second', 'big', 'rowing', 'attempt']\n",
      "\n",
      "\n",
      " tokenized, lemmatized, and stemmed document: \n",
      "['briton', 'make', 'second', 'row', 'attempt']\n"
     ]
    }
   ],
   "source": [
    "doc_sample = documents[documents['index'] == 3000].values[0][0]\n",
    "\n",
    "print('original document: ')\n",
    "words = []\n",
    "for word in doc_sample.split(' '):\n",
    "    words.append(word)\n",
    "print(words)\n",
    "print('\\n\\n tokenized, lemmatized, and stemmed document: ')\n",
    "print(preprocess(doc_sample))"
   ]
  },
  {
   "cell_type": "markdown",
   "metadata": {},
   "source": [
    "Now we pre-process the headlines, and save the results after tokenization, stemming and lemmatiztion into the variable 'processed_docs'.\n",
    "\n",
    "And as above we will do a quick sanity check by visually inspecting the processed headlines. This is another example of how we are protecting against GIGO - or Garbage In / Garbage Out.\n",
    "\n",
    "The processed headlines will be the training set that we use for our Machine Learning models in this project."
   ]
  },
  {
   "cell_type": "code",
   "execution_count": 11,
   "metadata": {},
   "outputs": [],
   "source": [
    "processed_docs = documents['headline_text'].map(preprocess)"
   ]
  },
  {
   "cell_type": "code",
   "execution_count": 12,
   "metadata": {},
   "outputs": [
    {
     "data": {
      "text/plain": [
       "0            [decid, communiti, broadcast, licenc]\n",
       "1                               [wit, awar, defam]\n",
       "2           [call, infrastructur, protect, summit]\n",
       "3                      [staff, aust, strike, rise]\n",
       "4             [strike, affect, australian, travel]\n",
       "5               [ambiti, olsson, win, tripl, jump]\n",
       "6           [antic, delight, record, break, barca]\n",
       "7    [aussi, qualifi, stosur, wast, memphi, match]\n",
       "8            [aust, address, secur, council, iraq]\n",
       "9                         [australia, lock, timet]\n",
       "Name: headline_text, dtype: object"
      ]
     },
     "execution_count": 12,
     "metadata": {},
     "output_type": "execute_result"
    }
   ],
   "source": [
    "processed_docs[:10]"
   ]
  },
  {
   "cell_type": "markdown",
   "metadata": {},
   "source": [
    "## Getting ready to train the Topic Modeling algorithm"
   ]
  },
  {
   "cell_type": "markdown",
   "metadata": {},
   "source": [
    "We will use Machine Learning in order to perform topic modeling on our corpus of news headlines. However Machine Learning algorithms cannot work with text directly - they operate on numbers. So we need a way to convert our corpus of headlines into a numeric format that the algorithms can understand. One way to do this is to use a Bag of Words model that is extracted from the corpus. This converts each headline (or row in the the corpus) into a vector of numbers - the vocabulawhich describe the occurence of words within the headline.  \n",
    "\n",
    "This method of constructing a bag-of-words model from the text (or BoW for short) is also known as feature extraction, or feature encoding. Conceptually this is a two step process:\n",
    "1) First construct the vocabulary of all (or most) words that occur within the corpus\n",
    "2) Next map each document within the corpus (or headline in this case) into a vector that measures whether each of the known words is present within the document or not.\n",
    "\n",
    "This approach to convert text into numeric data is very simple and flexible. It is called a “bag” of words, because the model ignores any information about the order or structure of words in the document. Rather the model only keeps track of whether known words occur in each document, and not where they occur within the document. The reasoning behind this is that similar documents have similar content, and that we just need the words in the document (ignoring ordering) in order to learn about the meaning of the document.\n",
    "\n",
    "So as described here we will first create a dictionary of the 'known words' that occur within the training set."
   ]
  },
  {
   "cell_type": "code",
   "execution_count": 13,
   "metadata": {},
   "outputs": [],
   "source": [
    "dictionary = gensim.corpora.Dictionary(processed_docs)"
   ]
  },
  {
   "cell_type": "code",
   "execution_count": 14,
   "metadata": {},
   "outputs": [
    {
     "name": "stdout",
     "output_type": "stream",
     "text": [
      "0 broadcast\n",
      "1 communiti\n",
      "2 decid\n",
      "3 licenc\n",
      "4 awar\n",
      "5 defam\n",
      "6 wit\n",
      "7 call\n",
      "8 infrastructur\n",
      "9 protect\n",
      "10 summit\n"
     ]
    }
   ],
   "source": [
    "count = 0\n",
    "for k, v in dictionary.iteritems():\n",
    "    print(k, v)\n",
    "    count += 1\n",
    "    if count > 10:\n",
    "        break"
   ]
  },
  {
   "cell_type": "markdown",
   "metadata": {},
   "source": [
    "This project is using unsupervised machine learning - because the news headlines are not labeled data. However even though unsupervised techniques are being used, we can apply some human judgement to the learning process. We will filter out tokens which are not representive of the topics in this dataset - either because they appear too infrequently, or appear too often. And then we will keep only the most frequent tokens so that we are not dealing with a long tail of topics that users might not care about.\n",
    "\n",
    "To do this we will filter out tokens that appear in less than 15 headlines, or that are in more than 50% of the headlines (e.g. common words like 'the', 'and', ...). And after filtering out these tokens, we will keep only the 100,000 most frequent remaining tokens."
   ]
  },
  {
   "cell_type": "code",
   "execution_count": 15,
   "metadata": {},
   "outputs": [],
   "source": [
    "dictionary.filter_extremes(no_below=15, no_above=0.5, keep_n=100000)"
   ]
  },
  {
   "cell_type": "markdown",
   "metadata": {},
   "source": [
    "Now we use gensim bag of words - to create a dictionary that has the frequency of how often each token appears in the dataset. This is saved in the variable 'bow_corpus'.\n",
    "\n",
    "After that we check the tokens in our sample document selected earlier. We can see that tokens 316 ('attempt'), 443 ('second'), 709 ('make'), 1171 ('briton') and 3364 ('row') each appear exactly once in the sample document - which is what we expect."
   ]
  },
  {
   "cell_type": "code",
   "execution_count": 16,
   "metadata": {},
   "outputs": [
    {
     "data": {
      "text/plain": [
       "[(316, 1), (443, 1), (709, 1), (1171, 1), (3364, 1)]"
      ]
     },
     "execution_count": 16,
     "metadata": {},
     "output_type": "execute_result"
    }
   ],
   "source": [
    "bow_corpus = [dictionary.doc2bow(doc) for doc in processed_docs]\n",
    "bow_corpus[3000]"
   ]
  },
  {
   "cell_type": "code",
   "execution_count": 17,
   "metadata": {
    "scrolled": true
   },
   "outputs": [
    {
     "name": "stdout",
     "output_type": "stream",
     "text": [
      "Word 316 (\"attempt\") appears 1 time.\n",
      "Word 443 (\"second\") appears 1 time.\n",
      "Word 709 (\"make\") appears 1 time.\n",
      "Word 1171 (\"briton\") appears 1 time.\n",
      "Word 3364 (\"row\") appears 1 time.\n"
     ]
    }
   ],
   "source": [
    "bow_doc_3000 = bow_corpus[3000]\n",
    "\n",
    "for i in range(len(bow_doc_3000)):\n",
    "    print(\"Word {} (\\\"{}\\\") appears {} time.\".format(bow_doc_3000[i][0], \n",
    "                                                     dictionary[bow_doc_3000[i][0]], \n",
    "                                                     bow_doc_3000[i][1]))"
   ]
  },
  {
   "cell_type": "markdown",
   "metadata": {},
   "source": [
    "## Building the Topic Model using the LDA algorithm"
   ]
  },
  {
   "cell_type": "markdown",
   "metadata": {},
   "source": [
    "There are several topic modeling algorithms available, for example latent semantic analysis (LSA), hierarchical Dirichlet process (HDP), and latent Dirichlet allocation (LDA). The LDA algorithm is quite popular, as it has shown good results in practice and so has been widely adopted. The LDA algorithm is the one that we will use here.\n",
    "\n",
    "We have everything required to train the LDA model, but we also need to provide some parameters for the model training. This is a summary of everything that is needed to train the model:\n",
    "\n",
    "1. The corpus of news headlines\n",
    "2. The dictionary of commonly used words within the corpus\n",
    "3. The number of topics\n",
    "4. Apart from that, alpha and eta are hyperparameters that affect sparsity of the topics. According to the Gensim docs, both defaults to 1.0/num_topics prior.\n",
    "5. chunksize is the number of documents to be used in each training chunk. \n",
    "6. update_every determines how often the model parameters should be updated\n",
    "7. passes is the total number of training passes\n",
    "\n",
    "There is an easy to use implementation of the LDA algorithm in Python’s Gensim package. And so we will start with this implementation of the algorithm, by loading the python libraries from gensim, and then applying them to the dataset of news headlines. "
   ]
  },
  {
   "cell_type": "code",
   "execution_count": 18,
   "metadata": {},
   "outputs": [],
   "source": [
    "from gensim import corpora, models\n",
    "\n",
    "lda_model = gensim.models.LdaMulticore(bow_corpus, num_topics=10, id2word=dictionary, passes=2, workers=2)"
   ]
  },
  {
   "cell_type": "code",
   "execution_count": 19,
   "metadata": {},
   "outputs": [
    {
     "name": "stdout",
     "output_type": "stream",
     "text": [
      "Topic: 0 \n",
      "Words: 0.029*\"elect\" + 0.019*\"death\" + 0.018*\"say\" + 0.017*\"hospit\" + 0.016*\"tasmanian\" + 0.015*\"labor\" + 0.013*\"deal\" + 0.013*\"china\" + 0.011*\"polit\" + 0.011*\"talk\"\n",
      "Topic: 1 \n",
      "Words: 0.019*\"nation\" + 0.018*\"coast\" + 0.016*\"help\" + 0.016*\"countri\" + 0.015*\"state\" + 0.015*\"chang\" + 0.014*\"health\" + 0.013*\"tasmania\" + 0.013*\"hour\" + 0.013*\"indigen\"\n",
      "Topic: 2 \n",
      "Words: 0.019*\"canberra\" + 0.018*\"market\" + 0.014*\"rise\" + 0.014*\"west\" + 0.014*\"australian\" + 0.013*\"turnbul\" + 0.013*\"price\" + 0.013*\"share\" + 0.011*\"victoria\" + 0.010*\"bank\"\n",
      "Topic: 3 \n",
      "Words: 0.063*\"polic\" + 0.024*\"crash\" + 0.019*\"interview\" + 0.019*\"miss\" + 0.018*\"shoot\" + 0.016*\"arrest\" + 0.015*\"investig\" + 0.013*\"driver\" + 0.012*\"search\" + 0.011*\"offic\"\n",
      "Topic: 4 \n",
      "Words: 0.029*\"charg\" + 0.027*\"court\" + 0.021*\"murder\" + 0.018*\"woman\" + 0.018*\"face\" + 0.016*\"die\" + 0.016*\"alleg\" + 0.015*\"brisban\" + 0.015*\"live\" + 0.015*\"jail\"\n",
      "Topic: 5 \n",
      "Words: 0.035*\"australia\" + 0.022*\"melbourn\" + 0.021*\"world\" + 0.017*\"open\" + 0.014*\"final\" + 0.013*\"donald\" + 0.012*\"sydney\" + 0.010*\"leagu\" + 0.010*\"take\" + 0.010*\"road\"\n",
      "Topic: 6 \n",
      "Words: 0.027*\"south\" + 0.025*\"kill\" + 0.015*\"island\" + 0.013*\"fall\" + 0.011*\"attack\" + 0.010*\"forc\" + 0.009*\"shark\" + 0.009*\"east\" + 0.007*\"northern\" + 0.007*\"bring\"\n",
      "Topic: 7 \n",
      "Words: 0.019*\"council\" + 0.015*\"power\" + 0.013*\"farmer\" + 0.011*\"industri\" + 0.011*\"guilti\" + 0.011*\"christma\" + 0.010*\"region\" + 0.009*\"research\" + 0.009*\"look\" + 0.009*\"energi\"\n",
      "Topic: 8 \n",
      "Words: 0.037*\"trump\" + 0.032*\"australian\" + 0.019*\"queensland\" + 0.014*\"leav\" + 0.014*\"australia\" + 0.012*\"say\" + 0.011*\"show\" + 0.011*\"royal\" + 0.010*\"game\" + 0.009*\"meet\"\n",
      "Topic: 9 \n",
      "Words: 0.035*\"govern\" + 0.021*\"test\" + 0.018*\"rural\" + 0.014*\"break\" + 0.012*\"school\" + 0.012*\"news\" + 0.011*\"busi\" + 0.010*\"violenc\" + 0.010*\"say\" + 0.009*\"worker\"\n"
     ]
    }
   ],
   "source": [
    "for idx, topic in lda_model.print_topics(-1):\n",
    "    print('Topic: {} \\nWords: {}'.format(idx, topic))"
   ]
  },
  {
   "cell_type": "markdown",
   "metadata": {},
   "source": [
    "## Visualizing the results of the topic model"
   ]
  },
  {
   "cell_type": "markdown",
   "metadata": {},
   "source": [
    "Above we printed out the keywords in each topic. But visualization of the topic model is important in order to test our original goal - that the topics are meaningful to a human, while at the same time being separate and distinct from each other. There are different ways to visualize the topic model, by distinguishing between the different topics using the keywords in each topic and their corresponding weights.\n",
    "The first visualization we will try is a word cloud - with the size of the keywords proportional to the corresponding weight. "
   ]
  },
  {
   "cell_type": "code",
   "execution_count": 20,
   "metadata": {},
   "outputs": [
    {
     "data": {
      "text/plain": [
       "<Figure size 1000x1000 with 10 Axes>"
      ]
     },
     "metadata": {},
     "output_type": "display_data"
    }
   ],
   "source": [
    "# 1. Wordcloud of Top N words in each topic\n",
    "from matplotlib import pyplot as plt\n",
    "from wordcloud import WordCloud, STOPWORDS\n",
    "import matplotlib.colors as mcolors\n",
    "\n",
    "cols = [color for name, color in mcolors.TABLEAU_COLORS.items()]  # more colors: 'mcolors.XKCD_COLORS'\n",
    "\n",
    "cloud = WordCloud(stopwords=gensim.parsing.preprocessing.STOPWORDS,\n",
    "                  background_color='white',\n",
    "                  width=2500,\n",
    "                  height=1800,\n",
    "                  max_words=10,\n",
    "                  colormap='tab10',\n",
    "                  color_func=lambda *args, **kwargs: cols[i],\n",
    "                  prefer_horizontal=1.0)\n",
    "\n",
    "topics = lda_model.show_topics(formatted=False)\n",
    "\n",
    "fig, axes = plt.subplots(5, 2, figsize=(10,10), sharex=True, sharey=True)\n",
    "\n",
    "for i, ax in enumerate(axes.flatten()):\n",
    "    fig.add_subplot(ax)\n",
    "    topic_words = dict(topics[i][1])\n",
    "    cloud.generate_from_frequencies(topic_words, max_font_size=300)\n",
    "    plt.gca().imshow(cloud)\n",
    "    plt.gca().set_title('Topic ' + str(i+1), fontdict=dict(size=16))\n",
    "    plt.gca().axis('off')\n",
    "\n",
    "\n",
    "plt.subplots_adjust(wspace=0, hspace=0)\n",
    "plt.axis('off')\n",
    "plt.margins(x=0, y=0)\n",
    "plt.tight_layout()\n",
    "plt.show()"
   ]
  },
  {
   "cell_type": "code",
   "execution_count": 21,
   "metadata": {},
   "outputs": [
    {
     "data": {
      "image/png": "[encoded data removed]",
      "text/plain": [
       "<Figure size 1000x1000 with 10 Axes>"
      ]
     },
     "execution_count": 21,
     "metadata": {},
     "output_type": "execute_result"
    }
   ],
   "source": [
    "fig"
   ]
  },
  {
   "cell_type": "markdown",
   "metadata": {},
   "source": [
    "## Evaluate how well the topic model can be interpreted by a human\n",
    "\n",
    "We need a way to measure how good the topic model is. One metric for this is called topic coherence, and it measures how well the model can be interpreted by a human. Therefore the coherence score probides a way to compare different topic models. And fortunately gensim provides a convenient way to calculate this score. You can see below that the coherence score for our topic model is 0.22.\n",
    "\n",
    "After calculating this, we will evaluate ways to improve the topic model further."
   ]
  },
  {
   "cell_type": "code",
   "execution_count": 22,
   "metadata": {},
   "outputs": [
    {
     "name": "stdout",
     "output_type": "stream",
     "text": [
      "\n",
      "Coherence Score:  0.23043337647143503\n"
     ]
    }
   ],
   "source": [
    "from gensim.models.coherencemodel import CoherenceModel\n",
    "\n",
    "# Compute Perplexity\n",
    "# print('\\nPerplexity: ', lda_model.log_perplexity(corpus))  # a measure of how good the model is. lower the better.\n",
    "\n",
    "# Compute Coherence Score\n",
    "coherence_model_lda = CoherenceModel(model=lda_model, texts=processed_docs, dictionary=dictionary, coherence='c_v')\n",
    "coherence_lda = coherence_model_lda.get_coherence()\n",
    "print('\\nCoherence Score: ', coherence_lda)"
   ]
  },
  {
   "cell_type": "markdown",
   "metadata": {},
   "source": [
    "## Improving the Topic Model by reducing the impact of non representative words"
   ]
  },
  {
   "cell_type": "markdown",
   "metadata": {},
   "source": [
    "The technique used above with \"bag of words\" is based on analyzing the frequency at which words appear in documents. So the principle used is that a document can be represented by the words that appear most frequently in it. These are words with high \"term frequency\" or tf - and mathematically this can be expressed as:\n",
    "\n",
    "TF(t,doc) = (Number of times the term 't' appears in the document 'doc') / (Total number of terms in the document 'doc').\n",
    "\n",
    "You can see that the normalized Term Frequency (TF) is the number of times a word appears in a document, divided by the total number of words in that document. Since every document is different in length, it is possible that a term would appear much more times in long documents than shorter ones. Thus, the term frequency is divided by the document length (i.e. the total number of terms in the document) for normalization. \n",
    "\n",
    "However while this principle seems reasonable, it doesn't work very well in practice, as some words like 'this', 'a', 'and', ...  occur very frequently across all documents - but aren't representative of the content in the documents. So term frequency is not a very useful metric by itself, in order to summarize a document or a paragraph using just a few keywords. \n",
    "\n",
    "The way to fix this, is to also include a measure of how unique a word is i.e. how infrequently the word occurs across all documents in the corpus. This metric is called the \"inverse document frequency\" or idf - and mathematically this can be expressed as:\n",
    "\n",
    "IDF(t) = log_e(Total number of documents / Number of documents with term t in it). \n",
    "\n",
    "So the Inverse Document Frequency (IDF) is calculated as the logarithm of the number of the documents in the corpus divided by the number of documents where the specific term appears. It is a measure of how important a term is. \n",
    "\n",
    "While computing TF, all terms are considered equally important. However it is known that certain terms, such as \"is\", \"of\", and \"that\", may appear a lot of times but have little importance. Thus we need to weigh down the frequent terms while scale up the rare ones. So a commonly used metric is the product of tf x idf for each word in the vocabulary that we constructed from the corpus of documents. This is known as the \"tf-idf\" weight (i.e. the \"term frequency-inverse document frequency\" weight). This metric can be calculated for each word appearing in a document, from the product of how frequent this word is in that document multiplied by how unique the word is across the entire corpus of documents. \n",
    "\n",
    "Words with a high tf-idf score in a document both occur frequently in the document, and also provide the most information about that specific document. And that is why the tf-idf weight is a weight that is often used in information retrieval and text mining. This weight is a statistical measure used to evaluate how important a word is to a document in a collection or corpus. The importance increases proportionally to the number of times a word appears in the document but is offset by the frequency of the word in the corpus. \n",
    "\n",
    "EXAMPLE:\n",
    "1. Consider a document containing 100 words wherein the word 'dog' appears 7 times. \n",
    "2. The term frequency (i.e., tf) for 'dog' is then (7 / 100) = 0.07. \n",
    "3. Now, assume we have a million documents and the word 'dog' appears in one thousand of these. \n",
    "4. Then, the inverse document frequency (i.e., idf) is calculated as log(1,000,000 / 1,000) = 3. \n",
    "5. Thus, the Tf-idf weight is the product of these quantities: 0.07 * 3 = 0.21.\n"
   ]
  },
  {
   "cell_type": "code",
   "execution_count": 23,
   "metadata": {},
   "outputs": [],
   "source": [
    "from gensim import corpora, models\n",
    "\n",
    "tfidf = models.TfidfModel(bow_corpus)"
   ]
  },
  {
   "cell_type": "code",
   "execution_count": 24,
   "metadata": {},
   "outputs": [],
   "source": [
    "corpus_tfidf = tfidf[bow_corpus]"
   ]
  },
  {
   "cell_type": "code",
   "execution_count": 25,
   "metadata": {},
   "outputs": [
    {
     "name": "stdout",
     "output_type": "stream",
     "text": [
      "[(0, 0.5892908644709983),\n",
      " (1, 0.38929657403503015),\n",
      " (2, 0.4964985198530063),\n",
      " (3, 0.5046520328695662)]\n"
     ]
    }
   ],
   "source": [
    "from pprint import pprint\n",
    "\n",
    "for doc in corpus_tfidf:\n",
    "    pprint(doc)\n",
    "    break"
   ]
  },
  {
   "cell_type": "markdown",
   "metadata": {},
   "source": [
    "## Re-building the topic model using TF-IDF weights"
   ]
  },
  {
   "cell_type": "markdown",
   "metadata": {},
   "source": [
    "Now we'll generate another LDA model using the TF-IDF weights."
   ]
  },
  {
   "cell_type": "code",
   "execution_count": 26,
   "metadata": {},
   "outputs": [],
   "source": [
    "lda_model_tfidf = gensim.models.LdaMulticore(corpus_tfidf, num_topics=10, id2word=dictionary, passes=2, workers=4)"
   ]
  },
  {
   "cell_type": "code",
   "execution_count": 27,
   "metadata": {},
   "outputs": [
    {
     "name": "stdout",
     "output_type": "stream",
     "text": [
      "Topic: 0 Word: 0.020*\"polic\" + 0.019*\"charg\" + 0.016*\"murder\" + 0.013*\"court\" + 0.012*\"alleg\" + 0.011*\"death\" + 0.011*\"jail\" + 0.011*\"woman\" + 0.010*\"arrest\" + 0.009*\"assault\"\n",
      "Topic: 1 Word: 0.014*\"news\" + 0.014*\"crash\" + 0.012*\"rural\" + 0.010*\"north\" + 0.008*\"south\" + 0.007*\"korea\" + 0.007*\"ash\" + 0.006*\"west\" + 0.006*\"octob\" + 0.006*\"die\"\n",
      "Topic: 2 Word: 0.008*\"grandstand\" + 0.008*\"marriag\" + 0.007*\"septemb\" + 0.007*\"novemb\" + 0.007*\"violenc\" + 0.006*\"malcolm\" + 0.006*\"domest\" + 0.006*\"andrew\" + 0.005*\"quiz\" + 0.005*\"say\"\n",
      "Topic: 3 Word: 0.009*\"christma\" + 0.006*\"health\" + 0.006*\"elect\" + 0.006*\"rugbi\" + 0.006*\"farm\" + 0.005*\"stori\" + 0.005*\"mental\" + 0.005*\"august\" + 0.005*\"tasmanian\" + 0.005*\"indigen\"\n",
      "Topic: 4 Word: 0.018*\"countri\" + 0.017*\"hour\" + 0.010*\"interview\" + 0.009*\"govern\" + 0.006*\"abbott\" + 0.005*\"wall\" + 0.005*\"cut\" + 0.005*\"asylum\" + 0.005*\"say\" + 0.004*\"union\"\n",
      "Topic: 5 Word: 0.022*\"trump\" + 0.007*\"michael\" + 0.007*\"friday\" + 0.007*\"juli\" + 0.006*\"video\" + 0.005*\"anim\" + 0.005*\"care\" + 0.005*\"know\" + 0.005*\"steal\" + 0.005*\"updat\"\n",
      "Topic: 6 Word: 0.010*\"weather\" + 0.007*\"plead\" + 0.007*\"cattl\" + 0.007*\"hobart\" + 0.005*\"histori\" + 0.005*\"wild\" + 0.005*\"warn\" + 0.005*\"coast\" + 0.004*\"queensland\" + 0.004*\"sydney\"\n",
      "Topic: 7 Word: 0.008*\"final\" + 0.007*\"leagu\" + 0.007*\"sport\" + 0.006*\"peter\" + 0.005*\"decemb\" + 0.005*\"open\" + 0.005*\"rain\" + 0.005*\"world\" + 0.005*\"dairi\" + 0.005*\"murray\"\n",
      "Topic: 8 Word: 0.010*\"donald\" + 0.009*\"australia\" + 0.007*\"kill\" + 0.006*\"wednesday\" + 0.005*\"syria\" + 0.005*\"islam\" + 0.005*\"zealand\" + 0.005*\"australian\" + 0.005*\"russia\" + 0.005*\"suicid\"\n",
      "Topic: 9 Word: 0.012*\"market\" + 0.011*\"podcast\" + 0.011*\"drum\" + 0.010*\"turnbul\" + 0.009*\"share\" + 0.006*\"dollar\" + 0.006*\"australian\" + 0.006*\"tuesday\" + 0.006*\"mother\" + 0.006*\"price\"\n"
     ]
    }
   ],
   "source": [
    "for idx, topic in lda_model_tfidf.print_topics(-1):\n",
    "    print('Topic: {} Word: {}'.format(idx, topic))"
   ]
  },
  {
   "cell_type": "code",
   "execution_count": 28,
   "metadata": {},
   "outputs": [],
   "source": [
    "lda_model_tfidf.save('./saved-state/lda_model_tfidf')\n",
    "\n",
    "gensim.corpora.MmCorpus.serialize('./saved-state/corpus_tfidf.mm', corpus_tfidf)"
   ]
  },
  {
   "cell_type": "markdown",
   "metadata": {},
   "source": [
    "## Visualizing the results of the improved topic model"
   ]
  },
  {
   "cell_type": "markdown",
   "metadata": {},
   "source": [
    "Add the second section on data visualization here - for the improved topic model. This should show how to distinguish different topics using the words in each topic and their corresponding weights."
   ]
  },
  {
   "cell_type": "code",
   "execution_count": 29,
   "metadata": {},
   "outputs": [
    {
     "data": {
      "image/png": "[encoded data removed]",
      "text/plain": [
       "<Figure size 720x720 with 10 Axes>"
      ]
     },
     "metadata": {
      "needs_background": "light"
     },
     "output_type": "display_data"
    }
   ],
   "source": [
    "# 1. Wordcloud of Top N words in each topic\n",
    "cols2 = [color for name, color in mcolors.TABLEAU_COLORS.items()]  # more colors: 'mcolors.XKCD_COLORS'\n",
    "\n",
    "cloud2 = WordCloud(stopwords=gensim.parsing.preprocessing.STOPWORDS,\n",
    "                  background_color='white',\n",
    "                  width=2500,\n",
    "                  height=1800,\n",
    "                  max_words=10,\n",
    "                  colormap='tab10',\n",
    "                  color_func=lambda *args, **kwargs: cols2[i],\n",
    "                  prefer_horizontal=1.0)\n",
    "\n",
    "topics2 = lda_model_tfidf.show_topics(formatted=False)\n",
    "\n",
    "fig2, axes2 = plt.subplots(5, 2, figsize=(10,10), sharex=True, sharey=True)\n",
    "\n",
    "for i, ax in enumerate(axes2.flatten()):\n",
    "    fig2.add_subplot(ax)\n",
    "    topic_words = dict(topics2[i][1])\n",
    "    cloud2.generate_from_frequencies(topic_words, max_font_size=300)\n",
    "    plt.gca().imshow(cloud2)\n",
    "    plt.gca().set_title('Topic ' + str(i+1), fontdict=dict(size=16))\n",
    "    plt.gca().axis('off')\n",
    "\n",
    "plt.subplots_adjust(wspace=0, hspace=0)\n",
    "plt.axis('off')\n",
    "plt.margins(x=0, y=0)\n",
    "plt.tight_layout()\n",
    "plt.show()"
   ]
  },
  {
   "cell_type": "markdown",
   "metadata": {},
   "source": [
    "## How good is this improved Topic Model?\n",
    "\n",
    "### Evaluate how well the topic model can be interpreted by a human\n",
    "\n",
    "We can now re-calulate the topic coherence score. You can see below that using the TF-IDF weights to reduce the impact of non representative words has increased the coherence score for our topic model from 0.22 to 0.37."
   ]
  },
  {
   "cell_type": "code",
   "execution_count": 30,
   "metadata": {},
   "outputs": [
    {
     "name": "stdout",
     "output_type": "stream",
     "text": [
      "env: PYTHONWARNINGS=ignore::DeprecationWarning\n",
      "\n",
      "Coherence Score:  0.35672040693123513\n"
     ]
    }
   ],
   "source": [
    "%env PYTHONWARNINGS=ignore::DeprecationWarning\n",
    "\n",
    "from gensim.models.coherencemodel import CoherenceModel\n",
    "\n",
    "# Compute Perplexity\n",
    "# print('\\nPerplexity: ', lda_model_tfidf.log_perplexity(corpus_tfidf))  # a measure of how good the model is. lower the better.\n",
    "\n",
    "# Compute Coherence Score\n",
    "coherence_model_lda_tfidf = CoherenceModel(model=lda_model_tfidf, texts=processed_docs, dictionary=dictionary, coherence='c_v')\n",
    "coherence_lda_tfidf = coherence_model_lda_tfidf.get_coherence()\n",
    "print('\\nCoherence Score: ', coherence_lda_tfidf)"
   ]
  },
  {
   "cell_type": "code",
   "execution_count": 31,
   "metadata": {
    "scrolled": true
   },
   "outputs": [],
   "source": [
    "import os\n",
    "from gensim.models.wrappers import LdaMallet\n",
    "os.environ.update({'MALLET_HOME':r'C:/mallet-2.0.8/'})\n",
    "# os.environ.update({'PATH':r'C:\\Program Files (x86)\\Common Files\\Oracle\\Java\\javapath;C:\\WINDOWS\\system32;C:\\WINDOWS;C:\\WINDOWS\\System32\\Wbem;C:\\WINDOWS\\System32\\WindowsPowerShell\\v1.0\\;C:\\WINDOWS\\System32\\OpenSSH\\;C:\\Program Files\\Git\\cmd;C:\\Users\\atanu\\AppData\\Local\\Microsoft\\WindowsApps;;C:\\Program Files\\Microsoft VS Code\\bin'})\n",
    "\n",
    "mallet_path = 'C:/mallet-2.0.8/bin/mallet'\n",
    "lda_model_mallet = gensim.models.wrappers.LdaMallet(mallet_path, corpus=bow_corpus, num_topics=10, id2word=dictionary)"
   ]
  },
  {
   "cell_type": "code",
   "execution_count": 32,
   "metadata": {
    "scrolled": true
   },
   "outputs": [
    {
     "name": "stdout",
     "output_type": "stream",
     "text": [
      "[(0,\n",
      "  [('open', 0.02165142660143809),\n",
      "   ('world', 0.01864308697507962),\n",
      "   ('test', 0.017015792757001675),\n",
      "   ('win', 0.016710033818169878),\n",
      "   ('final', 0.015936402140722988),\n",
      "   ('lead', 0.015010917030567686),\n",
      "   ('australia', 0.013147634369767213),\n",
      "   ('aussi', 0.011087352661128804),\n",
      "   ('play', 0.009150195357389106),\n",
      "   ('live', 0.00903527924615031)]),\n",
      " (1,\n",
      "  [('plan', 0.0466766554293087),\n",
      "   ('council', 0.03882715278644858),\n",
      "   ('water', 0.025979106838140427),\n",
      "   ('rise', 0.019120156490614725),\n",
      "   ('coast', 0.01775710658842136),\n",
      "   ('fear', 0.017201481666458567),\n",
      "   ('concern', 0.01568027635576643),\n",
      "   ('price', 0.015592874682648687),\n",
      "   ('industri', 0.014375494235651558),\n",
      "   ('green', 0.013106088983227203)]),\n",
      " (2,\n",
      "  [('sydney', 0.023464554015781805),\n",
      "   ('hous', 0.021793019925947885),\n",
      "   ('home', 0.019995332319900087),\n",
      "   ('power', 0.015914266070381048),\n",
      "   ('work', 0.01573975370628518),\n",
      "   ('melbourn', 0.014280578035411292),\n",
      "   ('forc', 0.012871863771022958),\n",
      "   ('worker', 0.012260019217385636),\n",
      "   ('adelaid', 0.012165404080225225),\n",
      "   ('secur', 0.01200560962635431)]),\n",
      " (3,\n",
      "  [('govt', 0.03658498883963075),\n",
      "   ('urg', 0.027530971828054057),\n",
      "   ('fund', 0.027170295074804358),\n",
      "   ('chang', 0.02241760597198263),\n",
      "   ('health', 0.02138916197271635),\n",
      "   ('hospit', 0.020261789492558722),\n",
      "   ('call', 0.019703255777526334),\n",
      "   ('seek', 0.018180169373803325),\n",
      "   ('boost', 0.01775147928994083),\n",
      "   ('govern', 0.017648428789012342)]),\n",
      " (4,\n",
      "  [('charg', 0.040152565591961994),\n",
      "   ('court', 0.03486232037941531),\n",
      "   ('face', 0.02777743078543798),\n",
      "   ('murder', 0.02325750856724087),\n",
      "   ('jail', 0.021312963495017885),\n",
      "   ('claim', 0.021006916251316836),\n",
      "   ('accus', 0.019532892791858728),\n",
      "   ('drug', 0.01827955646051158),\n",
      "   ('trial', 0.014663202295146132),\n",
      "   ('case', 0.014223909992962995)]),\n",
      " (5,\n",
      "  [('interview', 0.03343125359218341),\n",
      "   ('year', 0.023383783553653916),\n",
      "   ('australian', 0.015496945313664133),\n",
      "   ('chief', 0.009962321987355515),\n",
      "   ('sign', 0.008874555633607936),\n",
      "   ('return', 0.008719160440215425),\n",
      "   ('give', 0.008612725376247951),\n",
      "   ('award', 0.00817847031526066),\n",
      "   ('time', 0.007754858760670115),\n",
      "   ('life', 0.007469612789237286)]),\n",
      " (6,\n",
      "  [('warn', 0.027296063290340226),\n",
      "   ('flood', 0.017095545689818418),\n",
      "   ('farmer', 0.01690197151093063),\n",
      "   ('south', 0.01675258274244114),\n",
      "   ('north', 0.014469669871862309),\n",
      "   ('west', 0.011980558419424747),\n",
      "   ('queensland', 0.011507143308014391),\n",
      "   ('farm', 0.011117890883076988),\n",
      "   ('storm', 0.010099522376754266),\n",
      "   ('rain', 0.00972079028762598)]),\n",
      " (7,\n",
      "  [('report', 0.03022595313643609),\n",
      "   ('nation', 0.019296385048555704),\n",
      "   ('rural', 0.01573926087782228),\n",
      "   ('record', 0.014403472197030965),\n",
      "   ('break', 0.013249060573535594),\n",
      "   ('countri', 0.012871369524813448),\n",
      "   ('hour', 0.01114722055663552),\n",
      "   ('australia', 0.010961575803873786),\n",
      "   ('news', 0.01050920008450037),\n",
      "   ('student', 0.010261673747484728)]),\n",
      " (8,\n",
      "  [('polic', 0.07450815810533636),\n",
      "   ('kill', 0.030307705917326535),\n",
      "   ('death', 0.027697029918881833),\n",
      "   ('crash', 0.02701195891219776),\n",
      "   ('attack', 0.024343679345623467),\n",
      "   ('miss', 0.02051509933529597),\n",
      "   ('woman', 0.018523661694244374),\n",
      "   ('road', 0.016270950726319275),\n",
      "   ('die', 0.015947959290735496),\n",
      "   ('investig', 0.015820408532734257)]),\n",
      " (9,\n",
      "  [('market', 0.01967509776187703),\n",
      "   ('elect', 0.018847241867043847),\n",
      "   ('labor', 0.014676761793826442),\n",
      "   ('busi', 0.014601880356102838),\n",
      "   ('deal', 0.014187952408686247),\n",
      "   ('meet', 0.013645061985190115),\n",
      "   ('talk', 0.01209543223229886),\n",
      "   ('fall', 0.012080871952741493),\n",
      "   ('share', 0.011573342208170396),\n",
      "   ('leader', 0.010934769947582993)])]\n"
     ]
    }
   ],
   "source": [
    "# Show Topics\n",
    "pprint(lda_model_mallet.show_topics(formatted=False))"
   ]
  },
  {
   "cell_type": "code",
   "execution_count": 33,
   "metadata": {},
   "outputs": [
    {
     "name": "stdout",
     "output_type": "stream",
     "text": [
      "\n",
      "Coherence Score:  0.26195693528592806\n"
     ]
    }
   ],
   "source": [
    "# Compute Coherence Score\n",
    "\n",
    "coherence_model_lda_mallet = CoherenceModel(model=lda_model_mallet, texts=processed_docs, dictionary=dictionary, coherence='c_v')\n",
    "coherence_lda_mallet = coherence_model_lda_mallet.get_coherence()\n",
    "\n",
    "print('\\nCoherence Score: ', coherence_lda_mallet)"
   ]
  },
  {
   "cell_type": "code",
   "execution_count": 34,
   "metadata": {},
   "outputs": [
    {
     "name": "stdout",
     "output_type": "stream",
     "text": [
      "\n",
      "Coherence Score:  0.4492683941571956\n"
     ]
    }
   ],
   "source": [
    "# Train model with both Mallet and TF-IDF\n",
    "\n",
    "lda_model_mallet_tfidf = gensim.models.wrappers.LdaMallet(mallet_path, corpus=corpus_tfidf, num_topics=10, id2word=dictionary)\n",
    "\n",
    "# Compute Coherence Score for model trained using both Mallet and TF-IDF\n",
    "\n",
    "coherence_model_lda_mallet_tfidf = CoherenceModel(model=lda_model_mallet_tfidf, texts=processed_docs, dictionary=dictionary, coherence='c_v')\n",
    "coherence_lda_mallet_tfidf = coherence_model_lda_mallet_tfidf.get_coherence()\n",
    "print('\\nCoherence Score: ', coherence_lda_mallet_tfidf)"
   ]
  },
  {
   "cell_type": "markdown",
   "metadata": {},
   "source": [
    "### Visualizing the overlap across models\n",
    "\n",
    "An interactive tool to examine the produced topics and the associated keywords is the pyLDAvis package - which comes with an interactive chart. \n",
    "\n",
    "Each bubble on the left-hand side plot represents a topic. The larger the bubble, the more prevalent is that topic - because the area of each circle represents the importance of that topic over the entire corpus of documents which were used to train the model.  \n",
    "\n",
    "The distance between the center of the circles represents the similarity between topics. So two circles that are close by, represnt topics that are similar. \n",
    "\n",
    "A good topic model will have fairly big, non-overlapping bubbles scattered throughout the chart instead of being clustered in one quadrant. A model with too many topics, will typically have many overlaps, small sized bubbles clustered in one region of the chart.\n",
    "\n",
    "For each topic, the histogram on the right side listed the top 30 most relevant terms. So if you move the cursor over one of the bubbles, the words and bars on the right-hand side will update. These words are the representative keywords that form the selected topic."
   ]
  },
  {
   "cell_type": "code",
   "execution_count": 35,
   "metadata": {
    "scrolled": false
   },
   "outputs": [
    {
     "name": "stderr",
     "output_type": "stream",
     "text": [
      "C:\\Users\\atanu\\Anaconda3\\lib\\site-packages\\pyLDAvis\\_prepare.py:257: FutureWarning: Sorting because non-concatenation axis is not aligned. A future version\n",
      "of pandas will change to not sort by default.\n",
      "\n",
      "To accept the future behavior, pass 'sort=False'.\n",
      "\n",
      "To retain the current behavior and silence the warning, pass 'sort=True'.\n",
      "\n",
      "  return pd.concat([default_term_info] + list(topic_dfs))\n"
     ]
    },
    {
     "data": {
      "text/html": [
       "\n",
       "<link rel=\"stylesheet\" type=\"text/css\" href=\"https://cdn.rawgit.com/bmabey/pyLDAvis/files/ldavis.v1.0.0.css\">\n",
       "\n",
       "\n",
       "<div id=\"ldavis_el2595624761158940888245876459\"></div>\n",
       "<script type=\"text/javascript\">\n",
       "\n",
       "var ldavis_el2595624761158940888245876459_data = {\"mdsDat\": {\"x\": [0.06844130631552442, -0.34874390534752064, 0.1246864129666649, 0.10361551724552255, -0.04261649700385527, -0.10561368509359882, 0.03466809598330897, 0.09139045953453681, 0.05660062023037562, 0.01757167516904122], \"y\": [0.11670752530989198, 0.08843688339605538, -0.11519984251221656, 0.07380764947779807, -0.05202449414851946, -0.21135487803977424, -0.14547709904037234, 0.05470694979403253, 0.044313210891272686, 0.14608409487183224], \"topics\": [1, 2, 3, 4, 5, 6, 7, 8, 9, 10], \"cluster\": [1, 1, 1, 1, 1, 1, 1, 1, 1, 1], \"Freq\": [11.489985466003418, 11.169258117675781, 10.387479782104492, 10.294313430786133, 10.056681632995605, 9.837557792663574, 9.718118667602539, 9.28371810913086, 9.054267883300781, 8.708613395690918]}, \"tinfo\": {\"Category\": [\"Default\", \"Default\", \"Default\", \"Default\", \"Default\", \"Default\", \"Default\", \"Default\", \"Default\", \"Default\", \"Default\", \"Default\", \"Default\", \"Default\", \"Default\", \"Default\", \"Default\", \"Default\", \"Default\", \"Default\", \"Default\", \"Default\", \"Default\", \"Default\", \"Default\", \"Default\", \"Default\", \"Default\", \"Default\", \"Default\", \"Topic1\", \"Topic1\", \"Topic1\", \"Topic1\", \"Topic1\", \"Topic1\", \"Topic1\", \"Topic1\", \"Topic1\", \"Topic1\", \"Topic1\", \"Topic1\", \"Topic1\", \"Topic1\", \"Topic1\", \"Topic1\", \"Topic1\", \"Topic1\", \"Topic1\", \"Topic1\", \"Topic1\", \"Topic1\", \"Topic1\", \"Topic1\", \"Topic1\", \"Topic1\", \"Topic1\", \"Topic1\", \"Topic1\", \"Topic1\", \"Topic1\", \"Topic1\", \"Topic1\", \"Topic1\", \"Topic1\", \"Topic1\", \"Topic1\", \"Topic1\", \"Topic1\", \"Topic1\", \"Topic1\", \"Topic1\", \"Topic1\", \"Topic1\", \"Topic1\", \"Topic1\", \"Topic1\", \"Topic1\", \"Topic1\", \"Topic1\", \"Topic1\", \"Topic1\", \"Topic1\", \"Topic1\", \"Topic1\", \"Topic1\", \"Topic1\", \"Topic2\", \"Topic2\", \"Topic2\", \"Topic2\", \"Topic2\", \"Topic2\", \"Topic2\", \"Topic2\", \"Topic2\", \"Topic2\", \"Topic2\", \"Topic2\", \"Topic2\", \"Topic2\", \"Topic2\", \"Topic2\", \"Topic2\", \"Topic2\", \"Topic2\", \"Topic2\", \"Topic2\", \"Topic2\", \"Topic2\", \"Topic2\", \"Topic2\", \"Topic2\", \"Topic2\", \"Topic2\", \"Topic2\", \"Topic2\", \"Topic2\", \"Topic2\", \"Topic2\", \"Topic2\", \"Topic2\", \"Topic2\", \"Topic2\", \"Topic2\", \"Topic2\", \"Topic2\", \"Topic2\", \"Topic2\", \"Topic2\", \"Topic2\", \"Topic2\", \"Topic2\", \"Topic2\", \"Topic2\", \"Topic2\", \"Topic2\", \"Topic2\", \"Topic2\", \"Topic2\", \"Topic2\", \"Topic2\", \"Topic2\", \"Topic2\", \"Topic2\", \"Topic2\", \"Topic2\", \"Topic2\", \"Topic2\", \"Topic2\", \"Topic3\", \"Topic3\", \"Topic3\", \"Topic3\", \"Topic3\", \"Topic3\", \"Topic3\", \"Topic3\", \"Topic3\", \"Topic3\", \"Topic3\", \"Topic3\", \"Topic3\", \"Topic3\", \"Topic3\", \"Topic3\", \"Topic3\", \"Topic3\", \"Topic3\", \"Topic3\", \"Topic3\", \"Topic3\", \"Topic3\", \"Topic3\", \"Topic3\", \"Topic3\", \"Topic3\", \"Topic3\", \"Topic3\", \"Topic3\", \"Topic3\", \"Topic3\", \"Topic3\", \"Topic3\", \"Topic3\", \"Topic3\", \"Topic3\", \"Topic3\", \"Topic3\", \"Topic3\", \"Topic3\", \"Topic3\", \"Topic3\", \"Topic3\", \"Topic3\", \"Topic3\", \"Topic3\", \"Topic3\", \"Topic3\", \"Topic3\", \"Topic3\", \"Topic3\", \"Topic3\", \"Topic3\", \"Topic3\", \"Topic3\", \"Topic3\", \"Topic3\", \"Topic3\", \"Topic3\", \"Topic3\", \"Topic3\", \"Topic4\", \"Topic4\", \"Topic4\", \"Topic4\", \"Topic4\", \"Topic4\", \"Topic4\", \"Topic4\", \"Topic4\", \"Topic4\", \"Topic4\", \"Topic4\", \"Topic4\", \"Topic4\", \"Topic4\", \"Topic4\", \"Topic4\", \"Topic4\", \"Topic4\", \"Topic4\", \"Topic4\", \"Topic4\", \"Topic4\", \"Topic4\", \"Topic4\", \"Topic4\", \"Topic4\", \"Topic4\", \"Topic4\", \"Topic4\", \"Topic4\", \"Topic4\", \"Topic4\", \"Topic4\", \"Topic4\", \"Topic4\", \"Topic4\", \"Topic4\", \"Topic4\", \"Topic4\", \"Topic4\", \"Topic4\", \"Topic4\", \"Topic4\", \"Topic4\", \"Topic4\", \"Topic4\", \"Topic4\", \"Topic5\", \"Topic5\", \"Topic5\", \"Topic5\", \"Topic5\", \"Topic5\", \"Topic5\", \"Topic5\", \"Topic5\", \"Topic5\", \"Topic5\", \"Topic5\", \"Topic5\", \"Topic5\", \"Topic5\", \"Topic5\", \"Topic5\", \"Topic5\", \"Topic5\", \"Topic5\", \"Topic5\", \"Topic5\", \"Topic5\", \"Topic5\", \"Topic5\", \"Topic5\", \"Topic5\", \"Topic5\", \"Topic5\", \"Topic5\", \"Topic5\", \"Topic5\", \"Topic5\", \"Topic5\", \"Topic5\", \"Topic5\", \"Topic5\", \"Topic5\", \"Topic5\", \"Topic5\", \"Topic5\", \"Topic5\", \"Topic5\", \"Topic5\", \"Topic5\", \"Topic5\", \"Topic5\", \"Topic5\", \"Topic5\", \"Topic5\", \"Topic5\", \"Topic5\", \"Topic5\", \"Topic5\", \"Topic5\", \"Topic5\", \"Topic5\", \"Topic6\", \"Topic6\", \"Topic6\", \"Topic6\", \"Topic6\", \"Topic6\", \"Topic6\", \"Topic6\", \"Topic6\", \"Topic6\", \"Topic6\", \"Topic6\", \"Topic6\", \"Topic6\", \"Topic6\", \"Topic6\", \"Topic6\", \"Topic6\", \"Topic6\", \"Topic6\", \"Topic6\", \"Topic6\", \"Topic6\", \"Topic6\", \"Topic6\", \"Topic6\", \"Topic6\", \"Topic6\", \"Topic6\", \"Topic6\", \"Topic6\", \"Topic6\", \"Topic6\", \"Topic6\", \"Topic6\", \"Topic6\", \"Topic6\", \"Topic6\", \"Topic6\", \"Topic6\", \"Topic6\", \"Topic6\", \"Topic6\", \"Topic6\", \"Topic6\", \"Topic6\", \"Topic6\", \"Topic6\", \"Topic7\", \"Topic7\", \"Topic7\", \"Topic7\", \"Topic7\", \"Topic7\", \"Topic7\", \"Topic7\", \"Topic7\", \"Topic7\", \"Topic7\", \"Topic7\", \"Topic7\", \"Topic7\", \"Topic7\", \"Topic7\", \"Topic7\", \"Topic7\", \"Topic7\", \"Topic7\", \"Topic7\", \"Topic7\", \"Topic7\", \"Topic7\", \"Topic7\", \"Topic7\", \"Topic7\", \"Topic7\", \"Topic7\", \"Topic7\", \"Topic7\", \"Topic7\", \"Topic7\", \"Topic7\", \"Topic7\", \"Topic7\", \"Topic7\", \"Topic7\", \"Topic7\", \"Topic7\", \"Topic7\", \"Topic7\", \"Topic7\", \"Topic7\", \"Topic7\", \"Topic7\", \"Topic7\", \"Topic7\", \"Topic7\", \"Topic7\", \"Topic7\", \"Topic7\", \"Topic8\", \"Topic8\", \"Topic8\", \"Topic8\", \"Topic8\", \"Topic8\", \"Topic8\", \"Topic8\", \"Topic8\", \"Topic8\", \"Topic8\", \"Topic8\", \"Topic8\", \"Topic8\", \"Topic8\", \"Topic8\", \"Topic8\", \"Topic8\", \"Topic8\", \"Topic8\", \"Topic8\", \"Topic8\", \"Topic8\", \"Topic8\", \"Topic8\", \"Topic8\", \"Topic8\", \"Topic8\", \"Topic8\", \"Topic8\", \"Topic8\", \"Topic8\", \"Topic8\", \"Topic8\", \"Topic8\", \"Topic8\", \"Topic8\", \"Topic8\", \"Topic8\", \"Topic8\", \"Topic8\", \"Topic8\", \"Topic8\", \"Topic8\", \"Topic8\", \"Topic8\", \"Topic8\", \"Topic8\", \"Topic8\", \"Topic8\", \"Topic8\", \"Topic8\", \"Topic8\", \"Topic8\", \"Topic8\", \"Topic9\", \"Topic9\", \"Topic9\", \"Topic9\", \"Topic9\", \"Topic9\", \"Topic9\", \"Topic9\", \"Topic9\", \"Topic9\", \"Topic9\", \"Topic9\", \"Topic9\", \"Topic9\", \"Topic9\", \"Topic9\", \"Topic9\", \"Topic9\", \"Topic9\", \"Topic9\", \"Topic9\", \"Topic9\", \"Topic9\", \"Topic9\", \"Topic9\", \"Topic9\", \"Topic9\", \"Topic9\", \"Topic9\", \"Topic9\", \"Topic9\", \"Topic9\", \"Topic9\", \"Topic9\", \"Topic9\", \"Topic9\", \"Topic9\", \"Topic9\", \"Topic9\", \"Topic9\", \"Topic9\", \"Topic9\", \"Topic10\", \"Topic10\", \"Topic10\", \"Topic10\", \"Topic10\", \"Topic10\", \"Topic10\", \"Topic10\", \"Topic10\", \"Topic10\", \"Topic10\", \"Topic10\", \"Topic10\", \"Topic10\", \"Topic10\", \"Topic10\", \"Topic10\", \"Topic10\", \"Topic10\", \"Topic10\", \"Topic10\", \"Topic10\", \"Topic10\", \"Topic10\", \"Topic10\", \"Topic10\", \"Topic10\", \"Topic10\", \"Topic10\", \"Topic10\", \"Topic10\", \"Topic10\", \"Topic10\", \"Topic10\", \"Topic10\", \"Topic10\", \"Topic10\", \"Topic10\", \"Topic10\", \"Topic10\", \"Topic10\", \"Topic10\", \"Topic10\", \"Topic10\"], \"Freq\": [4369.0, 4782.0, 4326.0, 5355.0, 3915.0, 3054.0, 3781.0, 7449.0, 2938.0, 2989.0, 2287.0, 2265.0, 2185.0, 2215.0, 2725.0, 3541.0, 2153.0, 4610.0, 2230.0, 2049.0, 2068.0, 4856.0, 3808.0, 1726.0, 3491.0, 2825.0, 4096.0, 4846.0, 1540.0, 1583.0, 4324.7587890625, 1535.9730224609375, 1286.3431396484375, 1245.8184814453125, 1087.3311767578125, 1067.560546875, 819.1616821289062, 778.104736328125, 771.9488525390625, 737.267578125, 690.3123168945312, 682.9409790039062, 646.9860229492188, 612.221923828125, 580.5509643554688, 551.0167236328125, 543.1334838867188, 557.2745361328125, 538.8092041015625, 527.9176635742188, 485.83447265625, 459.16290283203125, 450.1485290527344, 441.96630859375, 425.2572021484375, 404.7601318359375, 398.8352355957031, 398.48236083984375, 394.9095764160156, 391.3096008300781, 791.671875, 975.240966796875, 4649.0927734375, 419.4766845703125, 568.2842407226562, 740.68701171875, 660.5744018554688, 811.6783447265625, 1272.0946044921875, 1154.9520263671875, 2591.01904296875, 2309.728515625, 728.156494140625, 655.5900268554688, 979.7008056640625, 971.3662719726562, 771.2389526367188, 854.3660278320312, 1194.9700927734375, 850.3717651367188, 806.6826782226562, 936.9186401367188, 896.793212890625, 803.2265014648438, 807.386962890625, 790.6981811523438, 774.9122314453125, 2229.661376953125, 1667.012451171875, 1341.6331787109375, 3912.63330078125, 1172.8597412109375, 1191.77783203125, 1101.6510009765625, 975.7113037109375, 993.02734375, 821.7135009765625, 788.92919921875, 764.069091796875, 701.0320434570312, 656.8532104492188, 661.7761840820312, 623.9227294921875, 622.0521850585938, 626.7291259765625, 635.3348388671875, 623.5596313476562, 579.5192260742188, 607.3490600585938, 661.7478637695312, 539.5558471679688, 529.389404296875, 526.0164794921875, 547.9556884765625, 661.0816650390625, 499.6540832519531, 700.7952880859375, 2063.26171875, 2905.43310546875, 976.1856689453125, 837.4008178710938, 689.147216796875, 643.864013671875, 885.7033081054688, 4866.53369140625, 2770.591552734375, 2477.544189453125, 1409.203369140625, 2721.397705078125, 2054.6552734375, 4963.314453125, 3330.5791015625, 2196.085693359375, 1122.9215087890625, 1716.472900390625, 2102.22119140625, 2008.88720703125, 2775.75048828125, 1512.769287109375, 1493.9176025390625, 1063.7615966796875, 1196.05126953125, 1641.2508544921875, 1488.371826171875, 1242.05908203125, 1565.9222412109375, 1325.7862548828125, 1336.25634765625, 1264.7681884765625, 1208.9052734375, 1300.513671875, 1226.5966796875, 1020.927001953125, 848.7930297851562, 827.8987426757812, 815.3651123046875, 775.5515747070312, 697.6826782226562, 636.7000122070312, 660.05810546875, 557.3455810546875, 553.3557739257812, 538.6890258789062, 539.4743041992188, 530.3770141601562, 518.9630737304688, 516.9384155273438, 499.2399597167969, 525.3421020507812, 481.01361083984375, 474.5747375488281, 466.0909729003906, 458.7584533691406, 430.75054931640625, 434.69091796875, 418.3511657714844, 408.8341979980469, 404.14599609375, 407.396728515625, 433.04248046875, 825.42333984375, 902.8073120117188, 434.8133850097656, 452.1204833984375, 605.795654296875, 472.8702392578125, 1619.357666015625, 573.3040771484375, 1067.2818603515625, 1071.644775390625, 611.71630859375, 1110.7515869140625, 1629.2791748046875, 1929.52001953125, 875.6307373046875, 590.0226440429688, 642.53515625, 880.098388671875, 945.734619140625, 806.131591796875, 1156.255615234375, 1030.013427734375, 902.3148193359375, 1101.432861328125, 665.0213012695312, 820.4869995117188, 828.829345703125, 919.7630615234375, 869.0745239257812, 763.3823852539062, 751.4649658203125, 805.0660400390625, 2048.6513671875, 1338.1656494140625, 1260.3392333984375, 1186.2083740234375, 1006.5053100585938, 946.5652465820312, 1046.752685546875, 898.7716064453125, 799.3143920898438, 817.05224609375, 782.454345703125, 713.9652099609375, 705.5536499023438, 648.4739379882812, 647.518310546875, 611.6578979492188, 588.7676391601562, 560.5443115234375, 698.9705200195312, 545.1405639648438, 536.9774780273438, 508.0191650390625, 507.53997802734375, 491.2086486816406, 716.2440795898438, 496.0981750488281, 572.6198120117188, 469.29071044921875, 465.7302551269531, 418.37237548828125, 602.0203247070312, 732.6261596679688, 805.9832153320312, 1204.2230224609375, 816.5167236328125, 1298.891845703125, 1429.2755126953125, 771.2258911132812, 1157.2540283203125, 1085.47265625, 1394.9154052734375, 873.7008056640625, 886.8330078125, 926.0420532226562, 1074.637451171875, 920.62255859375, 941.1367797851562, 866.6082153320312, 2214.34033203125, 1322.7650146484375, 1197.182373046875, 1166.3760986328125, 1019.5995483398438, 1098.317626953125, 829.5693969726562, 907.3148803710938, 759.4423828125, 690.3146362304688, 656.81494140625, 631.5110473632812, 696.9724731445312, 723.7222900390625, 584.6180419921875, 789.9105224609375, 554.4016723632812, 551.308837890625, 539.2621459960938, 663.830322265625, 488.94476318359375, 485.1913146972656, 480.1208801269531, 480.6359558105469, 480.0752258300781, 472.4126892089844, 497.14007568359375, 469.2631530761719, 461.6815185546875, 464.3233337402344, 966.1099243164062, 618.2066650390625, 475.54302978515625, 574.6918334960938, 1044.9993896484375, 932.0626220703125, 797.1348876953125, 893.306396484375, 944.95556640625, 691.6856079101562, 1013.9266357421875, 1631.979736328125, 653.9560546875, 2101.811767578125, 864.2950439453125, 668.2861938476562, 713.4344482421875, 789.5523681640625, 917.0257568359375, 727.736572265625, 973.6722412109375, 1049.51123046875, 894.2571411132812, 859.5078735351562, 740.9596557617188, 767.5924682617188, 755.8311767578125, 3053.67333984375, 1447.8046875, 1582.474609375, 1341.6590576171875, 1300.2529296875, 1226.344482421875, 1094.104736328125, 1058.0777587890625, 865.7578735351562, 872.624267578125, 799.5929565429688, 807.1290283203125, 758.8507080078125, 821.512939453125, 633.4268188476562, 679.19091796875, 618.0877685546875, 655.9865112304688, 603.8912353515625, 585.3129272460938, 579.9274291992188, 525.2230224609375, 550.9727172851562, 506.2080993652344, 495.20428466796875, 462.7162170410156, 460.3226013183594, 464.5256652832031, 461.4497375488281, 438.569580078125, 1318.412841796875, 847.3619995117188, 3008.502197265625, 604.4967041015625, 2312.832275390625, 1130.5159912109375, 1231.823486328125, 2612.681396484375, 838.7626342773438, 1376.3499755859375, 1666.9708251953125, 1339.9517822265625, 945.2677001953125, 1037.02099609375, 1252.781005859375, 1067.1846923828125, 922.7039184570312, 828.3627319335938, 1499.1519775390625, 2151.88232421875, 1141.4632568359375, 1061.24169921875, 866.178466796875, 748.24560546875, 738.6142578125, 731.877197265625, 751.01904296875, 708.6168212890625, 676.5060424804688, 745.189208984375, 627.5314331054688, 629.8992309570312, 619.994384765625, 612.4541625976562, 588.4246826171875, 585.8280639648438, 669.8937377929688, 572.5906982421875, 557.2890625, 546.0443115234375, 536.7305908203125, 535.4317016601562, 516.44384765625, 513.9947509765625, 477.2914733886719, 560.9459228515625, 464.88812255859375, 460.745361328125, 558.6448364257812, 501.8047790527344, 624.8324584960938, 1466.648681640625, 623.7915649414062, 557.0064086914062, 1450.108154296875, 723.4279174804688, 598.2413940429688, 830.1904296875, 789.5327758789062, 796.7418212890625, 608.677490234375, 1003.03564453125, 780.6820678710938, 984.960205078125, 862.0833129882812, 950.7230224609375, 922.5405883789062, 769.5470581054688, 635.1209716796875, 675.844970703125, 2286.97900390625, 2264.479248046875, 2185.0615234375, 1254.2275390625, 1039.8377685546875, 836.3272705078125, 673.247802734375, 649.6780395507812, 636.4370727539062, 657.3441162109375, 608.3033447265625, 580.5426635742188, 551.1973876953125, 773.189208984375, 528.265869140625, 517.76416015625, 517.4898071289062, 516.8051147460938, 510.6423034667969, 499.2843017578125, 466.864501953125, 462.22857666015625, 456.20574951171875, 536.94677734375, 444.5092468261719, 428.40118408203125, 414.246337890625, 426.29998779296875, 406.2908935546875, 405.5750427246094, 796.8831787109375, 420.2171936035156, 626.3597412109375, 490.48443603515625, 1242.2587890625, 568.322021484375, 955.3939208984375, 1341.512451171875, 636.3131713867188, 1811.196044921875, 2449.81103515625, 808.2113647460938, 1019.4025268554688, 608.9282836914062, 1209.96630859375, 1077.5953369140625, 1162.3009033203125, 873.5287475585938, 963.05517578125, 1322.9091796875, 741.3244018554688, 888.5823364257812, 735.9295043945312, 725.950439453125, 653.3447265625, 1725.2686767578125, 1539.2999267578125, 1356.0272216796875, 1336.394775390625, 1312.40380859375, 1281.93701171875, 1133.564208984375, 1102.081298828125, 899.2252197265625, 702.8980712890625, 671.5501098632812, 662.2284545898438, 656.887939453125, 639.2382202148438, 621.3564453125, 709.6653442382812, 581.3920288085938, 570.3045654296875, 554.8406372070312, 560.9139404296875, 513.3934326171875, 513.1596069335938, 498.5314636230469, 494.3658752441406, 502.2037353515625, 436.4859619140625, 429.4762878417969, 416.60284423828125, 416.4841613769531, 403.51678466796875, 607.2195434570312, 423.240478515625, 1329.4569091796875, 569.873046875, 577.410888671875, 600.3189086914062, 643.80419921875, 561.9506225585938, 557.376220703125, 923.1849975585938, 828.5219116210938, 642.8319091796875, 1344.1436767578125, 1301.4224853515625, 1283.525390625, 1168.5357666015625, 922.1065673828125, 913.5891723632812, 865.0433959960938, 820.72216796875, 788.4168090820312, 760.396484375, 754.6259765625, 696.7662963867188, 704.28955078125, 622.2161865234375, 577.202392578125, 613.6566162109375, 554.841064453125, 553.5787963867188, 540.8880004882812, 534.8758544921875, 564.7999267578125, 529.3927001953125, 470.4664306640625, 459.13214111328125, 448.5812683105469, 956.5137939453125, 446.91387939453125, 446.63592529296875, 440.2640075683594, 447.07342529296875, 4234.56005859375, 538.650390625, 944.7837524414062, 805.7398681640625, 612.802001953125, 918.8114013671875, 566.3269653320312, 801.3402709960938, 666.7598876953125, 581.0984497070312, 750.0244750976562, 605.78564453125, 569.2874145507812, 576.6636962890625], \"Term\": [\"trump\", \"countri\", \"hour\", \"charg\", \"murder\", \"news\", \"crash\", \"polic\", \"alleg\", \"jail\", \"podcast\", \"drum\", \"turnbul\", \"donald\", \"arrest\", \"woman\", \"weather\", \"court\", \"assault\", \"christma\", \"sentenc\", \"interview\", \"market\", \"grandstand\", \"north\", \"shoot\", \"death\", \"rural\", \"marriag\", \"korea\", \"hour\", \"abbott\", \"wall\", \"asylum\", \"seeker\", \"jam\", \"homeless\", \"chris\", \"biki\", \"walk\", \"depart\", \"adam\", \"stephen\", \"sach\", \"nauru\", \"cook\", \"camera\", \"shortag\", \"cyclist\", \"malaysia\", \"geelong\", \"visa\", \"colleg\", \"cameron\", \"employ\", \"languag\", \"legisl\", \"dark\", \"account\", \"fix\", \"territori\", \"staff\", \"countri\", \"ndis\", \"construct\", \"data\", \"contract\", \"bash\", \"cut\", \"union\", \"interview\", \"govern\", \"detent\", \"cultur\", \"job\", \"senat\", \"rail\", \"action\", \"say\", \"royal\", \"commiss\", \"plan\", \"council\", \"worker\", \"hospit\", \"fund\", \"budget\", \"assault\", \"stab\", \"sexual\", \"murder\", \"teenag\", \"inquest\", \"toni\", \"blog\", \"bail\", \"attempt\", \"elder\", \"februari\", \"corrupt\", \"barnett\", \"chase\", \"robberi\", \"custodi\", \"offend\", \"appear\", \"offenc\", \"suspici\", \"wife\", \"coron\", \"generat\", \"fake\", \"recommend\", \"taxi\", \"fraud\", \"fact\", \"killer\", \"sentenc\", \"alleg\", \"father\", \"convict\", \"coupl\", \"financ\", \"drink\", \"charg\", \"jail\", \"arrest\", \"teen\", \"woman\", \"child\", \"polic\", \"court\", \"shoot\", \"suspect\", \"abus\", \"accus\", \"drug\", \"death\", \"guilti\", \"search\", \"crime\", \"girl\", \"investig\", \"driver\", \"offic\", \"attack\", \"miss\", \"face\", \"sydney\", \"trial\", \"peter\", \"decemb\", \"capit\", \"origin\", \"insid\", \"quarter\", \"creek\", \"stream\", \"summer\", \"knight\", \"sunday\", \"mitchel\", \"analysi\", \"biggest\", \"irrig\", \"morrison\", \"nativ\", \"flinder\", \"heavi\", \"effect\", \"uber\", \"ballarat\", \"contamin\", \"reaction\", \"bronco\", \"popul\", \"fraser\", \"hillari\", \"cowboy\", \"mix\", \"harvest\", \"round\", \"warrior\", \"hall\", \"scorecentr\", \"levi\", \"sport\", \"bulldog\", \"murray\", \"dairi\", \"championship\", \"rain\", \"leagu\", \"final\", \"grand\", \"fruit\", \"volunt\", \"david\", \"hill\", \"drought\", \"open\", \"farmer\", \"beat\", \"world\", \"titl\", \"season\", \"busi\", \"queensland\", \"interview\", \"win\", \"water\", \"australian\", \"christma\", \"rugbi\", \"stori\", \"august\", \"social\", \"explain\", \"kid\", \"spring\", \"billion\", \"grain\", \"global\", \"steve\", \"clinton\", \"joyc\", \"commission\", \"migrant\", \"sieg\", \"treasur\", \"clark\", \"rockhampton\", \"vanuatu\", \"danc\", \"commit\", \"preview\", \"alic\", \"pick\", \"retail\", \"winter\", \"barnabi\", \"environment\", \"consum\", \"rape\", \"spend\", \"mental\", \"money\", \"farm\", \"health\", \"promis\", \"tasmanian\", \"indigen\", \"elect\", \"liber\", \"parti\", \"labor\", \"govern\", \"fund\", \"say\", \"australia\", \"donald\", \"wednesday\", \"syria\", \"islam\", \"suicid\", \"zealand\", \"breakfast\", \"philippin\", \"blast\", \"happen\", \"sheep\", \"earthquak\", \"kimberley\", \"traffic\", \"sever\", \"survivor\", \"macquari\", \"bangladesh\", \"januari\", \"exchang\", \"asia\", \"israel\", \"presidenti\", \"dozen\", \"photograph\", \"colin\", \"label\", \"pictur\", \"thailand\", \"ukrain\", \"pakistan\", \"turkey\", \"afghan\", \"border\", \"russia\", \"scott\", \"invest\", \"foreign\", \"bomb\", \"soldier\", \"india\", \"kill\", \"explos\", \"australia\", \"march\", \"russian\", \"obama\", \"energi\", \"dead\", \"indonesia\", \"attack\", \"australian\", \"china\", \"state\", \"pacif\", \"live\", \"say\", \"news\", \"ash\", \"korea\", \"octob\", \"monday\", \"thursday\", \"june\", \"plane\", \"footag\", \"accid\", \"drone\", \"highway\", \"townsvill\", \"firefight\", \"cairn\", \"crew\", \"commonwealth\", \"pilot\", \"bird\", \"princ\", \"scene\", \"broom\", \"loan\", \"roar\", \"rudd\", \"jason\", \"shed\", \"cooper\", \"recov\", \"teach\", \"truck\", \"blaze\", \"crash\", \"korean\", \"north\", \"east\", \"bodi\", \"rural\", \"outback\", \"west\", \"south\", \"die\", \"fatal\", \"road\", \"nation\", \"coast\", \"near\", \"victoria\", \"plead\", \"weather\", \"histori\", \"wild\", \"solar\", \"phone\", \"box\", \"palmer\", \"remot\", \"evacu\", \"sunshin\", \"agricultur\", \"bike\", \"heritag\", \"harbour\", \"queen\", \"moment\", \"gippsland\", \"toll\", \"cent\", \"swim\", \"backpack\", \"discov\", \"mobil\", \"afghanistan\", \"expand\", \"meat\", \"cctv\", \"mexico\", \"plus\", \"slow\", \"pool\", \"boom\", \"cattl\", \"mean\", \"area\", \"hobart\", \"beef\", \"disast\", \"burn\", \"cyclon\", \"beach\", \"whale\", \"warn\", \"western\", \"coast\", \"flood\", \"queensland\", \"sydney\", \"power\", \"properti\", \"australia\", \"podcast\", \"drum\", \"turnbul\", \"tuesday\", \"wrap\", \"syrian\", \"nick\", \"execut\", \"friend\", \"higher\", \"daughter\", \"scandal\", \"ntch\", \"bendigo\", \"unemploy\", \"crocodil\", \"greyhound\", \"garden\", \"short\", \"wool\", \"hanson\", \"fremantl\", \"rang\", \"theft\", \"violent\", \"tripl\", \"livestock\", \"hard\", \"brace\", \"organ\", \"facebook\", \"flee\", \"gain\", \"worst\", \"mother\", \"jump\", \"rate\", \"dollar\", \"reserv\", \"share\", \"market\", \"profit\", \"climat\", \"judg\", \"price\", \"fall\", \"rise\", \"rat\", \"bank\", \"australian\", \"week\", \"year\", \"chang\", \"report\", \"australia\", \"grandstand\", \"marriag\", \"septemb\", \"novemb\", \"malcolm\", \"domest\", \"andrew\", \"quiz\", \"shorten\", \"compens\", \"manus\", \"scienc\", \"reef\", \"harri\", \"citizenship\", \"import\", \"punch\", \"cathol\", \"explor\", \"agreement\", \"gillard\", \"vaccin\", \"document\", \"manchest\", \"identifi\", \"adani\", \"bundaberg\", \"barri\", \"priest\", \"kevin\", \"barrier\", \"virus\", \"violenc\", \"africa\", \"zone\", \"veteran\", \"rememb\", \"sugar\", \"bishop\", \"say\", \"australia\", \"south\", \"michael\", \"friday\", \"juli\", \"video\", \"know\", \"updat\", \"georg\", \"onlin\", \"age\", \"footbal\", \"paul\", \"robert\", \"bridg\", \"kangaroo\", \"myanmar\", \"general\", \"episod\", \"richard\", \"matthew\", \"anniversari\", \"technolog\", \"controversi\", \"appl\", \"special\", \"republican\", \"anim\", \"mike\", \"clive\", \"athlet\", \"funer\", \"trump\", \"matt\", \"care\", \"disabl\", \"expans\", \"steal\", \"heart\", \"mark\", \"april\", \"london\", \"say\", \"australia\", \"celebr\", \"year\"], \"Total\": [4369.0, 4782.0, 4326.0, 5355.0, 3915.0, 3054.0, 3781.0, 7449.0, 2938.0, 2989.0, 2287.0, 2265.0, 2185.0, 2215.0, 2725.0, 3541.0, 2153.0, 4610.0, 2230.0, 2049.0, 2068.0, 4856.0, 3808.0, 1726.0, 3491.0, 2825.0, 4096.0, 4846.0, 1540.0, 1583.0, 4326.17333984375, 1536.83447265625, 1287.2039794921875, 1246.6790771484375, 1088.18701171875, 1068.42919921875, 820.03369140625, 778.9600830078125, 772.8118286132812, 738.1351318359375, 691.1679077148438, 683.7964477539062, 647.8413696289062, 613.0772705078125, 581.4246826171875, 551.8740234375, 543.989013671875, 558.1632080078125, 539.669677734375, 528.7949829101562, 486.68988037109375, 460.0232238769531, 451.0040283203125, 442.8216247558594, 426.1134338378906, 405.6154479980469, 399.6907043457031, 399.337890625, 395.7658996582031, 392.1658935546875, 794.3218994140625, 982.7012329101562, 4782.54248046875, 420.83319091796875, 597.3595581054688, 810.3251342773438, 721.5396728515625, 925.37646484375, 1759.316650390625, 1599.8486328125, 4856.4443359375, 5174.9443359375, 892.5186157226562, 759.8945922851562, 1698.31640625, 1739.906005859375, 1188.9833984375, 1530.224853515625, 6773.70166015625, 1997.9566650390625, 1682.441162109375, 3911.88525390625, 3419.231689453125, 2223.565673828125, 2794.091552734375, 3103.44287109375, 2334.65673828125, 2230.53369140625, 1667.873779296875, 1342.488525390625, 3915.20703125, 1173.75146484375, 1192.6993408203125, 1102.50634765625, 976.5665893554688, 993.9014892578125, 822.6100463867188, 789.8079833984375, 764.9243774414062, 701.8897094726562, 657.7085571289062, 662.6575317382812, 624.77978515625, 622.9075317382812, 627.5955200195312, 636.215576171875, 624.431884765625, 580.3745727539062, 608.2843627929688, 662.7820434570312, 540.4113159179688, 530.2449951171875, 526.8726806640625, 548.8628540039062, 662.2132568359375, 500.50933837890625, 702.0462036132812, 2068.0537109375, 2938.073974609375, 978.1113891601562, 839.5625, 690.7332763671875, 645.0744018554688, 900.9906616210938, 5355.69775390625, 2989.215576171875, 2725.221435546875, 1552.7772216796875, 3541.755615234375, 2566.761962890625, 7449.33642578125, 4610.4345703125, 2825.6640625, 1255.487060546875, 2130.48974609375, 2767.45068359375, 2698.150390625, 4096.435546875, 1944.6619873046875, 2028.6705322265625, 1213.75634765625, 1460.1383056640625, 2473.17041015625, 2233.656982421875, 1906.3594970703125, 3823.888916015625, 2993.29638671875, 3289.4970703125, 4917.4892578125, 2295.9794921875, 1301.3697509765625, 1227.4527587890625, 1021.7865600585938, 849.6563110351562, 828.7581787109375, 816.2572021484375, 776.4083862304688, 698.5387573242188, 637.5560913085938, 660.9591064453125, 558.2017211914062, 554.2118530273438, 539.5451049804688, 540.333984375, 531.2335815429688, 519.8191528320312, 517.797119140625, 500.09625244140625, 526.27587890625, 481.86993408203125, 475.4309997558594, 466.94952392578125, 459.61456298828125, 431.60711669921875, 435.56658935546875, 419.2106018066406, 409.6929626464844, 405.00225830078125, 408.2636413574219, 433.9696960449219, 827.7088012695312, 908.4940795898438, 435.76470947265625, 453.4693298339844, 612.54541015625, 475.8761901855469, 1743.599853515625, 584.9183349609375, 1150.6544189453125, 1213.777587890625, 647.3519287109375, 1342.724365234375, 2222.234619140625, 2781.748779296875, 1063.1502685546875, 652.97998046875, 761.9571533203125, 1420.5706787109375, 1842.6385498046875, 1361.608154296875, 3425.78369140625, 2616.17138671875, 1919.535400390625, 3931.5146484375, 929.3318481445312, 1878.9078369140625, 2540.644287109375, 4411.13134765625, 4856.4443359375, 2526.810546875, 2605.94873046875, 6524.23583984375, 2049.60595703125, 1339.0252685546875, 1261.196533203125, 1187.0655517578125, 1007.364013671875, 947.42333984375, 1047.721435546875, 899.64208984375, 800.1768188476562, 817.973388671875, 783.3597412109375, 714.8262939453125, 706.4397583007812, 649.3316650390625, 648.3812255859375, 612.5429077148438, 589.6270141601562, 561.4132080078125, 700.059814453125, 546.0004272460938, 537.8345947265625, 508.8766784667969, 508.41436767578125, 492.06573486328125, 717.51904296875, 496.9834289550781, 573.66259765625, 470.1499938964844, 466.58917236328125, 419.2297668457031, 603.3778686523438, 741.9641723632812, 845.6791381835938, 1311.8060302734375, 1000.3076171875, 2256.59423828125, 2988.56201171875, 1036.1915283203125, 2610.877685546875, 2342.194580078125, 4268.79931640625, 1566.014404296875, 1731.19091796875, 2338.62060546875, 5174.9443359375, 3103.44287109375, 6773.70166015625, 7777.8291015625, 2215.1982421875, 1323.62060546875, 1198.037109375, 1167.2476806640625, 1020.4855346679688, 1099.3505859375, 830.4222412109375, 908.29052734375, 760.370849609375, 691.1675415039062, 657.6677856445312, 632.3642578125, 697.9207153320312, 724.7150268554688, 585.4710693359375, 791.0958251953125, 555.2545166015625, 552.1673583984375, 540.114990234375, 664.9386596679688, 489.80267333984375, 486.0472106933594, 480.97393798828125, 481.49188232421875, 480.93011474609375, 473.26556396484375, 498.04107666015625, 470.11602783203125, 462.5350341796875, 465.1876220703125, 969.3592529296875, 619.5152587890625, 476.4305725097656, 576.9622802734375, 1101.2470703125, 1053.2886962890625, 885.79296875, 1021.5940551757812, 1160.004638671875, 772.3170166015625, 1453.4049072265625, 3620.52880859375, 751.555419921875, 7777.8291015625, 1372.30322265625, 806.9796142578125, 983.5713500976562, 1450.6787109375, 2672.678955078125, 1126.489013671875, 3823.888916015625, 6524.23583984375, 3057.24267578125, 2878.774658203125, 1226.024658203125, 3170.06787109375, 6773.70166015625, 3054.59912109375, 1448.6595458984375, 1583.43310546875, 1342.513916015625, 1301.1080322265625, 1227.1993408203125, 1094.9713134765625, 1058.954833984375, 866.6127319335938, 873.5094604492188, 800.44775390625, 808.0379028320312, 759.7060546875, 822.4945068359375, 634.2886352539062, 680.1231079101562, 618.94482421875, 656.916015625, 604.7527465820312, 586.1677856445312, 580.7822265625, 526.0781860351562, 551.89892578125, 507.0628662109375, 496.05908203125, 463.5710144042969, 461.1774597167969, 465.3887939453125, 462.3415832519531, 439.42486572265625, 1321.244873046875, 852.38671875, 3781.69970703125, 643.0616455078125, 3491.069580078125, 1495.010009765625, 1708.98828125, 4846.060546875, 1075.6663818359375, 2671.525146484375, 3866.518798828125, 3249.88671875, 1787.9957275390625, 2330.697998046875, 3901.578369140625, 3343.35546875, 2065.5166015625, 2117.554443359375, 1500.005859375, 2153.4755859375, 1142.31689453125, 1062.1007080078125, 867.0322875976562, 749.099853515625, 739.4674682617188, 732.7304077148438, 751.9031982421875, 709.4705200195312, 677.359375, 746.1508178710938, 628.3848266601562, 630.7637329101562, 620.8485717773438, 613.3157958984375, 589.2778930664062, 586.6881103515625, 670.880615234375, 573.44384765625, 558.1445922851562, 546.8974609375, 537.5840454101562, 536.2850341796875, 517.32275390625, 514.882080078125, 478.1457824707031, 561.9578857421875, 465.74212646484375, 461.5984802246094, 559.8803100585938, 502.92852783203125, 628.2953491210938, 1515.0792236328125, 635.8541870117188, 563.44384765625, 1881.39892578125, 794.1980590820312, 641.250244140625, 1176.5372314453125, 1280.2308349609375, 1381.99853515625, 698.7149047851562, 3349.34814453125, 1530.3226318359375, 3343.35546875, 2409.333984375, 4411.13134765625, 4917.4892578125, 2423.92041015625, 930.6207275390625, 7777.8291015625, 2287.834228515625, 2265.33642578125, 2185.917236328125, 1255.090576171875, 1040.7099609375, 837.1840209960938, 674.103271484375, 650.5357055664062, 637.2931518554688, 658.251953125, 609.1604614257812, 581.3999633789062, 552.0527954101562, 774.41357421875, 529.122802734375, 518.61962890625, 518.3453369140625, 517.6698608398438, 511.5030517578125, 500.1409606933594, 467.7200622558594, 463.08612060546875, 457.0613708496094, 537.97705078125, 445.3647155761719, 429.2652282714844, 415.1018371582031, 427.18731689453125, 407.14691162109375, 406.43072509765625, 798.797607421875, 421.2001647949219, 630.404541015625, 495.7128601074219, 1364.2086181640625, 586.0863037109375, 1079.8262939453125, 1609.6365966796875, 677.3952026367188, 2506.688720703125, 3808.031005859375, 936.8921508789062, 1376.9171142578125, 682.8442993164062, 2567.878662109375, 2269.582763671875, 2711.81884765625, 1507.153564453125, 1896.440673828125, 6524.23583984375, 1964.118896484375, 5548.02783203125, 3514.382080078125, 3964.875732421875, 7777.8291015625, 1726.12109375, 1540.152587890625, 1356.8841552734375, 1337.247314453125, 1313.25634765625, 1282.7896728515625, 1134.416748046875, 1102.9344482421875, 900.0776977539062, 703.7511596679688, 672.4026489257812, 663.0824584960938, 657.7440795898438, 640.0908813476562, 622.2091064453125, 710.6551513671875, 582.24462890625, 571.1571655273438, 555.6951904296875, 561.7875366210938, 514.245849609375, 514.0151977539062, 499.38397216796875, 495.21844482421875, 503.133544921875, 437.33941650390625, 430.3288269042969, 417.4554443359375, 417.34344482421875, 404.3692626953125, 609.6817016601562, 424.1513671875, 1754.41943359375, 633.4015502929688, 645.9490356445312, 733.3770751953125, 868.3756103515625, 661.5758056640625, 690.5021362304688, 6773.70166015625, 7777.8291015625, 3866.518798828125, 1345.003662109375, 1302.2916259765625, 1284.3853759765625, 1169.4029541015625, 922.9837036132812, 914.46533203125, 865.9063110351562, 821.583251953125, 789.2774658203125, 761.2625732421875, 755.4882202148438, 697.6262817382812, 705.2360229492188, 623.0770874023438, 578.078125, 614.5986938476562, 555.7009887695312, 554.438720703125, 541.7481689453125, 535.7359619140625, 565.7123413085938, 530.2670288085938, 471.326416015625, 459.9936828613281, 449.44122314453125, 958.351806640625, 447.7738037109375, 447.4958801269531, 441.1243896484375, 447.9486083984375, 4369.87255859375, 542.6984252929688, 1172.7518310546875, 981.2034912109375, 694.2142333984375, 1269.971435546875, 642.3043212890625, 1318.9375, 991.6455078125, 776.2257080078125, 6773.70166015625, 7777.8291015625, 1529.3526611328125, 5548.02783203125], \"loglift\": [30.0, 29.0, 28.0, 27.0, 26.0, 25.0, 24.0, 23.0, 22.0, 21.0, 20.0, 19.0, 18.0, 17.0, 16.0, 15.0, 14.0, 13.0, 12.0, 11.0, 10.0, 9.0, 8.0, 7.0, 6.0, 5.0, 4.0, 3.0, 2.0, 1.0, 2.1633999347686768, 2.163100004196167, 2.1630001068115234, 2.1630001068115234, 2.162899971008301, 2.162899971008301, 2.162600040435791, 2.162600040435791, 2.162600040435791, 2.1624999046325684, 2.1624999046325684, 2.162400007247925, 2.162400007247925, 2.1623001098632812, 2.1621999740600586, 2.162100076675415, 2.162100076675415, 2.162100076675415, 2.162100076675415, 2.1619999408721924, 2.161900043487549, 2.161799907684326, 2.161799907684326, 2.161799907684326, 2.1617000102996826, 2.161600112915039, 2.161600112915039, 2.1614999771118164, 2.1614999771118164, 2.1614999771118164, 2.160399913787842, 2.156100034713745, 2.1354000568389893, 2.1605000495910645, 2.113800048828125, 2.0738000869750977, 2.0754001140594482, 2.032599925994873, 1.839400053024292, 1.8378000259399414, 1.5354000329971313, 1.3569999933242798, 1.9601999521255493, 2.0160999298095703, 1.6134999990463257, 1.5808000564575195, 1.7308000326156616, 1.580899953842163, 0.42879998683929443, 1.309499979019165, 1.4285999536514282, 0.734499990940094, 0.8252999782562256, 1.1454999446868896, 0.9222000241279602, 0.7962999939918518, 1.0607999563217163, 2.1916000843048096, 2.191499948501587, 2.1914000511169434, 2.1912999153137207, 2.191200017929077, 2.191200017929077, 2.191200017929077, 2.1910998821258545, 2.1910998821258545, 2.1909000873565674, 2.1909000873565674, 2.1909000873565674, 2.1907999515533447, 2.190700054168701, 2.190700054168701, 2.1905999183654785, 2.1905999183654785, 2.1905999183654785, 2.1905999183654785, 2.1905999183654785, 2.190500020980835, 2.190500020980835, 2.1903998851776123, 2.1903998851776123, 2.1903998851776123, 2.1903998851776123, 2.1903998851776123, 2.1902999877929688, 2.1902999877929688, 2.190200090408325, 2.18969988822937, 2.180799961090088, 2.190000057220459, 2.1893999576568604, 2.18969988822937, 2.1900999546051025, 2.1749000549316406, 2.0961999893188477, 2.1161000728607178, 2.0966999530792236, 2.0950000286102295, 1.9285000562667847, 1.969499945640564, 1.7860000133514404, 1.8667999505996704, 1.9399000406265259, 2.080399990081787, 1.9759000539779663, 1.917099952697754, 1.8969999551773071, 1.8028000593185425, 1.9408999681472778, 1.8860000371932983, 2.0601000785827637, 1.9924999475479126, 1.781999945640564, 1.7860000133514404, 1.7635999917984009, 1.2992000579833984, 1.3775999546051025, 1.291100025177002, 0.8341000080108643, 1.5506000518798828, 2.2639000415802, 2.2639000415802, 2.263700008392334, 2.2636001110076904, 2.2634999752044678, 2.2634999752044678, 2.2634999752044678, 2.2632999420166016, 2.263200044631958, 2.263200044631958, 2.263000011444092, 2.263000011444092, 2.263000011444092, 2.263000011444092, 2.263000011444092, 2.2629001140594482, 2.2629001140594482, 2.2629001140594482, 2.2627999782562256, 2.2627999782562256, 2.2627999782562256, 2.262700080871582, 2.262700080871582, 2.2625999450683594, 2.2625999450683594, 2.262500047683716, 2.262500047683716, 2.262500047683716, 2.262399911880493, 2.262399911880493, 2.2618000507354736, 2.2583000659942627, 2.262399911880493, 2.2616000175476074, 2.253499984741211, 2.25819993019104, 2.1905999183654785, 2.244499921798706, 2.1893999576568604, 2.140000104904175, 2.207900047302246, 2.074899911880493, 1.954200029373169, 1.898800015449524, 2.070499897003174, 2.1631999015808105, 2.094099998474121, 1.7857999801635742, 1.597599983215332, 1.740399956703186, 1.1784000396728516, 1.3323999643325806, 1.5096999406814575, 0.9922000169754028, 1.929900050163269, 1.4359999895095825, 1.1444000005722046, 0.6967999935150146, 0.5439000129699707, 1.0676000118255615, 1.0210000276565552, 0.17219999432563782, 2.273099899291992, 2.272900104522705, 2.272900104522705, 2.272900104522705, 2.272700071334839, 2.272700071334839, 2.272700071334839, 2.272599935531616, 2.2725000381469727, 2.2725000381469727, 2.27239990234375, 2.27239990234375, 2.2723000049591064, 2.2723000049591064, 2.272200107574463, 2.2720999717712402, 2.2720999717712402, 2.2720000743865967, 2.2720000743865967, 2.2720000743865967, 2.2720000743865967, 2.271899938583374, 2.271899938583374, 2.2718000411987305, 2.2718000411987305, 2.2718000411987305, 2.2718000411987305, 2.271699905395508, 2.271699905395508, 2.2715001106262207, 2.2713000774383545, 2.2609000205993652, 2.2255001068115234, 2.187999963760376, 2.0706000328063965, 1.7211999893188477, 1.5360000133514404, 1.9782999753952026, 1.4599000215530396, 1.5045000314712524, 1.1550999879837036, 1.690000057220459, 1.604699969291687, 1.3472000360488892, 0.70169997215271, 1.05840003490448, 0.29989999532699585, 0.07909999787807465, 2.2964999675750732, 2.296299934387207, 2.2962000370025635, 2.2962000370025635, 2.296099901199341, 2.2960000038146973, 2.2959001064300537, 2.2959001064300537, 2.2957000732421875, 2.2957000732421875, 2.295599937438965, 2.295599937438965, 2.295599937438965, 2.295599937438965, 2.2955000400543213, 2.2953999042510986, 2.2953999042510986, 2.2953999042510986, 2.2953999042510986, 2.295300006866455, 2.2952001094818115, 2.2952001094818115, 2.2952001094818115, 2.2952001094818115, 2.2952001094818115, 2.295099973678589, 2.295099973678589, 2.295099973678589, 2.295099973678589, 2.295099973678589, 2.293600082397461, 2.294800043106079, 2.295099973678589, 2.2929999828338623, 2.244499921798706, 2.1747000217437744, 2.191499948501587, 2.1626999378204346, 2.091900110244751, 2.1867001056671143, 1.936900019645691, 1.500100016593933, 2.1577999591827393, 0.9884999990463257, 1.8345999717712402, 2.1084001064300537, 1.9758000373840332, 1.688599944114685, 1.2272000312805176, 1.8600000143051147, 0.9290000200271606, 0.46970000863075256, 1.0677000284194946, 1.0881999731063843, 1.7933000326156616, 0.8787000179290771, 0.1039000004529953, 2.318700075149536, 2.3183999061584473, 2.3183999061584473, 2.3183000087738037, 2.3183000087738037, 2.3183000087738037, 2.31820011138916, 2.3180999755859375, 2.318000078201294, 2.3178999423980713, 2.3178999423980713, 2.3178000450134277, 2.3178000450134277, 2.3178000450134277, 2.3176000118255615, 2.3176000118255615, 2.3176000118255615, 2.317500114440918, 2.317500114440918, 2.317500114440918, 2.317500114440918, 2.3173000812530518, 2.3173000812530518, 2.3173000812530518, 2.317199945449829, 2.3171000480651855, 2.3171000480651855, 2.3171000480651855, 2.316999912261963, 2.316999912261963, 2.316800117492676, 2.3131000995635986, 2.0901999473571777, 2.2571001052856445, 1.9071999788284302, 2.0394999980926514, 1.9916000366210938, 1.701200008392334, 2.070199966430664, 1.6556999683380127, 1.4775999784469604, 1.4329999685287476, 1.6815999746322632, 1.5090999603271484, 1.1828999519348145, 1.1770000457763672, 1.513100028038025, 1.3803999423980713, 2.3306000232696533, 2.330399990081787, 2.330399990081787, 2.330399990081787, 2.330199956893921, 2.3299999237060547, 2.3299999237060547, 2.3299999237060547, 2.3299999237060547, 2.3299999237060547, 2.329900026321411, 2.329900026321411, 2.3297998905181885, 2.3297998905181885, 2.3297998905181885, 2.3297998905181885, 2.329699993133545, 2.329699993133545, 2.329699993133545, 2.329699993133545, 2.3296000957489014, 2.3296000957489014, 2.3296000957489014, 2.3296000957489014, 2.3294999599456787, 2.3294999599456787, 2.329400062561035, 2.329400062561035, 2.3292999267578125, 2.3292999267578125, 2.3289999961853027, 2.328900098800659, 2.325700044631958, 2.2987000942230225, 2.312000036239624, 2.319700002670288, 2.0708000659942627, 2.237799882888794, 2.2618000507354736, 1.9824999570846558, 1.8478000164031982, 1.780400037765503, 2.19320011138916, 1.1253999471664429, 1.6581000089645386, 1.1089999675750732, 1.3034000396728516, 0.796500027179718, 0.657800018787384, 1.1837999820709229, 1.9491000175476074, -0.11190000176429749, 2.376499891281128, 2.376499891281128, 2.376499891281128, 2.376199960708618, 2.3761000633239746, 2.3759000301361084, 2.3756000995635986, 2.3756000995635986, 2.3756000995635986, 2.375499963760376, 2.375499963760376, 2.3754000663757324, 2.3754000663757324, 2.3752999305725098, 2.3752999305725098, 2.3752999305725098, 2.3752999305725098, 2.375200033187866, 2.375200033187866, 2.375200033187866, 2.3750998973846436, 2.3750998973846436, 2.375, 2.375, 2.375, 2.3749001026153564, 2.374799966812134, 2.374799966812134, 2.374799966812134, 2.374799966812134, 2.374500036239624, 2.3745999336242676, 2.370500087738037, 2.366300106048584, 2.2832999229431152, 2.346100091934204, 2.254499912261963, 2.194700002670288, 2.314300060272217, 2.0518999099731445, 1.9357999563217163, 2.2291998863220215, 2.0762999057769775, 2.2623000144958496, 1.624400019645691, 1.6319999694824219, 1.5297000408172607, 1.8315000534057617, 1.6993000507354736, 0.7811999917030334, 1.402500033378601, 0.5453000068664551, 0.8133999705314636, 0.6791999936103821, -0.10000000149011612, 2.401400089263916, 2.401400089263916, 2.4012999534606934, 2.4012999534606934, 2.4012999534606934, 2.4012999534606934, 2.40120005607605, 2.40120005607605, 2.4010000228881836, 2.400700092315674, 2.400700092315674, 2.400599956512451, 2.400599956512451, 2.400599956512451, 2.400599956512451, 2.4005000591278076, 2.4005000591278076, 2.400399923324585, 2.400399923324585, 2.400399923324585, 2.4003000259399414, 2.4003000259399414, 2.4001998901367188, 2.4001998901367188, 2.400099992752075, 2.4000000953674316, 2.4000000953674316, 2.399899959564209, 2.399899959564209, 2.3998000621795654, 2.397900104522705, 2.3998000621795654, 2.1245999336242676, 2.2962000370025635, 2.289799928665161, 2.20169997215271, 2.1026999950408936, 2.2386999130249023, 2.1877999305725098, 0.4090000092983246, 0.16249999403953552, 0.607699990272522, 2.440200090408325, 2.440200090408325, 2.440200090408325, 2.4400999546051025, 2.4398999214172363, 2.4398999214172363, 2.4398999214172363, 2.4398000240325928, 2.4398000240325928, 2.43969988822937, 2.43969988822937, 2.4395999908447266, 2.439500093460083, 2.439500093460083, 2.439300060272217, 2.439300060272217, 2.439300060272217, 2.439300060272217, 2.439300060272217, 2.439300060272217, 2.439199924468994, 2.439199924468994, 2.438999891281128, 2.438999891281128, 2.4388999938964844, 2.4388999938964844, 2.4388999938964844, 2.4388999938964844, 2.4388999938964844, 2.4388999938964844, 2.40939998626709, 2.4333999156951904, 2.2246999740600586, 2.243799924850464, 2.3160998821258545, 2.1171998977661133, 2.315000057220459, 1.9426000118255615, 2.0439000129699707, 2.1512999534606934, 0.2401999980211258, -0.11159999668598175, 1.4526000022888184, 0.1768999993801117], \"logprob\": [30.0, 29.0, 28.0, 27.0, 26.0, 25.0, 24.0, 23.0, 22.0, 21.0, 20.0, 19.0, 18.0, 17.0, 16.0, 15.0, 14.0, 13.0, 12.0, 11.0, 10.0, 9.0, 8.0, 7.0, 6.0, 5.0, 4.0, 3.0, 2.0, 1.0, -4.088799953460693, -5.124000072479248, -5.301300048828125, -5.3333001136779785, -5.469399929046631, -5.487800121307373, -5.752600193023682, -5.803999900817871, -5.811999797821045, -5.857900142669678, -5.923699855804443, -5.934500217437744, -5.98859977722168, -6.043799877166748, -6.09689998626709, -6.149099826812744, -6.16349983215332, -6.137800216674805, -6.171500205993652, -6.19189977645874, -6.275000095367432, -6.331500053405762, -6.35129976272583, -6.369699954986572, -6.408199787139893, -6.457600116729736, -6.472300052642822, -6.473199844360352, -6.4822001457214355, -6.491399765014648, -5.7866997718811035, -5.578199863433838, -4.016499996185303, -6.421899795532227, -6.118299961090088, -5.853300094604492, -5.967800140380859, -5.7617998123168945, -5.3125, -5.40910005569458, -4.601099967956543, -4.716000080108643, -5.8703999519348145, -5.975399971008301, -5.573599815368652, -5.582200050354004, -5.812900066375732, -5.7104997634887695, -5.375, -5.715199947357178, -5.76800012588501, -5.618299961090088, -5.662099838256836, -5.772299766540527, -5.767099857330322, -5.788000106811523, -5.80810022354126, -4.7230000495910645, -5.013800144195557, -5.230899810791016, -4.160600185394287, -5.3653998374938965, -5.349400043487549, -5.427999973297119, -5.5493998527526855, -5.531799793243408, -5.721199989318848, -5.761899948120117, -5.793900012969971, -5.880000114440918, -5.945099830627441, -5.937699794769287, -5.996600151062012, -5.999599933624268, -5.992099761962891, -5.978400230407715, -5.997099876403809, -6.070400238037109, -6.023499965667725, -5.937699794769287, -6.1417999267578125, -6.160900115966797, -6.167200088500977, -6.126399993896484, -5.938700199127197, -6.218699932098389, -5.88040018081665, -4.80049991607666, -4.458199977874756, -5.548900127410889, -5.702300071716309, -5.89709997177124, -5.965099811553955, -5.646200180053711, -3.9423999786376953, -4.505799770355225, -4.617599964141846, -5.18179988861084, -4.52370023727417, -4.804699897766113, -3.9226999282836914, -4.321700096130371, -4.738100051879883, -5.408899784088135, -4.984600067138672, -4.781799793243408, -4.827199935913086, -4.503900051116943, -5.110899925231934, -5.1234002113342285, -5.4629998207092285, -5.345799922943115, -5.029399871826172, -5.127099990844727, -5.30810022354126, -5.076300144195557, -5.242800235748291, -5.235000133514404, -5.289899826049805, -5.335100173950195, -5.189499855041504, -5.248000144958496, -5.43149995803833, -5.616199970245361, -5.64109992980957, -5.656400203704834, -5.706399917602539, -5.81220006942749, -5.90369987487793, -5.867700099945068, -6.036799907684326, -6.044000148773193, -6.070899963378906, -6.069399833679199, -6.086400032043457, -6.1082000732421875, -6.112100124359131, -6.146900177001953, -6.0960001945495605, -6.184100151062012, -6.1975998878479, -6.21560001373291, -6.231500148773193, -6.29449987411499, -6.285399913787842, -6.323699951171875, -6.346700191497803, -6.3582000732421875, -6.350200176239014, -6.2891998291015625, -5.644100189208984, -5.554500102996826, -6.285099983215332, -6.246099948883057, -5.953499794006348, -6.201200008392334, -4.970200061798096, -6.008600234985352, -5.3871002197265625, -5.3831000328063965, -5.943699836730957, -5.3471999168396, -4.964099884033203, -4.795000076293945, -5.585100173950195, -5.979899883270264, -5.894599914550781, -5.579999923706055, -5.5081000328063965, -5.667799949645996, -5.30709981918335, -5.422699928283691, -5.555099964141846, -5.355599880218506, -5.860199928283691, -5.650100231170654, -5.639999866485596, -5.535900115966797, -5.592599868774414, -5.722300052642822, -5.73799991607666, -5.669099807739258, -4.726099967956543, -5.1519999504089355, -5.211900234222412, -5.272500038146973, -5.436800003051758, -5.498199939727783, -5.397600173950195, -5.550000190734863, -5.667300224304199, -5.645299911499023, -5.688600063323975, -5.780200004577637, -5.791999816894531, -5.876399993896484, -5.877900123596191, -5.934800148010254, -5.9730000495910645, -6.02209997177124, -5.801400184631348, -6.050000190734863, -6.065000057220459, -6.120500087738037, -6.121399879455566, -6.154099941253662, -5.7769999504089355, -6.144199848175049, -6.000800132751465, -6.19980001449585, -6.207399845123291, -6.314599990844727, -5.950699806213379, -5.75439977645874, -5.658899784088135, -5.257400035858154, -5.645999908447266, -5.181700229644775, -5.086100101470947, -5.703000068664551, -5.2972002029418945, -5.361199855804443, -5.110400199890137, -5.5782999992370605, -5.563300132751465, -5.520100116729736, -5.371300220489502, -5.526000022888184, -5.503900051116943, -5.586400032043457, -4.624899864196777, -5.140200138092041, -5.2399001121521, -5.265999794006348, -5.4004998207092285, -5.326099872589111, -5.6066999435424805, -5.517199993133545, -5.695099830627441, -5.790500164031982, -5.840199947357178, -5.879499912261963, -5.780900001525879, -5.743199825286865, -5.956699848175049, -5.655700206756592, -6.009799957275391, -6.015399932861328, -6.037399768829346, -5.829599857330322, -6.13539981842041, -6.143099784851074, -6.153600215911865, -6.152500152587891, -6.15369987487793, -6.1697998046875, -6.118800163269043, -6.176499843597412, -6.192800045013428, -6.187099933624268, -5.454400062561035, -5.9008002281188965, -6.1631999015808105, -5.973800182342529, -5.375899791717529, -5.490300178527832, -5.646599769592285, -5.532700061798096, -5.476500034332275, -5.78849983215332, -5.406099796295166, -4.930099964141846, -5.844600200653076, -4.67710018157959, -5.565700054168701, -5.82289981842041, -5.757599830627441, -5.656199932098389, -5.506499767303467, -5.73769998550415, -5.446599960327148, -5.371600151062012, -5.531700134277344, -5.571300029754639, -5.719699859619141, -5.6844000816345215, -5.69980001449585, -4.281499862670898, -5.0278000831604, -4.938899993896484, -5.104000091552734, -5.135300159454346, -5.19379997253418, -5.3078999519348145, -5.341400146484375, -5.541999816894531, -5.53410005569458, -5.621500015258789, -5.612100124359131, -5.673799991607666, -5.5945000648498535, -5.854499816894531, -5.7846999168396, -5.879000186920166, -5.819499969482422, -5.902200222015381, -5.933499813079834, -5.942699909210205, -6.041800022125244, -5.993899822235107, -6.078700065612793, -6.1006999015808105, -6.168499946594238, -6.173699855804443, -6.164599895477295, -6.171199798583984, -6.222099781036377, -5.121399879455566, -5.563499927520752, -4.29640007019043, -5.901199817657471, -4.5594000816345215, -5.275199890136719, -5.1894001960754395, -4.4375, -5.573699951171875, -5.078400135040283, -4.886899948120117, -5.105199813842773, -5.45419979095459, -5.361499786376953, -5.172500133514404, -5.332799911499023, -5.478300094604492, -5.58620023727417, -4.980800151824951, -4.61929988861084, -5.253300189971924, -5.326200008392334, -5.529300212860107, -5.6757001876831055, -5.688600063323975, -5.697800159454346, -5.671999931335449, -5.730100154876709, -5.776500225067139, -5.679800033569336, -5.851600170135498, -5.847799777984619, -5.863699913024902, -5.875899791717529, -5.915999889373779, -5.920400142669678, -5.786300182342529, -5.94320011138916, -5.970300197601318, -5.990699768066406, -6.007900238037109, -6.010300159454346, -6.04640007019043, -6.051199913024902, -6.12529993057251, -5.963799953460693, -6.151599884033203, -6.160600185394287, -5.967899799346924, -6.075200080871582, -5.855899810791016, -5.002699851989746, -5.857600212097168, -5.970799922943115, -5.013999938964844, -5.709400177001953, -5.899400234222412, -5.571800231933594, -5.622000217437744, -5.6128997802734375, -5.8821001052856445, -5.382599830627441, -5.633200168609619, -5.4008002281188965, -5.53410005569458, -5.436200141906738, -5.466300010681152, -5.647600173950195, -5.839600086212158, -5.777400016784668, -4.512700080871582, -4.522600173950195, -4.558300018310547, -5.113399982452393, -5.300899982452393, -5.518700122833252, -5.735599994659424, -5.771200180053711, -5.791800022125244, -5.759500026702881, -5.836999893188477, -5.883699893951416, -5.9355998039245605, -5.5971999168396, -5.978099822998047, -5.998199939727783, -5.998700141906738, -6.0, -6.01200008392334, -6.0345001220703125, -6.101600170135498, -6.111599922180176, -6.12470006942749, -5.9618000984191895, -6.150700092315674, -6.187600135803223, -6.221199989318848, -6.192500114440918, -6.240600109100342, -6.242400169372559, -5.566999912261963, -6.206900119781494, -5.807799816131592, -6.052299976348877, -5.123000144958496, -5.90500020980835, -5.3856000900268555, -5.04610013961792, -5.791999816894531, -4.7459001541137695, -4.443900108337402, -5.5528998374938965, -5.320700168609619, -5.835999965667725, -5.1493000984191895, -5.265200138092041, -5.189499855041504, -5.475100040435791, -5.377600193023682, -5.060100078582764, -5.639200210571289, -5.458000183105469, -5.646500110626221, -5.660200119018555, -5.765600204467773, -4.769499778747559, -4.883600234985352, -5.010300159454346, -5.024899959564209, -5.043000221252441, -5.066500186920166, -5.189499855041504, -5.217700004577637, -5.42110013961792, -5.667399883270264, -5.713099956512451, -5.7270002365112305, -5.735099792480469, -5.762400150299072, -5.7906999588012695, -5.657899856567383, -5.8572001457214355, -5.876500129699707, -5.9039998054504395, -5.893099784851074, -5.981599807739258, -5.982100009918213, -6.011000156402588, -6.019400119781494, -6.003600120544434, -6.143899917602539, -6.160099983215332, -6.190499782562256, -6.190800189971924, -6.222400188446045, -5.813799858093262, -6.174699783325195, -5.030099868774414, -5.877200126647949, -5.864099979400635, -5.825200080871582, -5.755300045013428, -5.891200065612793, -5.899400234222412, -5.394800186157227, -5.502999782562256, -5.756800174713135, -4.980199813842773, -5.012499809265137, -5.026400089263916, -5.120200157165527, -5.357100009918213, -5.366300106048584, -5.420899868011475, -5.473499774932861, -5.513700008392334, -5.549900054931641, -5.557499885559082, -5.63730001449585, -5.626500129699707, -5.750400066375732, -5.825500011444092, -5.7642998695373535, -5.864999771118164, -5.867300033569336, -5.890500068664551, -5.901700019836426, -5.847300052642822, -5.9120001792907715, -6.03000020980835, -6.0543999671936035, -6.077600002288818, -5.320400238037109, -6.081399917602539, -6.081999778747559, -6.096399784088135, -6.080999851226807, -3.83270001411438, -5.894700050354004, -5.332799911499023, -5.492000102996826, -5.765699863433838, -5.360599994659424, -5.844600200653076, -5.497399806976318, -5.681300163269043, -5.81879997253418, -5.563600063323975, -5.777200222015381, -5.839300155639648, -5.826499938964844]}, \"token.table\": {\"Topic\": [1, 1, 2, 4, 5, 8, 9, 10, 6, 1, 1, 2, 3, 4, 5, 7, 8, 9, 10, 1, 2, 3, 4, 5, 6, 7, 8, 9, 10, 1, 9, 5, 7, 6, 9, 10, 9, 7, 4, 2, 8, 9, 10, 3, 9, 9, 10, 10, 2, 10, 8, 10, 1, 3, 7, 2, 5, 8, 10, 6, 5, 2, 1, 10, 1, 2, 3, 4, 5, 6, 7, 8, 9, 10, 2, 4, 1, 2, 3, 4, 5, 6, 7, 8, 9, 10, 1, 2, 3, 4, 5, 6, 7, 8, 9, 10, 7, 2, 3, 5, 1, 2, 3, 4, 5, 6, 7, 8, 9, 10, 4, 2, 9, 5, 9, 1, 7, 2, 3, 5, 6, 7, 9, 1, 2, 3, 4, 5, 6, 7, 8, 10, 1, 4, 5, 7, 8, 9, 8, 3, 7, 1, 4, 6, 5, 9, 5, 5, 6, 7, 2, 4, 5, 6, 7, 9, 2, 5, 7, 10, 7, 8, 1, 5, 7, 8, 5, 10, 3, 6, 1, 3, 4, 5, 6, 7, 8, 9, 10, 3, 7, 8, 9, 10, 9, 5, 6, 7, 1, 2, 3, 4, 5, 6, 7, 8, 9, 10, 6, 1, 1, 3, 1, 10, 9, 3, 5, 7, 7, 3, 4, 5, 6, 7, 8, 9, 10, 7, 3, 5, 7, 8, 1, 2, 3, 4, 5, 6, 7, 8, 9, 10, 1, 2, 3, 4, 5, 6, 7, 8, 10, 2, 1, 2, 4, 5, 8, 9, 10, 1, 2, 3, 4, 5, 6, 7, 8, 9, 10, 1, 4, 9, 4, 1, 7, 8, 4, 10, 1, 2, 3, 4, 5, 6, 7, 8, 9, 10, 5, 1, 1, 2, 3, 4, 5, 7, 9, 10, 4, 4, 6, 9, 1, 2, 4, 7, 8, 4, 3, 1, 6, 7, 8, 9, 10, 10, 2, 8, 1, 6, 2, 2, 1, 2, 3, 4, 5, 6, 7, 8, 9, 10, 1, 4, 6, 8, 9, 2, 7, 1, 2, 3, 4, 5, 6, 7, 8, 9, 10, 3, 2, 5, 6, 3, 6, 1, 2, 3, 5, 6, 9, 8, 1, 5, 6, 10, 2, 1, 3, 5, 6, 7, 8, 9, 10, 1, 1, 3, 4, 5, 6, 7, 8, 9, 10, 1, 3, 4, 1, 1, 4, 8, 1, 3, 5, 6, 8, 2, 3, 4, 5, 6, 7, 8, 9, 10, 1, 2, 4, 5, 6, 7, 8, 9, 10, 3, 1, 1, 2, 2, 4, 5, 6, 7, 8, 9, 10, 9, 10, 5, 7, 7, 9, 4, 5, 8, 9, 5, 5, 2, 3, 1, 2, 6, 7, 8, 10, 6, 3, 4, 6, 7, 8, 9, 1, 2, 4, 5, 6, 7, 8, 9, 10, 8, 5, 3, 5, 6, 7, 3, 2, 1, 2, 3, 4, 5, 6, 7, 8, 9, 10, 1, 1, 4, 5, 4, 10, 7, 5, 8, 7, 3, 7, 10, 4, 9, 5, 6, 7, 1, 2, 3, 4, 5, 6, 7, 8, 9, 10, 4, 8, 2, 2, 1, 2, 3, 4, 5, 6, 7, 8, 9, 10, 1, 3, 4, 6, 7, 9, 1, 3, 4, 5, 6, 7, 8, 9, 10, 2, 6, 2, 9, 2, 1, 3, 4, 5, 6, 7, 8, 9, 10, 2, 6, 1, 8, 3, 1, 2, 3, 4, 5, 6, 7, 8, 9, 10, 6, 10, 5, 6, 7, 9, 10, 3, 2, 8, 10, 8, 3, 6, 7, 1, 2, 3, 4, 5, 6, 7, 8, 9, 10, 10, 1, 4, 5, 7, 8, 8, 1, 10, 2, 10, 9, 7, 2, 5, 6, 7, 9, 10, 4, 1, 2, 3, 4, 5, 7, 8, 10, 4, 1, 3, 10, 9, 8, 2, 7, 8, 3, 8, 8, 5, 7, 8, 9, 3, 4, 1, 2, 3, 4, 5, 6, 7, 8, 9, 10, 8, 9, 10, 3, 7, 8, 6, 1, 2, 3, 4, 5, 6, 7, 8, 9, 10, 3, 7, 2, 4, 6, 7, 9, 1, 1, 2, 3, 4, 5, 6, 7, 8, 9, 10, 1, 9, 9, 1, 2, 3, 4, 5, 6, 7, 9, 10, 1, 2, 3, 4, 5, 7, 8, 9, 10, 1, 2, 5, 6, 9, 2, 3, 1, 3, 4, 6, 7, 5, 9, 1, 2, 6, 7, 8, 9, 10, 3, 5, 5, 1, 2, 4, 5, 8, 9, 10, 1, 5, 6, 1, 3, 4, 6, 7, 8, 9, 10, 4, 8, 9, 10, 1, 3, 6, 7, 8, 9, 10, 6, 10, 9, 4, 2, 3, 5, 6, 7, 8, 9, 10, 2, 5, 3, 10, 6, 2, 5, 6, 7, 9, 5, 1, 2, 3, 4, 5, 6, 7, 8, 9, 10, 1, 1, 3, 4, 5, 6, 8, 9, 10, 1, 3, 7, 1, 2, 3, 4, 8, 9, 10, 2, 3, 4, 5, 7, 8, 10, 8, 6, 2, 10, 5, 1, 9, 9, 9, 3, 5, 6, 8, 9, 10, 4, 5, 7, 8, 9, 10, 1, 3, 4, 5, 6, 7, 8, 9, 9, 8, 10, 10, 7, 8, 7, 1, 4, 7, 10, 4, 10, 1, 2, 3, 4, 5, 6, 7, 8, 9, 10, 3, 3, 7, 7, 6, 3, 4, 9, 10, 3, 7, 8, 2, 8, 3, 7, 10, 10, 1, 2, 3, 4, 5, 6, 7, 8, 9, 10, 3, 1, 1, 9, 1, 2, 3, 4, 5, 6, 7, 8, 9, 10, 6, 8, 1, 2, 3, 4, 5, 6, 7, 8, 9, 9, 8, 1, 4, 5, 6, 8, 9, 10, 6, 2, 2, 1, 2, 3, 4, 5, 6, 7, 9, 10, 10, 1, 2, 3, 4, 5, 6, 7, 8, 9, 10, 8, 3, 4, 6, 8, 1, 4, 5, 6, 2, 5, 7, 1, 2, 3, 4, 5, 6, 7, 8, 9, 10, 10, 3, 5, 7, 5, 4, 5, 6, 1, 2, 3, 4, 5, 6, 7, 8, 9, 10, 6, 7, 7, 8, 1, 2, 3, 4, 5, 6, 7, 8, 9, 10, 7, 3, 1, 2, 3, 4, 5, 6, 7, 8, 9, 10, 5, 4, 1, 3, 4, 5, 7, 8, 9, 9, 6, 1, 3, 4, 6, 7, 8, 9, 1, 3, 4, 6, 7, 10, 3, 6, 7, 8, 9, 10, 9, 3, 7, 1, 3, 4, 6, 7, 8, 9, 10, 9, 1, 3, 4, 6, 7, 9, 10, 3, 5, 7, 8, 4, 8, 1, 3, 4, 5, 6, 7, 8, 9, 10, 1, 2, 7, 8, 9, 3, 2, 6, 9, 5, 9, 7, 1, 2, 3, 4, 5, 6, 7, 8, 9, 10, 10, 4, 6, 7, 8, 4, 10, 1, 2, 3, 4, 5, 6, 7, 8, 9, 10, 1, 2, 3, 4, 5, 6, 7, 8, 9, 10, 6, 2, 10, 4, 3, 4, 1, 2, 4, 5, 7, 9, 10, 6, 4, 1, 3, 4, 6, 7, 8, 9, 10, 4, 5, 6, 2, 5, 6, 7, 10, 1, 1, 2, 3, 4, 5, 6, 7, 8, 9, 10, 8, 6, 9, 3, 5, 7, 10, 2, 4, 5, 6, 9, 2, 4, 6, 7, 3, 4, 5, 6, 7, 8, 9, 10, 1, 1, 2, 3, 5, 6, 7, 8, 10, 2, 8, 9, 5, 2, 1, 3, 4, 6, 7, 8, 9, 10, 6, 5, 2, 5, 6, 7, 8, 10, 8, 1, 9, 4, 7, 4, 7, 2, 5, 1, 2, 3, 4, 5, 6, 7, 8, 9, 10, 10, 4, 7, 9, 3, 9, 10, 4, 2, 1, 4, 6, 10, 1, 2, 3, 4, 5, 6, 7, 8, 9, 10, 2, 7, 9, 10, 1, 4, 4, 3, 3, 9, 5, 3, 3, 7, 5, 2, 5, 2, 7, 1, 2, 3, 4, 5, 6, 7, 8, 9, 10, 5, 8, 1, 4, 6, 7, 9, 10, 2, 6, 10, 2, 5, 6, 2, 1, 10, 5, 8, 6, 3, 4, 5, 7, 8, 9, 10, 7, 2, 6, 5, 4, 1, 2, 3, 4, 5, 6, 7, 8, 9, 10, 8, 2, 5, 6, 3, 10, 8, 5, 8, 3, 5, 8, 1, 2, 3, 4, 6, 7, 8, 9, 10, 10, 9, 4, 1, 9, 10, 1, 3, 4, 5, 6, 8, 9, 10, 2, 4, 5, 7, 8, 9, 10, 8, 9, 1, 3, 7, 1, 1, 1, 2, 3, 4, 5, 6, 7, 8, 9, 10, 3, 1, 2, 3, 4, 5, 6, 7, 8, 9, 10, 6, 7, 5, 1, 2, 3, 4, 5, 6, 7, 8, 9, 10, 1, 2, 3, 4, 5, 6, 7, 8, 9, 10, 1, 2, 4, 5, 6, 7, 8, 10, 6, 7, 2, 7, 1, 2, 3, 4, 5, 6, 7, 8, 9, 10, 4, 2, 4, 5, 6, 7, 8, 9, 10, 8, 1, 2, 3, 4, 5, 6, 7, 8, 9, 10, 1, 2, 3, 4, 5, 6, 7, 8, 9, 10, 5, 8, 8, 1, 2, 3, 4, 5, 6, 7, 8, 9, 10, 5, 3, 5, 6, 9], \"Freq\": [0.9994570016860962, 0.03989693149924278, 0.805448591709137, 0.01079563982784748, 0.004693756345659494, 0.00046937563456594944, 0.1234457939863205, 0.014550644904375076, 0.9994167685508728, 0.9980647563934326, 0.04769732803106308, 0.759543776512146, 0.0007226867601275444, 0.04697464033961296, 0.027100753039121628, 0.0007226867601275444, 0.029268814250826836, 0.02565537951886654, 0.06178971752524376, 0.558087944984436, 0.03332843631505966, 0.03790292516350746, 0.07711285352706909, 0.05227989703416824, 0.013723473064601421, 0.0496659018099308, 0.05227989703416824, 0.08691532909870148, 0.03790292516350746, 0.9988352656364441, 0.9969373345375061, 0.9990962743759155, 0.9974430799484253, 0.09946297109127045, 0.8999030590057373, 0.998381495475769, 0.9985981583595276, 0.998457670211792, 0.9978829026222229, 0.9887429475784302, 0.0030632312409579754, 0.00034035902353934944, 0.00748789869248867, 0.9989897012710571, 0.9996326565742493, 0.0010434581199660897, 0.9985894560813904, 0.9986262321472168, 0.9980893731117249, 0.9971857666969299, 0.3267296552658081, 0.6726194024085999, 0.008873999118804932, 0.0017747997771948576, 0.9885634779930115, 0.9092839360237122, 0.087699294090271, 0.0011008279398083687, 0.001834713271819055, 0.9995447397232056, 0.9983612298965454, 0.9997607469558716, 0.9994552731513977, 0.9974510669708252, 0.033473774790763855, 0.40953072905540466, 0.02170565165579319, 0.029289552941918373, 0.2547145187854767, 0.05151823163032532, 0.05831759423017502, 0.032689232379198074, 0.04864158108830452, 0.060409706085920334, 0.9992583990097046, 0.9991023540496826, 0.07971376180648804, 0.015942752361297607, 0.09514223039150238, 0.11147069185972214, 0.27025535702705383, 0.0722566694021225, 0.08691371232271194, 0.08395659178495407, 0.10658501088619232, 0.07791376858949661, 0.07740370184183121, 0.05517887696623802, 0.12338609993457794, 0.10867173224687576, 0.16093838214874268, 0.050733912736177444, 0.06728757172822952, 0.20278236269950867, 0.07893645018339157, 0.07479803264141083, 0.9983590245246887, 0.9990929961204529, 0.9979665279388428, 0.9978858828544617, 0.09544195234775543, 0.07118598371744156, 0.025310572236776352, 0.056948788464069366, 0.058003395795822144, 0.054312270134687424, 0.05167575180530548, 0.5077933669090271, 0.04112968221306801, 0.03796586021780968, 0.9987372756004333, 0.9989227056503296, 0.9989089965820312, 0.003280400298535824, 0.9956014752388, 0.877480685710907, 0.1221124604344368, 0.09044872224330902, 0.04630974680185318, 0.0007235897937789559, 0.2424025684595108, 0.5767010450363159, 0.04413897544145584, 0.06095224991440773, 0.005730553530156612, 0.46990537643432617, 0.042197711765766144, 0.20838375389575958, 0.061994168907403946, 0.027089888229966164, 0.07032951712608337, 0.052616897970438004, 0.0012591317063197494, 0.028960030525922775, 0.0025182634126394987, 0.9103522896766663, 0.05162440240383148, 0.00377739523537457, 0.9981746673583984, 0.9975311756134033, 0.9993876218795776, 0.9989495277404785, 0.998529314994812, 0.9987552762031555, 0.19116522371768951, 0.8066593408584595, 0.9981971383094788, 0.002346352906897664, 0.9936804175376892, 0.0035195292439311743, 0.9994198083877563, 0.019309669733047485, 0.04681131988763809, 0.7208943367004395, 0.11819858849048615, 0.09420778602361679, 0.17758549749851227, 0.8146519064903259, 0.0034482621122151613, 0.0034482621122151613, 0.9947550892829895, 0.0031832163222134113, 0.0017332155257463455, 0.9965989589691162, 0.9993678331375122, 0.9971830248832703, 0.9994915127754211, 0.9982473850250244, 0.9986991882324219, 0.9979504942893982, 0.33195456862449646, 0.12935520708560944, 0.26813364028930664, 0.0025699709076434374, 0.017133139073848724, 0.04411783441901207, 0.0886639952659607, 0.07024586945772171, 0.0484011210501194, 0.9796239137649536, 0.0017096403753384948, 0.0034192807506769896, 0.006838561501353979, 0.008548201993107796, 0.9969120621681213, 0.02974831499159336, 0.264335036277771, 0.7054600119590759, 0.11414427310228348, 0.009840023703873158, 0.3262951970100403, 0.16137638688087463, 0.019680047407746315, 0.13421791791915894, 0.06573136150836945, 0.07950738817453384, 0.058646541088819504, 0.03070087358355522, 0.9979683756828308, 0.998181939125061, 0.9981445670127869, 0.9992302060127258, 0.1935618370771408, 0.8057971000671387, 0.9979739785194397, 0.005280252080410719, 0.026401259005069733, 0.9682661890983582, 0.9982954263687134, 0.12881267070770264, 0.09611909836530685, 0.1320820301771164, 0.020923886448144913, 0.08500328660011292, 0.08369554579257965, 0.08108005672693253, 0.3720528483390808, 0.9992259740829468, 0.9453899264335632, 0.0015447548357769847, 0.047887399792671204, 0.0030895096715539694, 0.21909968554973602, 0.025609053671360016, 0.07739625126123428, 0.12320800125598907, 0.03784449025988579, 0.03442994877696037, 0.095038041472435, 0.209425151348114, 0.1266225427389145, 0.05150265246629715, 0.00018671703583095223, 0.9087517857551575, 0.00018671703583095223, 0.0007468681433238089, 0.0005601511220447719, 0.025580232962965965, 0.010456154122948647, 0.03323563188314438, 0.020165439695119858, 0.9990077614784241, 0.06311453878879547, 0.8006196022033691, 0.0019479796756058931, 0.021038180217146873, 0.0011687878286466002, 0.08103594928979874, 0.03116767480969429, 0.06836225092411041, 0.037942685186862946, 0.04252197593450546, 0.08210012316703796, 0.292420357465744, 0.09387543797492981, 0.11055713891983032, 0.13541613519191742, 0.06934352964162827, 0.06803516298532486, 0.9987674951553345, 0.9997043609619141, 0.9980567693710327, 0.9984861016273499, 0.1467045396566391, 0.11257032305002213, 0.7400590777397156, 0.9993774890899658, 0.9988918900489807, 0.016151437535881996, 0.13908183574676514, 0.08823470771312714, 0.024825358763337135, 0.03110647387802601, 0.3191404640674591, 0.29461419582366943, 0.04815521463751793, 0.023329855874180794, 0.015254136174917221, 0.9973258972167969, 0.9977737665176392, 0.47966015338897705, 0.2954040765762329, 0.007726867683231831, 0.0029718722216784954, 0.012481862679123878, 0.006538118701428175, 0.16701921820640564, 0.02793559804558754, 0.9994120597839355, 0.9991849660873413, 0.9984734654426575, 0.9989326596260071, 0.9508510828018188, 0.0016740337014198303, 0.010044202208518982, 0.033480674028396606, 0.0033480674028396606, 0.9977164268493652, 0.9986628890037537, 0.916096568107605, 0.0013859252212569118, 0.0013859252212569118, 0.008315551094710827, 0.07206811010837555, 0.0013859252212569118, 0.9976105690002441, 0.9969478249549866, 0.0011910964967682958, 0.9984162449836731, 0.9991645812988281, 0.9988200664520264, 0.9987323880195618, 0.26233965158462524, 0.015793021768331528, 0.08861640095710754, 0.15588296949863434, 0.02193475142121315, 0.05878513678908348, 0.14038240909576416, 0.08071988821029663, 0.11259839683771133, 0.06317208707332611, 0.9720770716667175, 0.0010454689618200064, 0.0002090938069159165, 0.026345819234848022, 0.0002090938069159165, 0.997490644454956, 0.0014477368677034974, 0.07634855061769485, 0.7224915623664856, 0.0017351943533867598, 0.02103923074901104, 0.0034703887067735195, 0.003687287913635373, 0.018870238214731216, 0.05661071464419365, 0.05465862154960632, 0.04099396616220474, 0.9969048500061035, 0.1911838799715042, 0.012957137078046799, 0.7956739664077759, 0.9994739890098572, 0.9983486533164978, 0.08321274816989899, 0.876617431640625, 0.015653884038329124, 0.017301660031080246, 0.004119442775845528, 0.0024716658517718315, 0.9988052248954773, 0.8632776141166687, 0.0105277756229043, 0.0013159719528630376, 0.12501734495162964, 0.9985430836677551, 0.7230079770088196, 0.06252427399158478, 0.0005684025236405432, 0.00568402511999011, 0.07673434168100357, 0.07105031609535217, 0.0602506659924984, 0.0005684025236405432, 0.9987590909004211, 0.0007811091491021216, 0.04608543962240219, 0.05077209323644638, 0.040617674589157104, 0.032025475054979324, 0.6170762181282043, 0.06092651188373566, 0.05077209323644638, 0.10232529789209366, 0.11616625636816025, 0.8831931352615356, 0.9982772469520569, 0.9966497421264648, 0.9144477844238281, 0.08515100926160812, 0.9980949759483337, 0.04364443197846413, 0.6194693446159363, 0.021118273958563805, 0.14290031790733337, 0.17246590554714203, 0.24432414770126343, 0.0022449386306107044, 0.003367407713085413, 0.343101441860199, 0.2630319595336914, 0.05425268039107323, 0.02806173264980316, 0.033299922943115234, 0.02806173264980316, 0.016111567616462708, 0.6776623129844666, 0.0002441146643832326, 0.04516121372580528, 0.0659109577536583, 0.09911055117845535, 0.02685261331498623, 0.03368782252073288, 0.03490839898586273, 0.9996311664581299, 0.9983102679252625, 0.8156692385673523, 0.18374967575073242, 0.1953914314508438, 0.028924085199832916, 0.0467708595097065, 0.412322074174881, 0.05107870325446129, 0.06738696247339249, 0.0680023729801178, 0.13015837967395782, 0.17835240066051483, 0.8214402198791504, 0.06549704819917679, 0.932553231716156, 0.998913586139679, 0.9992311000823975, 0.16463343799114227, 0.0018637747270986438, 0.833728551864624, 0.9993844032287598, 0.9994590878486633, 0.9989784359931946, 0.9833620190620422, 0.016648340970277786, 0.03894957900047302, 0.6661720871925354, 0.26324543356895447, 0.0237279050052166, 0.0017907852306962013, 0.005820052232593298, 0.999440610408783, 0.591947078704834, 0.1182425320148468, 0.05581635236740112, 0.14100973308086395, 0.0029377026949077845, 0.08886551111936569, 0.055593639612197876, 0.7445841431617737, 0.03780367597937584, 0.01111872773617506, 0.015936844050884247, 0.004076866898685694, 0.02890869230031967, 0.027055570855736732, 0.0752367228269577, 0.9994100332260132, 0.9994239807128906, 0.000668891821987927, 0.08628704398870468, 0.756516695022583, 0.1558517962694168, 0.998194694519043, 0.99897700548172, 0.09557722508907318, 0.006090705748647451, 0.04614880681037903, 0.3267897963523865, 0.14851951599121094, 0.023894306272268295, 0.0702773705124855, 0.11853450536727905, 0.0691060796380043, 0.09510871022939682, 0.9973869919776917, 0.29641297459602356, 0.15923580527305603, 0.5445727109909058, 0.9970666170120239, 0.9987385272979736, 0.9993367791175842, 0.9985883235931396, 0.9991765022277832, 0.9982868432998657, 0.010083342902362347, 0.1051548570394516, 0.8830127120018005, 0.9995531439781189, 0.9987489581108093, 0.8701953291893005, 0.12507393956184387, 0.003991721663624048, 0.12828709185123444, 0.40614110231399536, 0.10579124838113785, 0.06171156093478203, 0.04316769167780876, 0.0334397628903389, 0.05471961200237274, 0.07721544802188873, 0.04985564574599266, 0.03921572118997574, 0.0012518815929070115, 0.9977496266365051, 0.9989823698997498, 0.9976520538330078, 0.05639803037047386, 0.03745181858539581, 0.08768131583929062, 0.016302555799484253, 0.05639803037047386, 0.10134021192789078, 0.03128328174352646, 0.47497716546058655, 0.10662753134965897, 0.03172389417886734, 0.00044314569095149636, 0.06602870672941208, 0.5756462216377258, 0.08109565824270248, 0.17681512236595154, 0.09970778226852417, 0.10091082006692886, 0.3937050998210907, 0.10702662914991379, 0.03210798650979996, 0.027903370559215546, 0.12766747176647186, 0.08562130481004715, 0.08103444427251816, 0.04472184181213379, 0.47091835737228394, 0.5285247564315796, 0.9978413581848145, 0.0010223784483969212, 0.998791515827179, 0.0017974304500967264, 0.6938081383705139, 0.031634777784347534, 0.07117825001478195, 0.031634777784347534, 0.05176599696278572, 0.03451066464185715, 0.026242485269904137, 0.05715828761458397, 0.9983344674110413, 0.9993987679481506, 0.9970270395278931, 0.9971505999565125, 0.9978079199790955, 0.06516323983669281, 0.0008301049238070846, 0.1564747840166092, 0.08301049470901489, 0.10666847974061966, 0.0950470119714737, 0.3577752113342285, 0.030298829078674316, 0.05769229307770729, 0.04731598123908043, 0.9992929697036743, 0.9983415007591248, 0.8741241097450256, 0.000978862401098013, 0.05090084299445152, 0.053837429732084274, 0.01957724802196026, 0.9983085989952087, 0.998167872428894, 0.9976546168327332, 0.9990081787109375, 0.9979708790779114, 0.9035499095916748, 0.009188642725348473, 0.08576066792011261, 0.2548782229423523, 0.0006444455939345062, 0.08216681331396103, 0.2967671751976013, 0.020300034433603287, 0.05767787992954254, 0.0908668264746666, 0.03254450112581253, 0.11825576424598694, 0.04575563594698906, 0.9978823065757751, 0.0015862829750403762, 0.0015862829750403762, 0.0015862829750403762, 0.0015862829750403762, 0.9930131435394287, 0.9987059831619263, 0.9985824823379517, 0.9990258812904358, 0.999238908290863, 0.9989533424377441, 0.9975773096084595, 0.9988270998001099, 0.8191004991531372, 0.06711693108081818, 0.09999052435159683, 0.001369733246974647, 0.002739466493949294, 0.009588132612407207, 0.9982641935348511, 0.4463815987110138, 0.031691163778305054, 0.045411117374897, 0.2077317088842392, 0.07323750108480453, 0.06376880407333374, 0.054493341594934464, 0.07710228115320206, 0.9988099932670593, 0.17495174705982208, 0.8239663243293762, 0.0009406008175574243, 0.9993504881858826, 0.9974045753479004, 0.7780272364616394, 0.2190612107515335, 0.002571140881627798, 0.996759831905365, 0.0022052207496017218, 0.9984604716300964, 0.9983107447624207, 0.9986332058906555, 0.9972206354141235, 0.9982957243919373, 0.9967273473739624, 0.0024163087364286184, 0.24694150686264038, 0.011711318045854568, 0.03413012623786926, 0.4781563878059387, 0.0003346090961713344, 0.022418808192014694, 0.05621432512998581, 0.029445599764585495, 0.06792564690113068, 0.05286823585629463, 0.007784471847116947, 0.10898260772228241, 0.881202220916748, 0.9975756406784058, 0.9987891912460327, 0.9980980753898621, 0.9987155199050903, 0.07326450198888779, 0.11071080714464188, 0.5133942365646362, 0.07597800344228745, 0.009768600575625896, 0.07055100053548813, 0.06458130478858948, 0.0054270001128315926, 0.016823701560497284, 0.05861160531640053, 0.9975252747535706, 0.9988471865653992, 0.005846713203936815, 0.11374514549970627, 0.10736691206693649, 0.770703136920929, 0.0021260776557028294, 0.99873948097229, 0.2888237535953522, 0.1889701932668686, 0.019326496869325638, 0.1145273819565773, 0.03578980639576912, 0.16821210086345673, 0.0422319732606411, 0.045095156878232956, 0.04437936097383499, 0.05261101946234703, 0.999728798866272, 0.997747004032135, 0.999078094959259, 0.0006880395230837166, 0.016512949019670486, 0.0006880395230837166, 0.10458200424909592, 0.6976720690727234, 0.03715413436293602, 0.0013760790461674333, 0.11490260064601898, 0.026833541691303253, 0.15967930853366852, 0.00042695002048276365, 0.08965950459241867, 0.46324077248573303, 0.03757160156965256, 0.07770489901304245, 0.008112050592899323, 0.0824013501405716, 0.08112049847841263, 0.04971197992563248, 0.13404481112957, 0.6462557315826416, 0.059476833790540695, 0.11007653176784515, 0.9994136691093445, 0.9990851879119873, 0.5335178971290588, 0.17893749475479126, 0.1354900747537613, 0.09780818223953247, 0.05415484681725502, 0.8997587561607361, 0.09934601187705994, 0.047712039202451706, 0.6635208129882812, 0.13019725680351257, 0.04932939633727074, 0.010512822307646275, 0.06065089628100395, 0.037603553384542465, 0.9976778626441956, 0.9989311099052429, 0.997845470905304, 0.00033453592914156616, 0.926999032497406, 0.0006690718582831323, 0.004014431033283472, 0.046500492841005325, 0.008028862066566944, 0.013715973123908043, 0.9995982646942139, 0.9979356527328491, 0.9987682104110718, 0.5770420432090759, 0.0035329104866832495, 0.17016851902008057, 0.009421095252037048, 0.05652656778693199, 0.10009913146495819, 0.06653648614883423, 0.016486916691064835, 0.9979491829872131, 0.8918578028678894, 0.10690577328205109, 0.9996999502182007, 0.0017062333645299077, 0.0017062333645299077, 0.01023740042001009, 0.01023740042001009, 0.9691405296325684, 0.0034124667290598154, 0.0017062333645299077, 0.9991129040718079, 0.9982713460922241, 0.9990867972373962, 0.9993114471435547, 0.2543827295303345, 0.00027620274340733886, 0.45076286792755127, 0.2088092714548111, 0.053583331406116486, 0.012705326080322266, 0.00027620274340733886, 0.01933419145643711, 0.9985097646713257, 0.9986807703971863, 0.9985489249229431, 0.9989342093467712, 0.9990949630737305, 0.003110121702775359, 0.0544271320104599, 0.9392567873001099, 0.0015550608513876796, 0.0015550608513876796, 0.997909665107727, 0.2159392535686493, 0.007696844637393951, 0.027794161811470985, 0.39595991373062134, 0.021807726472616196, 0.009407254867255688, 0.01624889485538006, 0.07483043521642685, 0.14538484811782837, 0.08509289473295212, 0.9984827041625977, 0.0017999899573624134, 0.7330459356307983, 0.11969932913780212, 0.00134999246802181, 0.05489969253540039, 0.0017999899573624134, 0.00044999748934060335, 0.08639951795339584, 0.9982718825340271, 0.9939560294151306, 0.004202773794531822, 0.16666513681411743, 0.004469946026802063, 0.017879784107208252, 0.5581046938896179, 0.07918190211057663, 0.11494147032499313, 0.05938642844557762, 0.15993347764015198, 0.22428542375564575, 0.08990343660116196, 0.24226610362529755, 0.14952361583709717, 0.03186051547527313, 0.10220601409673691, 0.9973456263542175, 0.9983711838722229, 0.2499273121356964, 0.7484936118125916, 0.997740626335144, 0.9984965920448303, 0.999043345451355, 0.9975395798683167, 0.9994011521339417, 0.06558317691087723, 0.6295984387397766, 0.0036435096990317106, 0.20257914066314697, 0.02477586455643177, 0.07359889149665833, 0.12130976468324661, 0.1395062357187271, 0.009098232723772526, 0.0007581860409118235, 0.12206795066595078, 0.6073070168495178, 0.032300155609846115, 0.1194843202829361, 0.013392748311161995, 0.03308796510100365, 0.07799306511878967, 0.03702700883150101, 0.6433771252632141, 0.04359208047389984, 0.999251663684845, 0.005527932196855545, 0.9931851029396057, 0.9986189603805542, 0.9813570380210876, 0.01729956455528736, 0.997603714466095, 0.0815669372677803, 0.9178186058998108, 0.9984065890312195, 0.9992538094520569, 0.9991136789321899, 0.9982718825340271, 0.0013363193720579147, 0.44298988580703735, 0.059132132679224014, 0.03841918334364891, 0.062472932040691376, 0.21882230043411255, 0.0651455670595169, 0.027728626504540443, 0.03775102272629738, 0.04710526019334793, 0.9978134036064148, 0.9977655410766602, 0.9976038336753845, 0.997831404209137, 0.9991483688354492, 0.008997232653200626, 0.8167487382888794, 0.07697632163763046, 0.09697017073631287, 0.9984241724014282, 0.08869611471891403, 0.910417914390564, 0.9994363188743591, 0.0005108286859467626, 0.9272984266281128, 0.06170401722192764, 0.01042884774506092, 0.998134970664978, 0.09790909290313721, 0.015891004353761673, 0.06869015097618103, 0.1591663509607315, 0.07304736226797104, 0.32115209102630615, 0.06920276582241058, 0.05356806516647339, 0.05946311354637146, 0.08176178485155106, 0.9984605312347412, 0.9992696046829224, 0.9956439137458801, 0.002376238349825144, 0.01646077260375023, 0.14863109588623047, 0.025175299495458603, 0.02711186185479164, 0.10747916251420975, 0.4468615651130676, 0.12297165393829346, 0.049866460263729095, 0.04841403663158417, 0.00677796546369791, 0.9998038411140442, 0.9983633756637573, 0.0002864451671484858, 0.05012790486216545, 0.07189773768186569, 0.0005728903342969716, 0.037810761481523514, 0.6625476479530334, 0.12947320938110352, 0.026352955028414726, 0.021483387798070908, 0.9990672469139099, 0.9980929493904114, 0.0020334061700850725, 0.09150327742099762, 0.7249093055725098, 0.0010167030850425363, 0.003050109138712287, 0.0416848249733448, 0.13522151112556458, 0.9996172189712524, 0.9993083477020264, 0.9990510940551758, 0.08655240386724472, 0.6515035629272461, 0.017310481518507004, 0.08392960578203201, 0.04721040278673172, 0.03619464114308357, 0.01940872147679329, 0.025178881362080574, 0.033047281205654144, 0.9992901086807251, 0.07210028916597366, 0.011676160618662834, 0.33744102716445923, 0.10187450051307678, 0.10391782969236374, 0.05020748823881149, 0.05283462628722191, 0.12785395979881287, 0.05896461009979248, 0.08348454535007477, 0.9989402294158936, 0.9992275834083557, 0.16826778650283813, 0.7799816131591797, 0.05113109573721886, 0.0995086058974266, 0.12805615365505219, 0.604392409324646, 0.16802272200584412, 0.002063218504190445, 0.9965345859527588, 0.9990031719207764, 0.07567045092582703, 0.09299956262111664, 0.003465822199359536, 0.5123640298843384, 0.06296243518590927, 0.000577637052629143, 0.022527843713760376, 0.07913627475500107, 0.0571860671043396, 0.09357719868421555, 0.9993537664413452, 0.9997158646583557, 0.9985791444778442, 0.9985317587852478, 0.9980660080909729, 0.9980211853981018, 0.9976260662078857, 0.9986056089401245, 0.23952645063400269, 0.015337873250246048, 0.08768150955438614, 0.17740806937217712, 0.04984808713197708, 0.09126034379005432, 0.12909376621246338, 0.043457306921482086, 0.09535044431686401, 0.07080984860658646, 0.9990983009338379, 0.9993294477462769, 0.9987034797668457, 0.9996353387832642, 0.03449971601366997, 0.6662338376045227, 0.013289774768054485, 0.030472513288259506, 0.048997651785612106, 0.09289418160915375, 0.0359763577580452, 0.018122419714927673, 0.028190430253744125, 0.03127795457839966, 0.9981537461280823, 0.9971122145652771, 0.16172148287296295, 0.01526452787220478, 0.07178453356027603, 0.09241227805614471, 0.0829235166311264, 0.06064555421471596, 0.3176671862602234, 0.08704905956983566, 0.07549753040075302, 0.03547971323132515, 0.9979750514030457, 0.9978341460227966, 0.11332311481237411, 0.08372669667005539, 0.07165447622537613, 0.0019471325213089585, 0.16706396639347076, 0.47120606899261475, 0.09073637425899506, 0.9967809319496155, 0.9980077743530273, 0.0608394481241703, 0.024549249559640884, 0.038424912840127945, 0.0010673587676137686, 0.008538870140910149, 0.8624258637428284, 0.002134717535227537, 0.1582718938589096, 0.03667275607585907, 0.7440709471702576, 0.0019301450811326504, 0.03763782978057861, 0.020266523584723473, 0.002149103209376335, 0.10208240151405334, 0.6823402643203735, 0.10208240151405334, 0.08381502330303192, 0.02578923851251602, 0.9978623390197754, 0.9984598159790039, 0.9978545904159546, 0.09453357011079788, 0.20856326818466187, 0.08863939344882965, 0.14350059628486633, 0.2155909538269043, 0.09385347366333008, 0.10677532851696014, 0.04874033108353615, 0.9991527795791626, 0.6484531164169312, 0.003364218631759286, 0.13625085353851318, 0.20605838298797607, 0.001682109315879643, 0.0008410546579398215, 0.003364218631759286, 0.8274222612380981, 0.020853126421570778, 0.15118515491485596, 0.9976778626441956, 0.9879183173179626, 0.012129966169595718, 0.07829328626394272, 0.02388608641922474, 0.08227429538965225, 0.000663502374663949, 0.005308018997311592, 0.13004647195339203, 0.5799010992050171, 0.08559180796146393, 0.014597052708268166, 0.006482524331659079, 0.011112898588180542, 0.04630374535918236, 0.8844015002250671, 0.05000804364681244, 0.9985933303833008, 0.9983436465263367, 0.9970982670783997, 0.9988687634468079, 0.25795289874076843, 0.741614580154419, 0.9987987875938416, 0.14754560589790344, 0.09962481260299683, 0.049181871116161346, 0.10744346678256989, 0.07894320785999298, 0.10340803116559982, 0.07541219890117645, 0.1831078827381134, 0.08196978271007538, 0.07364669442176819, 0.9990183115005493, 0.022143647074699402, 0.00442872941493988, 0.032477349042892456, 0.9388906359672546, 0.9988449811935425, 0.9992086887359619, 0.10067044198513031, 0.01696278527379036, 0.06600736081600189, 0.07596377283334732, 0.02544417791068554, 0.02950049564242363, 0.18105928599834442, 0.4284946918487549, 0.03724437579512596, 0.03835064545273781, 0.062213122844696045, 0.09181798994541168, 0.04891238734126091, 0.07723008096218109, 0.018020352348685265, 0.4449310898780823, 0.17762918770313263, 0.006435840390622616, 0.04247654601931572, 0.03003392182290554, 0.9979038834571838, 0.9987518787384033, 0.9991022944450378, 0.9981676936149597, 0.9939525127410889, 0.004402890335768461, 0.4254346489906311, 0.2727786898612976, 0.04104193300008774, 0.07908079773187637, 0.04454550892114639, 0.09409613162279129, 0.04254346713423729, 0.9978650212287903, 0.9992343187332153, 0.08357303589582443, 0.06830289959907532, 0.08377938717603683, 0.5392008423805237, 0.052000999450683594, 0.11431965976953506, 0.03528639301657677, 0.023524262011051178, 0.0018161229090765119, 0.94892418384552, 0.049035318195819855, 0.08178645372390747, 0.8277780413627625, 0.05576349049806595, 0.009913509711623192, 0.023544585332274437, 0.9982428550720215, 0.17641757428646088, 0.03439773619174957, 0.07278147339820862, 0.13891960680484772, 0.1116081029176712, 0.05757560953497887, 0.07012414187192917, 0.09108756482601166, 0.13626226782798767, 0.11072232574224472, 0.9993120431900024, 0.9986531734466553, 0.9983675479888916, 0.9893144369125366, 0.0016325319884344935, 0.0016325319884344935, 0.008162660524249077, 0.0018988146912306547, 0.0009494073456153274, 0.8848476409912109, 0.09778895229101181, 0.014241109602153301, 0.7364429235458374, 0.0009858673438429832, 0.163161039352417, 0.0990796685218811, 0.43642374873161316, 0.0718502476811409, 0.002128896303474903, 0.09739700704813004, 0.1373138129711151, 0.12720155715942383, 0.0718502476811409, 0.05535130575299263, 0.9989091753959656, 0.5580761432647705, 0.004023205954581499, 0.08391258120536804, 0.024713978171348572, 0.01206961739808321, 0.05460065230727196, 0.08851052820682526, 0.1735725998878479, 0.9975562691688538, 0.0019341857405379415, 0.9993484020233154, 0.999195396900177, 0.9996361136436462, 0.0634302943944931, 0.047871917486190796, 0.08537159115076065, 0.00039893266512081027, 0.03390927612781525, 0.7224670648574829, 0.043882593512535095, 0.00239359587430954, 0.9974468350410461, 0.9989846348762512, 0.7771624326705933, 0.09909175336360931, 0.0697181224822998, 0.0003538991149980575, 0.000707798229996115, 0.05308486521244049, 0.999016523361206, 0.9979159832000732, 0.998802661895752, 0.9989365935325623, 0.99842768907547, 0.9996386766433716, 0.9988093972206116, 0.1035844087600708, 0.8960050940513611, 0.0111211147159338, 0.006465764716267586, 0.10552127659320831, 0.054829683154821396, 0.07836506515741348, 0.43113717436790466, 0.11845280230045319, 0.013966050930321217, 0.1662994623184204, 0.013448789715766907, 0.9978398084640503, 0.9530801773071289, 0.004729926120489836, 0.04138685390353203, 0.9285387396812439, 0.0005735260783694685, 0.06997018307447433, 0.9992862939834595, 0.9994761347770691, 0.9921631813049316, 0.002035206649452448, 0.002035206649452448, 0.002035206649452448, 0.12157950550317764, 0.01007373072206974, 0.11880054324865341, 0.20251671969890594, 0.2987382113933563, 0.042379140853881836, 0.05002128332853317, 0.04481073096394539, 0.04724232107400894, 0.06391607969999313, 0.005511934868991375, 0.1527593433856964, 0.11811289191246033, 0.7236382961273193, 0.998701274394989, 0.9988440871238708, 0.9990512728691101, 0.9992287158966064, 0.1496427208185196, 0.8494869470596313, 0.9995242357254028, 0.9991278052330017, 0.9978471398353577, 0.9994694590568542, 0.9986147880554199, 0.8944735527038574, 0.10513848066329956, 0.9993546009063721, 0.9979493021965027, 0.049008749425411224, 0.25724509358406067, 0.11184569448232651, 0.04921210557222366, 0.07483493536710739, 0.13645175099372864, 0.1876974105834961, 0.030910082161426544, 0.02724967896938324, 0.07564835995435715, 0.9991343021392822, 0.9985857009887695, 0.1731218546628952, 0.4431459903717041, 0.10571157932281494, 0.11566991358995438, 0.07392150163650513, 0.08847599476575851, 0.9984279274940491, 0.9990331530570984, 0.9987407922744751, 0.9074063897132874, 0.0006440074066631496, 0.09144905209541321, 0.9993597865104675, 0.9970768690109253, 0.0025178708601742983, 0.998843252658844, 0.9981838464736938, 0.9990227222442627, 0.7155678868293762, 0.04304167628288269, 0.07532293349504471, 0.029053131118416786, 0.057030219584703445, 0.040889590978622437, 0.03873750939965248, 0.9986873865127563, 0.9995407462120056, 0.9990706443786621, 0.999013364315033, 0.9992640018463135, 0.08188226819038391, 0.5265726447105408, 0.04573211446404457, 0.014808494597673416, 0.03397242724895477, 0.046167660504579544, 0.077091284096241, 0.048345379531383514, 0.059233978390693665, 0.06663822382688522, 0.9970525503158569, 0.0007568619912490249, 0.0007568619912490249, 0.9975440502166748, 0.030893350020051003, 0.9691358208656311, 0.9991310834884644, 0.9975541234016418, 0.9995803833007812, 0.9990934729576111, 0.9974470138549805, 0.9978780150413513, 0.7219433188438416, 0.03937872499227524, 0.0018751773750409484, 0.08563309907913208, 0.002500236500054598, 0.023752247914671898, 0.0075007095001637936, 0.09938440471887589, 0.016876596957445145, 0.9994911551475525, 0.9980249404907227, 0.9984482526779175, 0.0013635550858452916, 0.8181329965591431, 0.1786257028579712, 0.11333829164505005, 0.12183865904808044, 0.11617174744606018, 0.07792007178068161, 0.3910171091556549, 0.10200446099042892, 0.07744783163070679, 0.9996554255485535, 0.11399782449007034, 0.001139978296123445, 0.1179877519607544, 0.0005699891480617225, 0.0005699891480617225, 0.757515549659729, 0.008549836464226246, 0.9991810917854309, 0.9972854852676392, 0.9977757334709167, 0.8438794612884521, 0.15617676079273224, 0.9984621405601501, 0.9990646839141846, 0.10897643119096756, 0.058518849313259125, 0.03821638971567154, 0.07374569028615952, 0.08747971057891846, 0.10957355797290802, 0.2994612455368042, 0.09822806715965271, 0.07105860114097595, 0.054936062544584274, 0.998245120048523, 0.12394718080759048, 0.0007674748194403946, 0.28818678855895996, 0.10629525780677795, 0.031466465443372726, 0.06677030771970749, 0.16308839619159698, 0.06792151927947998, 0.08557344228029251, 0.06600283086299896, 0.00046436561387963593, 0.9993147850036621, 0.9995311498641968, 0.07280617952346802, 0.055495623499155045, 0.1257561296224594, 0.0840071365237236, 0.05091341584920883, 0.056004755198955536, 0.06975138187408447, 0.37726840376853943, 0.06109609827399254, 0.04785861074924469, 0.023956352844834328, 0.0007486360264010727, 0.12389926612377167, 0.047912705689668655, 0.06438270211219788, 0.515061616897583, 0.10181450098752975, 0.03780611976981163, 0.06400837749242783, 0.0202131737023592, 0.09017705917358398, 0.0071880267933011055, 0.13787941634655, 0.05815767124295235, 0.10193929076194763, 0.5103498697280884, 0.04900927469134331, 0.04508852958679199, 0.1273767054080963, 0.8716001510620117, 0.9978885650634766, 0.9989636540412903, 0.0747978538274765, 0.015830233693122864, 0.3019616901874542, 0.09221110492944717, 0.11793524026870728, 0.03917982801795006, 0.060550641268491745, 0.10408378392457962, 0.08033843338489532, 0.11318616569042206, 0.9975540041923523, 0.768263041973114, 0.0002823458635248244, 0.024564089253544807, 0.16686639189720154, 0.018634825944900513, 0.0016940750647336245, 0.01891717128455639, 0.0005646917270496488, 0.9977187514305115, 0.3611316680908203, 0.09983964264392853, 0.03642797842621803, 0.09938991069793701, 0.07330568134784698, 0.04362362623214722, 0.0710570439696312, 0.03148096799850464, 0.10748501867055893, 0.0764537826180458, 0.04527517035603523, 0.001017419621348381, 0.2800447344779968, 0.11852937936782837, 0.1739787459373474, 0.03789887949824333, 0.0737629234790802, 0.09563744068145752, 0.06587791442871094, 0.10759212076663971, 0.00806918740272522, 0.9884754419326782, 0.9993178248405457, 0.060021329671144485, 0.20457719266414642, 0.10273920744657516, 0.07786550372838974, 0.08922089636325836, 0.04704374447464943, 0.08056917041540146, 0.160237118601799, 0.07408037781715393, 0.10400091856718063, 0.9987714886665344, 0.0015481096925213933, 0.06656871736049652, 0.037154633551836014, 0.8932593464851379], \"Term\": [\"abbott\", \"abus\", \"abus\", \"abus\", \"abus\", \"abus\", \"abus\", \"abus\", \"accid\", \"account\", \"accus\", \"accus\", \"accus\", \"accus\", \"accus\", \"accus\", \"accus\", \"accus\", \"accus\", \"action\", \"action\", \"action\", \"action\", \"action\", \"action\", \"action\", \"action\", \"action\", \"action\", \"adam\", \"adani\", \"afghan\", \"afghanistan\", \"africa\", \"africa\", \"age\", \"agreement\", \"agricultur\", \"alic\", \"alleg\", \"alleg\", \"alleg\", \"alleg\", \"analysi\", \"andrew\", \"anim\", \"anim\", \"anniversari\", \"appear\", \"appl\", \"april\", \"april\", \"area\", \"area\", \"area\", \"arrest\", \"arrest\", \"arrest\", \"arrest\", \"ash\", \"asia\", \"assault\", \"asylum\", \"athlet\", \"attack\", \"attack\", \"attack\", \"attack\", \"attack\", \"attack\", \"attack\", \"attack\", \"attack\", \"attack\", \"attempt\", \"august\", \"australia\", \"australia\", \"australia\", \"australia\", \"australia\", \"australia\", \"australia\", \"australia\", \"australia\", \"australia\", \"australian\", \"australian\", \"australian\", \"australian\", \"australian\", \"australian\", \"australian\", \"australian\", \"australian\", \"australian\", \"backpack\", \"bail\", \"ballarat\", \"bangladesh\", \"bank\", \"bank\", \"bank\", \"bank\", \"bank\", \"bank\", \"bank\", \"bank\", \"bank\", \"bank\", \"barnabi\", \"barnett\", \"barri\", \"barrier\", \"barrier\", \"bash\", \"bash\", \"beach\", \"beach\", \"beach\", \"beach\", \"beach\", \"beach\", \"beat\", \"beat\", \"beat\", \"beat\", \"beat\", \"beat\", \"beat\", \"beat\", \"beat\", \"beef\", \"beef\", \"beef\", \"beef\", \"beef\", \"beef\", \"bendigo\", \"biggest\", \"bike\", \"biki\", \"billion\", \"bird\", \"bishop\", \"bishop\", \"blast\", \"blaze\", \"blaze\", \"blaze\", \"blog\", \"bodi\", \"bodi\", \"bodi\", \"bodi\", \"bodi\", \"bomb\", \"bomb\", \"bomb\", \"bomb\", \"boom\", \"boom\", \"border\", \"border\", \"box\", \"brace\", \"breakfast\", \"bridg\", \"bronco\", \"broom\", \"budget\", \"budget\", \"budget\", \"budget\", \"budget\", \"budget\", \"budget\", \"budget\", \"budget\", \"bulldog\", \"bulldog\", \"bulldog\", \"bulldog\", \"bulldog\", \"bundaberg\", \"burn\", \"burn\", \"burn\", \"busi\", \"busi\", \"busi\", \"busi\", \"busi\", \"busi\", \"busi\", \"busi\", \"busi\", \"busi\", \"cairn\", \"camera\", \"cameron\", \"capit\", \"care\", \"care\", \"cathol\", \"cattl\", \"cattl\", \"cattl\", \"cctv\", \"celebr\", \"celebr\", \"celebr\", \"celebr\", \"celebr\", \"celebr\", \"celebr\", \"celebr\", \"cent\", \"championship\", \"championship\", \"championship\", \"championship\", \"chang\", \"chang\", \"chang\", \"chang\", \"chang\", \"chang\", \"chang\", \"chang\", \"chang\", \"chang\", \"charg\", \"charg\", \"charg\", \"charg\", \"charg\", \"charg\", \"charg\", \"charg\", \"charg\", \"chase\", \"child\", \"child\", \"child\", \"child\", \"child\", \"child\", \"child\", \"china\", \"china\", \"china\", \"china\", \"china\", \"china\", \"china\", \"china\", \"china\", \"china\", \"chris\", \"christma\", \"citizenship\", \"clark\", \"climat\", \"climat\", \"climat\", \"clinton\", \"clive\", \"coast\", \"coast\", \"coast\", \"coast\", \"coast\", \"coast\", \"coast\", \"coast\", \"coast\", \"coast\", \"colin\", \"colleg\", \"commiss\", \"commiss\", \"commiss\", \"commiss\", \"commiss\", \"commiss\", \"commiss\", \"commiss\", \"commission\", \"commit\", \"commonwealth\", \"compens\", \"construct\", \"construct\", \"construct\", \"construct\", \"construct\", \"consum\", \"contamin\", \"contract\", \"contract\", \"contract\", \"contract\", \"contract\", \"contract\", \"controversi\", \"convict\", \"convict\", \"cook\", \"cooper\", \"coron\", \"corrupt\", \"council\", \"council\", \"council\", \"council\", \"council\", \"council\", \"council\", \"council\", \"council\", \"council\", \"countri\", \"countri\", \"countri\", \"countri\", \"countri\", \"coupl\", \"coupl\", \"court\", \"court\", \"court\", \"court\", \"court\", \"court\", \"court\", \"court\", \"court\", \"court\", \"cowboy\", \"crash\", \"crash\", \"crash\", \"creek\", \"crew\", \"crime\", \"crime\", \"crime\", \"crime\", \"crime\", \"crime\", \"crocodil\", \"cultur\", \"cultur\", \"cultur\", \"cultur\", \"custodi\", \"cut\", \"cut\", \"cut\", \"cut\", \"cut\", \"cut\", \"cut\", \"cut\", \"cyclist\", \"cyclon\", \"cyclon\", \"cyclon\", \"cyclon\", \"cyclon\", \"cyclon\", \"cyclon\", \"cyclon\", \"cyclon\", \"dairi\", \"dairi\", \"danc\", \"dark\", \"data\", \"data\", \"daughter\", \"david\", \"david\", \"david\", \"david\", \"david\", \"dead\", \"dead\", \"dead\", \"dead\", \"dead\", \"dead\", \"dead\", \"dead\", \"dead\", \"death\", \"death\", \"death\", \"death\", \"death\", \"death\", \"death\", \"death\", \"death\", \"decemb\", \"depart\", \"detent\", \"detent\", \"die\", \"die\", \"die\", \"die\", \"die\", \"die\", \"die\", \"die\", \"disabl\", \"disabl\", \"disast\", \"disast\", \"discov\", \"document\", \"dollar\", \"dollar\", \"dollar\", \"domest\", \"donald\", \"dozen\", \"drink\", \"drink\", \"driver\", \"driver\", \"driver\", \"driver\", \"driver\", \"driver\", \"drone\", \"drought\", \"drought\", \"drought\", \"drought\", \"drought\", \"drought\", \"drug\", \"drug\", \"drug\", \"drug\", \"drug\", \"drug\", \"drug\", \"drug\", \"drug\", \"drum\", \"earthquak\", \"east\", \"east\", \"east\", \"east\", \"effect\", \"elder\", \"elect\", \"elect\", \"elect\", \"elect\", \"elect\", \"elect\", \"elect\", \"elect\", \"elect\", \"elect\", \"employ\", \"energi\", \"energi\", \"energi\", \"environment\", \"episod\", \"evacu\", \"exchang\", \"execut\", \"expand\", \"expans\", \"expans\", \"expans\", \"explain\", \"explor\", \"explos\", \"explos\", \"explos\", \"face\", \"face\", \"face\", \"face\", \"face\", \"face\", \"face\", \"face\", \"face\", \"face\", \"facebook\", \"facebook\", \"fact\", \"fake\", \"fall\", \"fall\", \"fall\", \"fall\", \"fall\", \"fall\", \"fall\", \"fall\", \"fall\", \"fall\", \"farm\", \"farm\", \"farm\", \"farm\", \"farm\", \"farm\", \"farmer\", \"farmer\", \"farmer\", \"farmer\", \"farmer\", \"farmer\", \"farmer\", \"farmer\", \"farmer\", \"fatal\", \"fatal\", \"father\", \"father\", \"februari\", \"final\", \"final\", \"final\", \"final\", \"final\", \"final\", \"final\", \"final\", \"final\", \"financ\", \"firefight\", \"fix\", \"flee\", \"flinder\", \"flood\", \"flood\", \"flood\", \"flood\", \"flood\", \"flood\", \"flood\", \"flood\", \"flood\", \"flood\", \"footag\", \"footbal\", \"foreign\", \"foreign\", \"foreign\", \"foreign\", \"foreign\", \"fraser\", \"fraud\", \"fremantl\", \"friday\", \"friend\", \"fruit\", \"fruit\", \"fruit\", \"fund\", \"fund\", \"fund\", \"fund\", \"fund\", \"fund\", \"fund\", \"fund\", \"fund\", \"fund\", \"funer\", \"gain\", \"gain\", \"gain\", \"gain\", \"gain\", \"garden\", \"geelong\", \"general\", \"generat\", \"georg\", \"gillard\", \"gippsland\", \"girl\", \"girl\", \"girl\", \"girl\", \"girl\", \"girl\", \"global\", \"govern\", \"govern\", \"govern\", \"govern\", \"govern\", \"govern\", \"govern\", \"govern\", \"grain\", \"grand\", \"grand\", \"grand\", \"grandstand\", \"greyhound\", \"guilti\", \"guilti\", \"guilti\", \"hall\", \"hall\", \"hanson\", \"happen\", \"harbour\", \"hard\", \"harri\", \"harvest\", \"harvest\", \"health\", \"health\", \"health\", \"health\", \"health\", \"health\", \"health\", \"health\", \"health\", \"health\", \"heart\", \"heart\", \"heart\", \"heavi\", \"heritag\", \"higher\", \"highway\", \"hill\", \"hill\", \"hill\", \"hill\", \"hill\", \"hill\", \"hill\", \"hill\", \"hill\", \"hill\", \"hillari\", \"histori\", \"hobart\", \"hobart\", \"hobart\", \"hobart\", \"hobart\", \"homeless\", \"hospit\", \"hospit\", \"hospit\", \"hospit\", \"hospit\", \"hospit\", \"hospit\", \"hospit\", \"hospit\", \"hospit\", \"hour\", \"identifi\", \"import\", \"india\", \"india\", \"india\", \"india\", \"india\", \"india\", \"india\", \"india\", \"india\", \"indigen\", \"indigen\", \"indigen\", \"indigen\", \"indigen\", \"indigen\", \"indigen\", \"indigen\", \"indigen\", \"indonesia\", \"indonesia\", \"indonesia\", \"indonesia\", \"indonesia\", \"inquest\", \"insid\", \"interview\", \"interview\", \"interview\", \"interview\", \"interview\", \"invest\", \"invest\", \"investig\", \"investig\", \"investig\", \"investig\", \"investig\", \"investig\", \"investig\", \"irrig\", \"islam\", \"israel\", \"jail\", \"jail\", \"jail\", \"jail\", \"jail\", \"jail\", \"jail\", \"jam\", \"januari\", \"jason\", \"job\", \"job\", \"job\", \"job\", \"job\", \"job\", \"job\", \"job\", \"joyc\", \"judg\", \"judg\", \"juli\", \"jump\", \"jump\", \"jump\", \"jump\", \"jump\", \"jump\", \"jump\", \"june\", \"kangaroo\", \"kevin\", \"kid\", \"kill\", \"kill\", \"kill\", \"kill\", \"kill\", \"kill\", \"kill\", \"kill\", \"killer\", \"kimberley\", \"knight\", \"know\", \"korea\", \"korean\", \"korean\", \"korean\", \"korean\", \"korean\", \"label\", \"labor\", \"labor\", \"labor\", \"labor\", \"labor\", \"labor\", \"labor\", \"labor\", \"labor\", \"labor\", \"languag\", \"leagu\", \"leagu\", \"leagu\", \"leagu\", \"leagu\", \"leagu\", \"leagu\", \"leagu\", \"legisl\", \"levi\", \"levi\", \"liber\", \"liber\", \"liber\", \"liber\", \"liber\", \"liber\", \"liber\", \"live\", \"live\", \"live\", \"live\", \"live\", \"live\", \"live\", \"livestock\", \"loan\", \"london\", \"london\", \"macquari\", \"malaysia\", \"malcolm\", \"manchest\", \"manus\", \"march\", \"march\", \"march\", \"march\", \"march\", \"march\", \"mark\", \"mark\", \"mark\", \"mark\", \"mark\", \"mark\", \"market\", \"market\", \"market\", \"market\", \"market\", \"market\", \"market\", \"market\", \"marriag\", \"matt\", \"matt\", \"matthew\", \"mean\", \"mean\", \"meat\", \"mental\", \"mental\", \"mexico\", \"michael\", \"migrant\", \"mike\", \"miss\", \"miss\", \"miss\", \"miss\", \"miss\", \"miss\", \"miss\", \"miss\", \"miss\", \"miss\", \"mitchel\", \"mix\", \"mobil\", \"moment\", \"monday\", \"money\", \"money\", \"money\", \"money\", \"morrison\", \"mother\", \"mother\", \"murder\", \"murder\", \"murray\", \"murray\", \"murray\", \"myanmar\", \"nation\", \"nation\", \"nation\", \"nation\", \"nation\", \"nation\", \"nation\", \"nation\", \"nation\", \"nation\", \"nativ\", \"nauru\", \"ndis\", \"ndis\", \"near\", \"near\", \"near\", \"near\", \"near\", \"near\", \"near\", \"near\", \"near\", \"near\", \"news\", \"nick\", \"north\", \"north\", \"north\", \"north\", \"north\", \"north\", \"north\", \"north\", \"north\", \"novemb\", \"ntch\", \"obama\", \"obama\", \"obama\", \"obama\", \"obama\", \"obama\", \"obama\", \"octob\", \"offenc\", \"offend\", \"offic\", \"offic\", \"offic\", \"offic\", \"offic\", \"offic\", \"offic\", \"offic\", \"offic\", \"onlin\", \"open\", \"open\", \"open\", \"open\", \"open\", \"open\", \"open\", \"open\", \"open\", \"open\", \"organ\", \"origin\", \"outback\", \"outback\", \"outback\", \"pacif\", \"pacif\", \"pacif\", \"pacif\", \"pakistan\", \"pakistan\", \"palmer\", \"parti\", \"parti\", \"parti\", \"parti\", \"parti\", \"parti\", \"parti\", \"parti\", \"parti\", \"parti\", \"paul\", \"peter\", \"philippin\", \"phone\", \"photograph\", \"pick\", \"pictur\", \"pilot\", \"plan\", \"plan\", \"plan\", \"plan\", \"plan\", \"plan\", \"plan\", \"plan\", \"plan\", \"plan\", \"plane\", \"plead\", \"plus\", \"podcast\", \"polic\", \"polic\", \"polic\", \"polic\", \"polic\", \"polic\", \"polic\", \"polic\", \"polic\", \"polic\", \"pool\", \"popul\", \"power\", \"power\", \"power\", \"power\", \"power\", \"power\", \"power\", \"power\", \"power\", \"power\", \"presidenti\", \"preview\", \"price\", \"price\", \"price\", \"price\", \"price\", \"price\", \"price\", \"priest\", \"princ\", \"profit\", \"profit\", \"profit\", \"profit\", \"profit\", \"profit\", \"profit\", \"promis\", \"promis\", \"promis\", \"promis\", \"promis\", \"promis\", \"properti\", \"properti\", \"properti\", \"properti\", \"properti\", \"properti\", \"punch\", \"quarter\", \"queen\", \"queensland\", \"queensland\", \"queensland\", \"queensland\", \"queensland\", \"queensland\", \"queensland\", \"queensland\", \"quiz\", \"rail\", \"rail\", \"rail\", \"rail\", \"rail\", \"rail\", \"rail\", \"rain\", \"rain\", \"rain\", \"rang\", \"rape\", \"rape\", \"rat\", \"rat\", \"rat\", \"rat\", \"rat\", \"rat\", \"rat\", \"rat\", \"rat\", \"rate\", \"rate\", \"rate\", \"rate\", \"rate\", \"reaction\", \"recommend\", \"recov\", \"reef\", \"rememb\", \"rememb\", \"remot\", \"report\", \"report\", \"report\", \"report\", \"report\", \"report\", \"report\", \"report\", \"report\", \"report\", \"republican\", \"reserv\", \"reserv\", \"reserv\", \"reserv\", \"retail\", \"richard\", \"rise\", \"rise\", \"rise\", \"rise\", \"rise\", \"rise\", \"rise\", \"rise\", \"rise\", \"rise\", \"road\", \"road\", \"road\", \"road\", \"road\", \"road\", \"road\", \"road\", \"road\", \"road\", \"roar\", \"robberi\", \"robert\", \"rockhampton\", \"round\", \"round\", \"royal\", \"royal\", \"royal\", \"royal\", \"royal\", \"royal\", \"royal\", \"rudd\", \"rugbi\", \"rural\", \"rural\", \"rural\", \"rural\", \"rural\", \"rural\", \"rural\", \"rural\", \"russia\", \"russia\", \"russia\", \"russian\", \"russian\", \"russian\", \"russian\", \"russian\", \"sach\", \"say\", \"say\", \"say\", \"say\", \"say\", \"say\", \"say\", \"say\", \"say\", \"say\", \"scandal\", \"scene\", \"scienc\", \"scorecentr\", \"scorecentr\", \"scorecentr\", \"scorecentr\", \"scott\", \"scott\", \"scott\", \"scott\", \"scott\", \"search\", \"search\", \"search\", \"search\", \"season\", \"season\", \"season\", \"season\", \"season\", \"season\", \"season\", \"season\", \"seeker\", \"senat\", \"senat\", \"senat\", \"senat\", \"senat\", \"senat\", \"senat\", \"senat\", \"sentenc\", \"sentenc\", \"septemb\", \"sever\", \"sexual\", \"share\", \"share\", \"share\", \"share\", \"share\", \"share\", \"share\", \"share\", \"shed\", \"sheep\", \"shoot\", \"shoot\", \"shoot\", \"shoot\", \"shoot\", \"shoot\", \"short\", \"shortag\", \"shorten\", \"sieg\", \"slow\", \"social\", \"solar\", \"soldier\", \"soldier\", \"south\", \"south\", \"south\", \"south\", \"south\", \"south\", \"south\", \"south\", \"south\", \"south\", \"special\", \"spend\", \"spend\", \"spend\", \"sport\", \"sport\", \"sport\", \"spring\", \"stab\", \"staff\", \"staff\", \"staff\", \"staff\", \"state\", \"state\", \"state\", \"state\", \"state\", \"state\", \"state\", \"state\", \"state\", \"state\", \"steal\", \"steal\", \"steal\", \"steal\", \"stephen\", \"steve\", \"stori\", \"stream\", \"sugar\", \"sugar\", \"suicid\", \"summer\", \"sunday\", \"sunshin\", \"survivor\", \"suspect\", \"suspect\", \"suspici\", \"swim\", \"sydney\", \"sydney\", \"sydney\", \"sydney\", \"sydney\", \"sydney\", \"sydney\", \"sydney\", \"sydney\", \"sydney\", \"syria\", \"syrian\", \"tasmanian\", \"tasmanian\", \"tasmanian\", \"tasmanian\", \"tasmanian\", \"tasmanian\", \"taxi\", \"teach\", \"technolog\", \"teen\", \"teen\", \"teen\", \"teenag\", \"territori\", \"territori\", \"thailand\", \"theft\", \"thursday\", \"titl\", \"titl\", \"titl\", \"titl\", \"titl\", \"titl\", \"titl\", \"toll\", \"toni\", \"townsvill\", \"traffic\", \"treasur\", \"trial\", \"trial\", \"trial\", \"trial\", \"trial\", \"trial\", \"trial\", \"trial\", \"trial\", \"trial\", \"tripl\", \"truck\", \"truck\", \"truck\", \"trump\", \"trump\", \"tuesday\", \"turkey\", \"turnbul\", \"uber\", \"ukrain\", \"unemploy\", \"union\", \"union\", \"union\", \"union\", \"union\", \"union\", \"union\", \"union\", \"union\", \"updat\", \"vaccin\", \"vanuatu\", \"veteran\", \"veteran\", \"veteran\", \"victoria\", \"victoria\", \"victoria\", \"victoria\", \"victoria\", \"victoria\", \"victoria\", \"video\", \"violenc\", \"violenc\", \"violenc\", \"violenc\", \"violenc\", \"violenc\", \"violenc\", \"violent\", \"virus\", \"visa\", \"volunt\", \"volunt\", \"walk\", \"wall\", \"warn\", \"warn\", \"warn\", \"warn\", \"warn\", \"warn\", \"warn\", \"warn\", \"warn\", \"warn\", \"warrior\", \"water\", \"water\", \"water\", \"water\", \"water\", \"water\", \"water\", \"water\", \"water\", \"water\", \"weather\", \"weather\", \"wednesday\", \"week\", \"week\", \"week\", \"week\", \"week\", \"week\", \"week\", \"week\", \"week\", \"week\", \"west\", \"west\", \"west\", \"west\", \"west\", \"west\", \"west\", \"west\", \"west\", \"west\", \"western\", \"western\", \"western\", \"western\", \"western\", \"western\", \"western\", \"western\", \"whale\", \"whale\", \"wife\", \"wild\", \"win\", \"win\", \"win\", \"win\", \"win\", \"win\", \"win\", \"win\", \"win\", \"win\", \"winter\", \"woman\", \"woman\", \"woman\", \"woman\", \"woman\", \"woman\", \"woman\", \"woman\", \"wool\", \"worker\", \"worker\", \"worker\", \"worker\", \"worker\", \"worker\", \"worker\", \"worker\", \"worker\", \"worker\", \"world\", \"world\", \"world\", \"world\", \"world\", \"world\", \"world\", \"world\", \"world\", \"world\", \"worst\", \"worst\", \"wrap\", \"year\", \"year\", \"year\", \"year\", \"year\", \"year\", \"year\", \"year\", \"year\", \"year\", \"zealand\", \"zone\", \"zone\", \"zone\", \"zone\"]}, \"R\": 30, \"lambda.step\": 0.01, \"plot.opts\": {\"xlab\": \"PC1\", \"ylab\": \"PC2\"}, \"topic.order\": [5, 1, 8, 4, 9, 2, 7, 10, 3, 6]};\n",
       "\n",
       "function LDAvis_load_lib(url, callback){\n",
       "  var s = document.createElement('script');\n",
       "  s.src = url;\n",
       "  s.async = true;\n",
       "  s.onreadystatechange = s.onload = callback;\n",
       "  s.onerror = function(){console.warn(\"failed to load library \" + url);};\n",
       "  document.getElementsByTagName(\"head\")[0].appendChild(s);\n",
       "}\n",
       "\n",
       "if(typeof(LDAvis) !== \"undefined\"){\n",
       "   // already loaded: just create the visualization\n",
       "   !function(LDAvis){\n",
       "       new LDAvis(\"#\" + \"ldavis_el2595624761158940888245876459\", ldavis_el2595624761158940888245876459_data);\n",
       "   }(LDAvis);\n",
       "}else if(typeof define === \"function\" && define.amd){\n",
       "   // require.js is available: use it to load d3/LDAvis\n",
       "   require.config({paths: {d3: \"https://cdnjs.cloudflare.com/ajax/libs/d3/3.5.5/d3.min\"}});\n",
       "   require([\"d3\"], function(d3){\n",
       "      window.d3 = d3;\n",
       "      LDAvis_load_lib(\"https://cdn.rawgit.com/bmabey/pyLDAvis/files/ldavis.v1.0.0.js\", function(){\n",
       "        new LDAvis(\"#\" + \"ldavis_el2595624761158940888245876459\", ldavis_el2595624761158940888245876459_data);\n",
       "      });\n",
       "    });\n",
       "}else{\n",
       "    // require.js not available: dynamically load d3 & LDAvis\n",
       "    LDAvis_load_lib(\"https://cdnjs.cloudflare.com/ajax/libs/d3/3.5.5/d3.min.js\", function(){\n",
       "         LDAvis_load_lib(\"https://cdn.rawgit.com/bmabey/pyLDAvis/files/ldavis.v1.0.0.js\", function(){\n",
       "                 new LDAvis(\"#\" + \"ldavis_el2595624761158940888245876459\", ldavis_el2595624761158940888245876459_data);\n",
       "            })\n",
       "         });\n",
       "}\n",
       "</script>"
      ],
      "text/plain": [
       "PreparedData(topic_coordinates=              x         y  topics  cluster       Freq\n",
       "topic                                                \n",
       "4      0.068441  0.116708       1        1  11.489985\n",
       "0     -0.348744  0.088437       2        1  11.169258\n",
       "7      0.124686 -0.115200       3        1  10.387480\n",
       "3      0.103616  0.073808       4        1  10.294313\n",
       "8     -0.042616 -0.052024       5        1  10.056682\n",
       "1     -0.105614 -0.211355       6        1   9.837558\n",
       "6      0.034668 -0.145477       7        1   9.718119\n",
       "9      0.091390  0.054707       8        1   9.283718\n",
       "2      0.056601  0.044313       9        1   9.054268\n",
       "5      0.017572  0.146084      10        1   8.708613, topic_info=      Category         Freq         Term        Total  loglift  logprob\n",
       "term                                                                   \n",
       "6594   Default  4369.000000        trump  4369.000000  30.0000  30.0000\n",
       "417    Default  4782.000000      countri  4782.000000  29.0000  29.0000\n",
       "1405   Default  4326.000000         hour  4326.000000  28.0000  28.0000\n",
       "319    Default  5355.000000        charg  5355.000000  27.0000  27.0000\n",
       "300    Default  3915.000000       murder  3915.000000  26.0000  26.0000\n",
       "1250   Default  3054.000000         news  3054.000000  25.0000  25.0000\n",
       "192    Default  3781.000000        crash  3781.000000  24.0000  24.0000\n",
       "235    Default  7449.000000        polic  7449.000000  23.0000  23.0000\n",
       "305    Default  2938.000000        alleg  2938.000000  22.0000  22.0000\n",
       "327    Default  2989.000000         jail  2989.000000  21.0000  21.0000\n",
       "11891  Default  2287.000000      podcast  2287.000000  20.0000  20.0000\n",
       "2832   Default  2265.000000         drum  2265.000000  19.0000  19.0000\n",
       "5656   Default  2185.000000      turnbul  2185.000000  18.0000  18.0000\n",
       "1530   Default  2215.000000       donald  2215.000000  17.0000  17.0000\n",
       "284    Default  2725.000000       arrest  2725.000000  16.0000  16.0000\n",
       "1077   Default  3541.000000        woman  3541.000000  15.0000  15.0000\n",
       "649    Default  2153.000000      weather  2153.000000  14.0000  14.0000\n",
       "211    Default  4610.000000        court  4610.000000  13.0000  13.0000\n",
       "1524   Default  2230.000000      assault  2230.000000  12.0000  12.0000\n",
       "693    Default  2049.000000     christma  2049.000000  11.0000  11.0000\n",
       "900    Default  2068.000000      sentenc  2068.000000  10.0000  10.0000\n",
       "1298   Default  4856.000000    interview  4856.000000   9.0000   9.0000\n",
       "1097   Default  3808.000000       market  3808.000000   8.0000   8.0000\n",
       "5337   Default  1726.000000   grandstand  1726.000000   7.0000   7.0000\n",
       "241    Default  3491.000000        north  3491.000000   6.0000   6.0000\n",
       "1675   Default  2825.000000        shoot  2825.000000   5.0000   5.0000\n",
       "141    Default  4096.000000        death  4096.000000   4.0000   4.0000\n",
       "1246   Default  4846.000000        rural  4846.000000   3.0000   3.0000\n",
       "1227   Default  1540.000000      marriag  1540.000000   2.0000   2.0000\n",
       "1221   Default  1583.000000        korea  1583.000000   1.0000   1.0000\n",
       "...        ...          ...          ...          ...      ...      ...\n",
       "13185  Topic10   577.202393      myanmar   578.078125   2.4393  -5.8255\n",
       "712    Topic10   613.656616      general   614.598694   2.4393  -5.7643\n",
       "12074  Topic10   554.841064       episod   555.700989   2.4393  -5.8650\n",
       "6532   Topic10   553.578796      richard   554.438721   2.4393  -5.8673\n",
       "4757   Topic10   540.888000      matthew   541.748169   2.4393  -5.8905\n",
       "575    Topic10   534.875854  anniversari   535.735962   2.4393  -5.9017\n",
       "1855   Topic10   564.799927    technolog   565.712341   2.4392  -5.8473\n",
       "2875   Topic10   529.392700  controversi   530.267029   2.4392  -5.9120\n",
       "5917   Topic10   470.466431         appl   471.326416   2.4390  -6.0300\n",
       "1731   Topic10   459.132141      special   459.993683   2.4390  -6.0544\n",
       "4739   Topic10   448.581268   republican   449.441223   2.4389  -6.0776\n",
       "2423   Topic10   956.513794         anim   958.351807   2.4389  -5.3204\n",
       "8709   Topic10   446.913879         mike   447.773804   2.4389  -6.0814\n",
       "10972  Topic10   446.635925        clive   447.495880   2.4389  -6.0820\n",
       "1966   Topic10   440.264008       athlet   441.124390   2.4389  -6.0964\n",
       "1259   Topic10   447.073425        funer   447.948608   2.4389  -6.0810\n",
       "6594   Topic10  4234.560059        trump  4369.872559   2.4094  -3.8327\n",
       "11948  Topic10   538.650391         matt   542.698425   2.4334  -5.8947\n",
       "1390   Topic10   944.783752         care  1172.751831   2.2247  -5.3328\n",
       "1357   Topic10   805.739868       disabl   981.203491   2.2438  -5.4920\n",
       "3629   Topic10   612.802002       expans   694.214233   2.3161  -5.7657\n",
       "1159   Topic10   918.811401        steal  1269.971436   2.1172  -5.3606\n",
       "1485   Topic10   566.326965        heart   642.304321   2.3150  -5.8446\n",
       "684    Topic10   801.340271         mark  1318.937500   1.9426  -5.4974\n",
       "3771   Topic10   666.759888        april   991.645508   2.0439  -5.6813\n",
       "2759   Topic10   581.098450       london   776.225708   2.1513  -5.8188\n",
       "403    Topic10   750.024475          say  6773.701660   0.2402  -5.5636\n",
       "37     Topic10   605.785645    australia  7777.829102  -0.1116  -5.7772\n",
       "43     Topic10   569.287415       celebr  1529.352661   1.4526  -5.8393\n",
       "1103   Topic10   576.663696         year  5548.027832   0.1769  -5.8265\n",
       "\n",
       "[558 rows x 6 columns], token_table=      Topic      Freq     Term\n",
       "term                          \n",
       "2497      1  0.999457   abbott\n",
       "1883      1  0.039897     abus\n",
       "1883      2  0.805449     abus\n",
       "1883      4  0.010796     abus\n",
       "1883      5  0.004694     abus\n",
       "1883      8  0.000469     abus\n",
       "1883      9  0.123446     abus\n",
       "1883     10  0.014551     abus\n",
       "888       6  0.999417    accid\n",
       "2419      1  0.998065  account\n",
       "210       1  0.047697    accus\n",
       "210       2  0.759544    accus\n",
       "210       3  0.000723    accus\n",
       "210       4  0.046975    accus\n",
       "210       5  0.027101    accus\n",
       "210       7  0.000723    accus\n",
       "210       8  0.029269    accus\n",
       "210       9  0.025655    accus\n",
       "210      10  0.061790    accus\n",
       "512       1  0.558088   action\n",
       "512       2  0.033328   action\n",
       "512       3  0.037903   action\n",
       "512       4  0.077113   action\n",
       "512       5  0.052280   action\n",
       "512       6  0.013723   action\n",
       "512       7  0.049666   action\n",
       "512       8  0.052280   action\n",
       "512       9  0.086915   action\n",
       "512      10  0.037903   action\n",
       "3810      1  0.998835     adam\n",
       "...     ...       ...      ...\n",
       "781       9  0.107485   worker\n",
       "781      10  0.076454   worker\n",
       "421       1  0.045275    world\n",
       "421       2  0.001017    world\n",
       "421       3  0.280045    world\n",
       "421       4  0.118529    world\n",
       "421       5  0.173979    world\n",
       "421       6  0.037899    world\n",
       "421       7  0.073763    world\n",
       "421       8  0.095637    world\n",
       "421       9  0.065878    world\n",
       "421      10  0.107592    world\n",
       "2100      5  0.008069    worst\n",
       "2100      8  0.988475    worst\n",
       "4767      8  0.999318     wrap\n",
       "1103      1  0.060021     year\n",
       "1103      2  0.204577     year\n",
       "1103      3  0.102739     year\n",
       "1103      4  0.077866     year\n",
       "1103      5  0.089221     year\n",
       "1103      6  0.047044     year\n",
       "1103      7  0.080569     year\n",
       "1103      8  0.160237     year\n",
       "1103      9  0.074080     year\n",
       "1103     10  0.104001     year\n",
       "382       5  0.998771  zealand\n",
       "917       3  0.001548     zone\n",
       "917       5  0.066569     zone\n",
       "917       6  0.037155     zone\n",
       "917       9  0.893259     zone\n",
       "\n",
       "[1494 rows x 3 columns], R=30, lambda_step=0.01, plot_opts={'xlab': 'PC1', 'ylab': 'PC2'}, topic_order=[5, 1, 8, 4, 9, 2, 7, 10, 3, 6])"
      ]
     },
     "execution_count": 35,
     "metadata": {},
     "output_type": "execute_result"
    }
   ],
   "source": [
    "# Visualize the topics\n",
    "import pyLDAvis\n",
    "import pyLDAvis.gensim\n",
    "import gensim\n",
    "\n",
    "# lda_model_tfidf = gensim.models.LdaMulticore.load('lda_model_tfidf')\n",
    "\n",
    "pyLDAvis.enable_notebook()\n",
    "vis_tfidf = pyLDAvis.gensim.prepare(lda_model_tfidf, corpus_tfidf, dictionary)\n",
    "vis_tfidf"
   ]
  },
  {
   "cell_type": "code",
   "execution_count": 36,
   "metadata": {},
   "outputs": [
    {
     "name": "stderr",
     "output_type": "stream",
     "text": [
      "C:\\Users\\atanu\\Anaconda3\\lib\\site-packages\\pyLDAvis\\_prepare.py:223: RuntimeWarning: divide by zero encountered in log\n",
      "  kernel = (topic_given_term * np.log((topic_given_term.T / topic_proportion).T))\n",
      "C:\\Users\\atanu\\Anaconda3\\lib\\site-packages\\pyLDAvis\\_prepare.py:240: RuntimeWarning: divide by zero encountered in log\n",
      "  log_lift = np.log(topic_term_dists / term_proportion)\n",
      "C:\\Users\\atanu\\Anaconda3\\lib\\site-packages\\pyLDAvis\\_prepare.py:241: RuntimeWarning: divide by zero encountered in log\n",
      "  log_ttd = np.log(topic_term_dists)\n",
      "C:\\Users\\atanu\\Anaconda3\\lib\\site-packages\\pyLDAvis\\_prepare.py:257: FutureWarning: Sorting because non-concatenation axis is not aligned. A future version\n",
      "of pandas will change to not sort by default.\n",
      "\n",
      "To accept the future behavior, pass 'sort=False'.\n",
      "\n",
      "To retain the current behavior and silence the warning, pass 'sort=True'.\n",
      "\n",
      "  return pd.concat([default_term_info] + list(topic_dfs))\n"
     ]
    },
    {
     "data": {
      "text/html": [
       "\n",
       "<link rel=\"stylesheet\" type=\"text/css\" href=\"https://cdn.rawgit.com/bmabey/pyLDAvis/files/ldavis.v1.0.0.css\">\n",
       "\n",
       "\n",
       "<div id=\"ldavis_el2595624761164168164617068649\"></div>\n",
       "<script type=\"text/javascript\">\n",
       "\n",
       "var ldavis_el2595624761164168164617068649_data = {\"mdsDat\": {\"x\": [0.2283581587439213, 0.03355294961223465, -0.10551470159936133, -0.020778381801197364, 0.07888471877885403, -0.009762066602669803, -0.3174610974999538, 0.21603297288404588, 0.2117135978214692, -0.31502615033734305], \"y\": [-0.13214438105762072, 0.08964113428305025, -0.11400759978658119, 0.3010589658458744, 0.10814099518514707, 0.32971793962367535, -0.11830403130922226, -0.142093369214641, -0.1750749144221304, -0.14693473914755315], \"topics\": [1, 2, 3, 4, 5, 6, 7, 8, 9, 10], \"cluster\": [1, 1, 1, 1, 1, 1, 1, 1, 1, 1], \"Freq\": [10.046715262120816, 10.044132423671016, 10.019445211794256, 10.00120477504506, 10.000315299127397, 9.997517430253456, 9.987091810301711, 9.985003821908043, 9.96810705520159, 9.950466910576655]}, \"tinfo\": {\"Category\": [\"Default\", \"Default\", \"Default\", \"Default\", \"Default\", \"Default\", \"Default\", \"Default\", \"Default\", \"Default\", \"Default\", \"Default\", \"Default\", \"Default\", \"Default\", \"Default\", \"Default\", \"Default\", \"Default\", \"Default\", \"Default\", \"Default\", \"Default\", \"Default\", \"Default\", \"Default\", \"Default\", \"Default\", \"Default\", \"Default\", \"Topic1\", \"Topic1\", \"Topic1\", \"Topic1\", \"Topic1\", \"Topic1\", \"Topic1\", \"Topic1\", \"Topic1\", \"Topic1\", \"Topic1\", \"Topic1\", \"Topic1\", \"Topic1\", \"Topic1\", \"Topic1\", \"Topic1\", \"Topic1\", \"Topic1\", \"Topic1\", \"Topic1\", \"Topic1\", \"Topic1\", \"Topic1\", \"Topic1\", \"Topic1\", \"Topic1\", \"Topic1\", \"Topic1\", \"Topic1\", \"Topic1\", \"Topic1\", \"Topic1\", \"Topic1\", \"Topic1\", \"Topic1\", \"Topic1\", \"Topic1\", \"Topic1\", \"Topic1\", \"Topic1\", \"Topic1\", \"Topic1\", \"Topic1\", \"Topic1\", \"Topic1\", \"Topic1\", \"Topic1\", \"Topic1\", \"Topic1\", \"Topic1\", \"Topic1\", \"Topic1\", \"Topic1\", \"Topic1\", \"Topic1\", \"Topic1\", \"Topic1\", \"Topic1\", \"Topic1\", \"Topic1\", \"Topic1\", \"Topic1\", \"Topic1\", \"Topic1\", \"Topic1\", \"Topic1\", \"Topic1\", \"Topic1\", \"Topic1\", \"Topic1\", \"Topic1\", \"Topic1\", \"Topic2\", \"Topic2\", \"Topic2\", \"Topic2\", \"Topic2\", \"Topic2\", \"Topic2\", \"Topic2\", \"Topic2\", \"Topic2\", \"Topic2\", \"Topic2\", \"Topic2\", \"Topic2\", \"Topic2\", \"Topic2\", \"Topic2\", \"Topic2\", \"Topic2\", \"Topic2\", \"Topic2\", \"Topic2\", \"Topic2\", \"Topic2\", \"Topic2\", \"Topic2\", \"Topic2\", \"Topic2\", \"Topic2\", \"Topic2\", \"Topic2\", \"Topic2\", \"Topic2\", \"Topic2\", \"Topic2\", \"Topic2\", \"Topic2\", \"Topic2\", \"Topic2\", \"Topic2\", \"Topic2\", \"Topic2\", \"Topic2\", \"Topic2\", \"Topic2\", \"Topic2\", \"Topic2\", \"Topic2\", \"Topic2\", \"Topic2\", \"Topic2\", \"Topic2\", \"Topic2\", \"Topic2\", \"Topic2\", \"Topic2\", \"Topic2\", \"Topic2\", \"Topic2\", \"Topic2\", \"Topic2\", \"Topic2\", \"Topic2\", \"Topic2\", \"Topic2\", \"Topic2\", \"Topic2\", \"Topic3\", \"Topic3\", \"Topic3\", \"Topic3\", \"Topic3\", \"Topic3\", \"Topic3\", \"Topic3\", \"Topic3\", \"Topic3\", \"Topic3\", \"Topic3\", \"Topic3\", \"Topic3\", \"Topic3\", \"Topic3\", \"Topic3\", \"Topic3\", \"Topic3\", \"Topic3\", \"Topic3\", \"Topic3\", \"Topic3\", \"Topic3\", \"Topic3\", \"Topic3\", \"Topic3\", \"Topic3\", \"Topic3\", \"Topic3\", \"Topic3\", \"Topic3\", \"Topic3\", \"Topic3\", \"Topic3\", \"Topic3\", \"Topic3\", \"Topic3\", \"Topic3\", \"Topic3\", \"Topic3\", \"Topic3\", \"Topic3\", \"Topic3\", \"Topic3\", \"Topic3\", \"Topic3\", \"Topic3\", \"Topic3\", \"Topic3\", \"Topic3\", \"Topic3\", \"Topic3\", \"Topic3\", \"Topic3\", \"Topic3\", \"Topic3\", \"Topic3\", \"Topic3\", \"Topic3\", \"Topic3\", \"Topic3\", \"Topic3\", \"Topic3\", \"Topic3\", \"Topic3\", \"Topic3\", \"Topic3\", \"Topic3\", \"Topic3\", \"Topic3\", \"Topic3\", \"Topic3\", \"Topic4\", \"Topic4\", \"Topic4\", \"Topic4\", \"Topic4\", \"Topic4\", \"Topic4\", \"Topic4\", \"Topic4\", \"Topic4\", \"Topic4\", \"Topic4\", \"Topic4\", \"Topic4\", \"Topic4\", \"Topic4\", \"Topic4\", \"Topic4\", \"Topic4\", \"Topic4\", \"Topic4\", \"Topic4\", \"Topic4\", \"Topic4\", \"Topic4\", \"Topic4\", \"Topic4\", \"Topic4\", \"Topic4\", \"Topic4\", \"Topic4\", \"Topic4\", \"Topic4\", \"Topic4\", \"Topic4\", \"Topic4\", \"Topic4\", \"Topic4\", \"Topic4\", \"Topic4\", \"Topic4\", \"Topic4\", \"Topic4\", \"Topic4\", \"Topic4\", \"Topic4\", \"Topic4\", \"Topic4\", \"Topic4\", \"Topic4\", \"Topic4\", \"Topic4\", \"Topic4\", \"Topic4\", \"Topic4\", \"Topic4\", \"Topic4\", \"Topic4\", \"Topic4\", \"Topic4\", \"Topic4\", \"Topic4\", \"Topic4\", \"Topic4\", \"Topic4\", \"Topic4\", \"Topic4\", \"Topic5\", \"Topic5\", \"Topic5\", \"Topic5\", \"Topic5\", \"Topic5\", \"Topic5\", \"Topic5\", \"Topic5\", \"Topic5\", \"Topic5\", \"Topic5\", \"Topic5\", \"Topic5\", \"Topic5\", \"Topic5\", \"Topic5\", \"Topic5\", \"Topic5\", \"Topic5\", \"Topic5\", \"Topic5\", \"Topic5\", \"Topic5\", \"Topic5\", \"Topic5\", \"Topic5\", \"Topic5\", \"Topic5\", \"Topic5\", \"Topic5\", \"Topic5\", \"Topic5\", \"Topic5\", \"Topic5\", \"Topic5\", \"Topic5\", \"Topic5\", \"Topic5\", \"Topic5\", \"Topic5\", \"Topic5\", \"Topic5\", \"Topic5\", \"Topic5\", \"Topic5\", \"Topic5\", \"Topic5\", \"Topic5\", \"Topic5\", \"Topic5\", \"Topic5\", \"Topic5\", \"Topic5\", \"Topic5\", \"Topic5\", \"Topic5\", \"Topic5\", \"Topic5\", \"Topic5\", \"Topic5\", \"Topic5\", \"Topic5\", \"Topic5\", \"Topic5\", \"Topic5\", \"Topic5\", \"Topic5\", \"Topic6\", \"Topic6\", \"Topic6\", \"Topic6\", \"Topic6\", \"Topic6\", \"Topic6\", \"Topic6\", \"Topic6\", \"Topic6\", \"Topic6\", \"Topic6\", \"Topic6\", \"Topic6\", \"Topic6\", \"Topic6\", \"Topic6\", \"Topic6\", \"Topic6\", \"Topic6\", \"Topic6\", \"Topic6\", \"Topic6\", \"Topic6\", \"Topic6\", \"Topic6\", \"Topic6\", \"Topic6\", \"Topic6\", \"Topic6\", \"Topic6\", \"Topic6\", \"Topic6\", \"Topic6\", \"Topic6\", \"Topic6\", \"Topic6\", \"Topic6\", \"Topic6\", \"Topic6\", \"Topic6\", \"Topic6\", \"Topic6\", \"Topic6\", \"Topic6\", \"Topic6\", \"Topic6\", \"Topic6\", \"Topic6\", \"Topic6\", \"Topic6\", \"Topic6\", \"Topic6\", \"Topic6\", \"Topic6\", \"Topic6\", \"Topic6\", \"Topic6\", \"Topic6\", \"Topic6\", \"Topic6\", \"Topic6\", \"Topic6\", \"Topic6\", \"Topic6\", \"Topic6\", \"Topic6\", \"Topic6\", \"Topic6\", \"Topic6\", \"Topic6\", \"Topic6\", \"Topic6\", \"Topic6\", \"Topic7\", \"Topic7\", \"Topic7\", \"Topic7\", \"Topic7\", \"Topic7\", \"Topic7\", \"Topic7\", \"Topic7\", \"Topic7\", \"Topic7\", \"Topic7\", \"Topic7\", \"Topic7\", \"Topic7\", \"Topic7\", \"Topic7\", \"Topic7\", \"Topic7\", \"Topic7\", \"Topic7\", \"Topic7\", \"Topic7\", \"Topic7\", \"Topic7\", \"Topic7\", \"Topic7\", \"Topic7\", \"Topic7\", \"Topic7\", \"Topic7\", \"Topic7\", \"Topic7\", \"Topic7\", \"Topic7\", \"Topic7\", \"Topic7\", \"Topic7\", \"Topic7\", \"Topic7\", \"Topic7\", \"Topic7\", \"Topic7\", \"Topic7\", \"Topic7\", \"Topic7\", \"Topic7\", \"Topic7\", \"Topic7\", \"Topic7\", \"Topic7\", \"Topic7\", \"Topic7\", \"Topic7\", \"Topic7\", \"Topic7\", \"Topic7\", \"Topic7\", \"Topic7\", \"Topic7\", \"Topic7\", \"Topic7\", \"Topic7\", \"Topic7\", \"Topic8\", \"Topic8\", \"Topic8\", \"Topic8\", \"Topic8\", \"Topic8\", \"Topic8\", \"Topic8\", \"Topic8\", \"Topic8\", \"Topic8\", \"Topic8\", \"Topic8\", \"Topic8\", \"Topic8\", \"Topic8\", \"Topic8\", \"Topic8\", \"Topic8\", \"Topic8\", \"Topic8\", \"Topic8\", \"Topic8\", \"Topic8\", \"Topic8\", \"Topic8\", \"Topic8\", \"Topic8\", \"Topic8\", \"Topic8\", \"Topic8\", \"Topic8\", \"Topic8\", \"Topic8\", \"Topic8\", \"Topic8\", \"Topic8\", \"Topic8\", \"Topic8\", \"Topic8\", \"Topic8\", \"Topic8\", \"Topic8\", \"Topic8\", \"Topic8\", \"Topic8\", \"Topic8\", \"Topic8\", \"Topic8\", \"Topic8\", \"Topic8\", \"Topic8\", \"Topic8\", \"Topic8\", \"Topic8\", \"Topic8\", \"Topic8\", \"Topic8\", \"Topic8\", \"Topic8\", \"Topic8\", \"Topic8\", \"Topic8\", \"Topic8\", \"Topic8\", \"Topic8\", \"Topic9\", \"Topic9\", \"Topic9\", \"Topic9\", \"Topic9\", \"Topic9\", \"Topic9\", \"Topic9\", \"Topic9\", \"Topic9\", \"Topic9\", \"Topic9\", \"Topic9\", \"Topic9\", \"Topic9\", \"Topic9\", \"Topic9\", \"Topic9\", \"Topic9\", \"Topic9\", \"Topic9\", \"Topic9\", \"Topic9\", \"Topic9\", \"Topic9\", \"Topic9\", \"Topic9\", \"Topic9\", \"Topic9\", \"Topic9\", \"Topic9\", \"Topic9\", \"Topic9\", \"Topic9\", \"Topic9\", \"Topic9\", \"Topic9\", \"Topic9\", \"Topic9\", \"Topic9\", \"Topic9\", \"Topic9\", \"Topic9\", \"Topic9\", \"Topic9\", \"Topic9\", \"Topic9\", \"Topic9\", \"Topic9\", \"Topic9\", \"Topic9\", \"Topic9\", \"Topic9\", \"Topic9\", \"Topic9\", \"Topic9\", \"Topic9\", \"Topic9\", \"Topic9\", \"Topic9\", \"Topic9\", \"Topic9\", \"Topic9\", \"Topic9\", \"Topic9\", \"Topic9\", \"Topic9\", \"Topic10\", \"Topic10\", \"Topic10\", \"Topic10\", \"Topic10\", \"Topic10\", \"Topic10\", \"Topic10\", \"Topic10\", \"Topic10\", \"Topic10\", \"Topic10\", \"Topic10\", \"Topic10\", \"Topic10\", \"Topic10\", \"Topic10\", \"Topic10\", \"Topic10\", \"Topic10\", \"Topic10\", \"Topic10\", \"Topic10\", \"Topic10\", \"Topic10\", \"Topic10\", \"Topic10\", \"Topic10\", \"Topic10\", \"Topic10\", \"Topic10\", \"Topic10\", \"Topic10\", \"Topic10\", \"Topic10\", \"Topic10\", \"Topic10\", \"Topic10\", \"Topic10\", \"Topic10\", \"Topic10\", \"Topic10\", \"Topic10\", \"Topic10\", \"Topic10\", \"Topic10\", \"Topic10\", \"Topic10\", \"Topic10\", \"Topic10\", \"Topic10\", \"Topic10\", \"Topic10\", \"Topic10\", \"Topic10\", \"Topic10\", \"Topic10\", \"Topic10\", \"Topic10\", \"Topic10\", \"Topic10\", \"Topic10\", \"Topic10\", \"Topic10\", \"Topic10\", \"Topic10\", \"Topic10\", \"Topic10\"], \"Freq\": [149794.0, 105126.0, 108840.0, 54878.0, 43570.0, 34996.0, 23918.0, 16868.0, 9436.0, 12226.0, 8010.0, 6776.0, 6522.0, 6022.0, 5761.0, 5316.0, 5065.0, 4927.0, 6695.0, 6971.0, 5970.0, 4517.0, 4502.0, 4440.0, 4238.0, 5922.0, 4166.0, 5607.0, 4080.0, 4219.0, 144.9804659224995, 144.9804659224995, 144.9804659224995, 144.9804659224995, 144.9804659224995, 144.9804659224995, 144.9804659224995, 144.9804659224995, 144.9804659224995, 144.9804659224995, 144.9804659224995, 144.9804659224995, 144.9804659224995, 144.9804659224995, 144.9804659224995, 144.9804659224995, 144.9804659224995, 144.9804659224995, 289.960931844999, 144.9804659224995, 144.9804659224995, 289.960931844999, 144.9804659224995, 144.9804659224995, 289.960931844999, 579.921863689998, 144.9804659224995, 144.9804659224995, 289.960931844999, 144.9804659224995, 3334.5507162174886, 3044.5897843724897, 2464.6679206824915, 2174.7069888374926, 2174.7069888374926, 2029.7265229149932, 2029.7265229149932, 1884.7460569924935, 1739.7655910699941, 1594.7851251474945, 1594.7851251474945, 1594.7851251474945, 1449.8046592249952, 1449.8046592249952, 1449.8046592249952, 1449.8046592249952, 1449.8046592249952, 1304.8241933024956, 1304.8241933024956, 1159.843727379996, 1159.843727379996, 1159.843727379996, 1014.8632614574966, 1014.8632614574966, 1014.8632614574966, 1014.8632614574966, 1014.8632614574966, 1014.8632614574966, 869.8827955349971, 869.8827955349971, 869.8827955349971, 3334.5507162174886, 869.8827955349971, 869.8827955349971, 869.8827955349971, 869.8827955349971, 2899.6093184499905, 41754.37418567986, 1304.8241933024956, 6234.160034667479, 1449.8046592249952, 1304.8241933024956, 1884.7460569924935, 140.69875148842004, 422.09625446526013, 844.1925089305203, 281.3975029768401, 140.69875148842004, 1125.5900119073603, 140.69875148842004, 281.3975029768401, 140.69875148842004, 140.69875148842004, 140.69875148842004, 1125.5900119073603, 140.69875148842004, 140.69875148842004, 281.3975029768401, 984.8912604189403, 140.69875148842004, 422.09625446526013, 140.69875148842004, 984.8912604189403, 281.3975029768401, 140.69875148842004, 562.7950059536802, 140.69875148842004, 140.69875148842004, 140.69875148842004, 140.69875148842004, 140.69875148842004, 140.69875148842004, 140.69875148842004, 23918.787753031407, 5065.155053583121, 4502.360047629441, 4080.263793164181, 3517.468787210501, 3236.0712842336607, 2813.975029768401, 2532.5775267915606, 2251.1800238147207, 1969.7825208378806, 1969.7825208378806, 1969.7825208378806, 1829.0837693494607, 1829.0837693494607, 1829.0837693494607, 1547.6862663726206, 1547.6862663726206, 1406.9875148842004, 1406.9875148842004, 1406.9875148842004, 1266.2887633957803, 1266.2887633957803, 1266.2887633957803, 1125.5900119073603, 1125.5900119073603, 844.1925089305203, 844.1925089305203, 4080.263793164181, 2532.5775267915606, 2251.1800238147207, 2673.276278279981, 2251.1800238147207, 3376.770035722081, 1406.9875148842004, 1547.6862663726206, 8301.226337816783, 2251.1800238147207, 138.88190835774404, 138.88190835774404, 416.64572507323214, 972.1733585042083, 138.88190835774404, 138.88190835774404, 138.88190835774404, 555.5276334309762, 277.7638167154881, 138.88190835774404, 972.1733585042083, 138.88190835774404, 138.88190835774404, 277.7638167154881, 1111.0552668619523, 138.88190835774404, 138.88190835774404, 138.88190835774404, 277.7638167154881, 138.88190835774404, 138.88190835774404, 138.88190835774404, 1111.0552668619523, 833.2914501464643, 138.88190835774404, 138.88190835774404, 138.88190835774404, 138.88190835774404, 416.64572507323214, 138.88190835774404, 4166.457250732322, 3888.693434016833, 3749.8115256590895, 3472.0477089436013, 3333.165800585857, 3194.2838922281135, 2360.9924420816487, 2360.9924420816487, 1944.3467170084166, 1944.3467170084166, 1527.7009919351844, 1527.7009919351844, 1249.9371752196964, 1249.9371752196964, 1111.0552668619523, 1111.0552668619523, 1111.0552668619523, 1111.0552668619523, 1111.0552668619523, 972.1733585042083, 972.1733585042083, 972.1733585042083, 833.2914501464643, 833.2914501464643, 833.2914501464643, 833.2914501464643, 33192.77609750083, 833.2914501464643, 833.2914501464643, 833.2914501464643, 2222.1105337239046, 1944.3467170084166, 4721.9848841632975, 1527.7009919351844, 1388.8190835774406, 4444.221067447809, 1666.5829002929286, 1666.5829002929286, 1666.5829002929286, 2499.874350439393, 10693.906943546292, 2638.756258797137, 1249.9371752196964, 140.53522309264795, 281.0704461852959, 562.1408923705918, 140.53522309264795, 281.0704461852959, 140.53522309264795, 140.53522309264795, 421.60566927794383, 281.0704461852959, 140.53522309264795, 140.53522309264795, 1264.8170078338317, 281.0704461852959, 421.60566927794383, 140.53522309264795, 140.53522309264795, 140.53522309264795, 562.1408923705918, 140.53522309264795, 843.2113385558877, 140.53522309264795, 140.53522309264795, 140.53522309264795, 983.7465616485358, 983.7465616485358, 1826.9579002044236, 140.53522309264795, 421.60566927794383, 281.0704461852959, 140.53522309264795, 8010.507716280933, 5761.944146798566, 3653.915800408847, 2951.2396849456068, 2108.0283463897194, 1967.4931232970716, 1967.4931232970716, 1826.9579002044236, 1826.9579002044236, 1826.9579002044236, 1686.4226771117753, 1686.4226771117753, 1545.8874540191275, 1545.8874540191275, 1405.3522309264797, 1405.3522309264797, 1405.3522309264797, 1264.8170078338317, 1124.2817847411836, 983.7465616485358, 983.7465616485358, 983.7465616485358, 843.2113385558877, 843.2113385558877, 843.2113385558877, 843.2113385558877, 2810.7044618529594, 2810.7044618529594, 4918.732808242678, 3091.774908038255, 37241.834119551706, 2248.5635694823673, 2670.169238760311, 1826.9579002044236, 1124.2817847411836, 1967.4931232970716, 2529.6340156676633, 132.88200882157486, 132.88200882157486, 132.88200882157486, 132.88200882157486, 265.7640176431497, 132.88200882157486, 265.7640176431497, 132.88200882157486, 265.7640176431497, 132.88200882157486, 132.88200882157486, 132.88200882157486, 132.88200882157486, 398.64602646472457, 132.88200882157486, 2258.994149966773, 132.88200882157486, 797.2920529294491, 531.5280352862994, 132.88200882157486, 132.88200882157486, 265.7640176431497, 132.88200882157486, 132.88200882157486, 531.5280352862994, 265.7640176431497, 132.88200882157486, 930.174061751024, 132.88200882157486, 132.88200882157486, 6776.982449900318, 3322.050220539372, 3189.1682117177966, 3189.1682117177966, 3189.1682117177966, 2524.7581676099226, 2258.994149966773, 2258.994149966773, 2126.1121411451977, 1993.2301323236231, 1860.348123502048, 1727.4661146804733, 1594.5841058588983, 1594.5841058588983, 1594.5841058588983, 1461.7020970373235, 1461.7020970373235, 1461.7020970373235, 1461.7020970373235, 1195.9380793941737, 1063.0560705725989, 1063.0560705725989, 930.174061751024, 930.174061751024, 930.174061751024, 930.174061751024, 797.2920529294491, 797.2920529294491, 3720.696247004096, 797.2920529294491, 44382.59094640601, 10497.678696904413, 1461.7020970373235, 1860.348123502048, 1195.9380793941737, 1063.0560705725989, 1195.9380793941737, 3189.1682117177966, 137.14060686054557, 548.5624274421823, 137.14060686054557, 137.14060686054557, 274.28121372109115, 137.14060686054557, 137.14060686054557, 137.14060686054557, 411.4218205816368, 137.14060686054557, 822.8436411632736, 137.14060686054557, 137.14060686054557, 137.14060686054557, 137.14060686054557, 2468.5309234898205, 137.14060686054557, 411.4218205816368, 137.14060686054557, 137.14060686054557, 137.14060686054557, 548.5624274421823, 137.14060686054557, 411.4218205816368, 411.4218205816368, 137.14060686054557, 137.14060686054557, 1097.1248548843646, 411.4218205816368, 411.4218205816368, 2879.9527440714573, 2605.671530350366, 2331.3903166292753, 2331.3903166292753, 1782.8278891870925, 1782.8278891870925, 1782.8278891870925, 1782.8278891870925, 1508.5466754660015, 1371.4060686054559, 1371.4060686054559, 1234.2654617449102, 1234.2654617449102, 1097.1248548843646, 959.9842480238192, 959.9842480238192, 959.9842480238192, 959.9842480238192, 822.8436411632736, 822.8436411632736, 822.8436411632736, 822.8436411632736, 685.7030343027279, 685.7030343027279, 685.7030343027279, 685.7030343027279, 685.7030343027279, 685.7030343027279, 685.7030343027279, 685.7030343027279, 2879.9527440714573, 685.7030343027279, 67884.60039597006, 3291.3745646530942, 1371.4060686054559, 1782.8278891870925, 1508.5466754660015, 1645.6872823265471, 1782.8278891870925, 1782.8278891870925, 1645.6872823265471, 2194.249709768729, 959.9842480238192, 959.9842480238192, 545.328612488275, 136.33215312206875, 408.9964593662062, 817.9929187324124, 408.9964593662062, 136.33215312206875, 136.33215312206875, 817.9929187324124, 136.33215312206875, 136.33215312206875, 136.33215312206875, 136.33215312206875, 136.33215312206875, 136.33215312206875, 2044.9822968310311, 272.6643062441375, 1499.6536843427562, 136.33215312206875, 272.6643062441375, 681.6607656103436, 136.33215312206875, 408.9964593662062, 136.33215312206875, 272.6643062441375, 1090.65722497655, 136.33215312206875, 136.33215312206875, 1363.3215312206871, 272.6643062441375, 272.6643062441375, 5316.95397176068, 3408.303828051718, 2862.9752155634433, 2590.3109093193057, 2181.3144499531, 1772.3179905868933, 1772.3179905868933, 1772.3179905868933, 1772.3179905868933, 1499.6536843427562, 1499.6536843427562, 1363.3215312206871, 1226.9893780986185, 1226.9893780986185, 1226.9893780986185, 1090.65722497655, 1090.65722497655, 954.325071854481, 954.325071854481, 954.325071854481, 954.325071854481, 954.325071854481, 954.325071854481, 954.325071854481, 817.9929187324124, 817.9929187324124, 817.9929187324124, 817.9929187324124, 817.9929187324124, 9406.918565422742, 61349.46890493093, 1635.9858374648247, 1635.9858374648247, 1635.9858374648247, 1505.7397762898715, 136.88543420817015, 821.312605249021, 136.88543420817015, 136.88543420817015, 136.88543420817015, 136.88543420817015, 136.88543420817015, 273.7708684163403, 136.88543420817015, 547.5417368326806, 410.6563026245105, 136.88543420817015, 136.88543420817015, 547.5417368326806, 136.88543420817015, 273.7708684163403, 136.88543420817015, 136.88543420817015, 958.1980394571912, 273.7708684163403, 136.88543420817015, 547.5417368326806, 136.88543420817015, 136.88543420817015, 136.88543420817015, 1642.625210498042, 410.6563026245105, 410.6563026245105, 410.6563026245105, 6022.959105159486, 4927.875631494125, 4517.219328869615, 2463.9378157470624, 1642.625210498042, 1642.625210498042, 1505.7397762898715, 1505.7397762898715, 1231.9689078735312, 1231.9689078735312, 1095.0834736653612, 1095.0834736653612, 1095.0834736653612, 1095.0834736653612, 958.1980394571912, 958.1980394571912, 958.1980394571912, 958.1980394571912, 958.1980394571912, 821.312605249021, 821.312605249021, 821.312605249021, 821.312605249021, 821.312605249021, 821.312605249021, 684.4271710408508, 40381.20309141019, 3148.3649867879135, 2190.1669473307225, 1779.510644706212, 1642.625210498042, 3422.135855204254, 26008.23249955233, 2190.1669473307225, 1095.0834736653612, 1231.9689078735312, 2081.5376779771077, 277.5383570636144, 138.7691785318072, 1665.2301423816864, 555.0767141272288, 555.0767141272288, 138.7691785318072, 555.0767141272288, 138.7691785318072, 1526.4609638498794, 138.7691785318072, 138.7691785318072, 138.7691785318072, 555.0767141272288, 555.0767141272288, 138.7691785318072, 138.7691785318072, 138.7691785318072, 138.7691785318072, 277.5383570636144, 138.7691785318072, 138.7691785318072, 277.5383570636144, 138.7691785318072, 138.7691785318072, 138.7691785318072, 555.0767141272288, 138.7691785318072, 138.7691785318072, 138.7691785318072, 9436.304140162889, 6522.151390994938, 4440.61371301783, 3052.9219276997587, 3052.9219276997587, 2497.8452135725297, 2220.306856508915, 1803.9993209134934, 1803.9993209134934, 1803.9993209134934, 1665.2301423816864, 1526.4609638498794, 1526.4609638498794, 1387.691785318072, 1387.691785318072, 1387.691785318072, 1387.691785318072, 1248.9226067862649, 1248.9226067862649, 1248.9226067862649, 1110.1534282544576, 1110.1534282544576, 1110.1534282544576, 1110.1534282544576, 1110.1534282544576, 971.3842497226505, 971.3842497226505, 971.3842497226505, 971.3842497226505, 3885.536998890602, 971.3842497226505, 2220.306856508915, 38439.062453310595, 3885.536998890602, 1803.9993209134934, 1248.9226067862649, 1110.1534282544576, 132.4544826790158, 264.9089653580316, 132.4544826790158, 132.4544826790158, 132.4544826790158, 132.4544826790158, 132.4544826790158, 132.4544826790158, 132.4544826790158, 397.3634480370474, 397.3634480370474, 397.3634480370474, 264.9089653580316, 132.4544826790158, 132.4544826790158, 264.9089653580316, 132.4544826790158, 132.4544826790158, 132.4544826790158, 132.4544826790158, 132.4544826790158, 662.2724133950791, 132.4544826790158, 132.4544826790158, 132.4544826790158, 264.9089653580316, 1059.6358614321264, 132.4544826790158, 132.4544826790158, 132.4544826790158, 4238.5434457285055, 3841.179997691458, 3841.179997691458, 2251.726205543269, 2251.726205543269, 1986.817240185237, 1854.3627575062212, 1854.3627575062212, 1589.4537921481897, 1456.9993094691738, 1456.9993094691738, 1192.0903441111423, 1192.0903441111423, 1192.0903441111423, 1192.0903441111423, 1059.6358614321264, 1059.6358614321264, 1059.6358614321264, 1059.6358614321264, 927.1813787531106, 927.1813787531106, 927.1813787531106, 927.1813787531106, 927.1813787531106, 794.7268960740948, 794.7268960740948, 794.7268960740948, 794.7268960740948, 794.7268960740948, 794.7268960740948, 794.7268960740948, 794.7268960740948, 1854.3627575062212, 77750.78133258228, 2913.9986189383476, 1721.9082748272056, 1059.6358614321264, 1059.6358614321264], \"Term\": [\"closer\", \"sport\", \"weather\", \"interview\", \"entertain\", \"rural\", \"busi\", \"countrywid\", \"grandstand\", \"news\", \"open\", \"miss\", \"sale\", \"corner\", \"water\", \"charg\", \"report\", \"australia\", \"budget\", \"die\", \"meet\", \"china\", \"bell\", \"review\", \"chang\", \"rain\", \"warn\", \"job\", \"crash\", \"hospit\", \"culleton\", \"skull\", \"birth\", \"undo\", \"gang\", \"dogleg\", \"parkinson\", \"lobster\", \"file\", \"mandela\", \"stanhop\", \"bulldog\", \"slipperi\", \"barri\", \"pip\", \"sachin\", \"uncertain\", \"greenhous\", \"stat\", \"twin\", \"perilya\", \"citizen\", \"kununurra\", \"coleman\", \"rope\", \"murdoch\", \"resurg\", \"activ\", \"toxic\", \"mind\", \"plan\", \"road\", \"dead\", \"return\", \"approv\", \"black\", \"clubhous\", \"search\", \"watch\", \"nation\", \"announc\", \"strike\", \"number\", \"lose\", \"money\", \"darwin\", \"support\", \"happen\", \"famili\", \"hear\", \"injur\", \"withdraw\", \"escap\", \"tribut\", \"japan\", \"fear\", \"fin\", \"bluescop\", \"hick\", \"decemb\", \"dean\", \"station\", \"cost\", \"board\", \"word\", \"xmas\", \"world\", \"weather\", \"beef\", \"countrywid\", \"cattl\", \"deal\", \"fatal\", \"emoji\", \"winter\", \"chris\", \"dancer\", \"exchang\", \"confid\", \"policeman\", \"employ\", \"deadlock\", \"buy\", \"migrat\", \"egypt\", \"addict\", \"dunde\", \"overhaul\", \"river\", \"freo\", \"hospitalis\", \"turkish\", \"creek\", \"regret\", \"partnership\", \"extradit\", \"robber\", \"laugh\", \"kemp\", \"pat\", \"visitor\", \"detaine\", \"lambi\", \"busi\", \"report\", \"bell\", \"crash\", \"media\", \"debat\", \"fire\", \"rat\", \"talk\", \"award\", \"food\", \"march\", \"presid\", \"memori\", \"tiger\", \"hunt\", \"coal\", \"outback\", \"karl\", \"develop\", \"chopper\", \"fenc\", \"hen\", \"talkaboutit\", \"leav\", \"bait\", \"safeti\", \"hospit\", \"wach\", \"kill\", \"trial\", \"fight\", \"reax\", \"play\", \"newsmak\", \"interview\", \"budget\", \"bitcoin\", \"annual\", \"convoy\", \"shed\", \"balloon\", \"hooper\", \"requir\", \"letter\", \"psychiatrist\", \"tumbarumba\", \"sustain\", \"invad\", \"expel\", \"button\", \"pedestrian\", \"raikkonen\", \"rig\", \"abort\", \"calm\", \"breakout\", \"religi\", \"bellami\", \"cent\", \"bounti\", \"sheffield\", \"storifi\", \"releg\", \"royalti\", \"cane\", \"restaur\", \"warn\", \"arrest\", \"school\", \"farmer\", \"flood\", \"polic\", \"retir\", \"protest\", \"bath\", \"byron\", \"india\", \"visit\", \"hendra\", \"cricket\", \"threat\", \"solar\", \"stoush\", \"financ\", \"murder\", \"accus\", \"studio\", \"program\", \"port\", \"countri\", \"crisi\", \"teen\", \"rural\", \"smith\", \"save\", \"marin\", \"fall\", \"featur\", \"meet\", \"wimbledon\", \"april\", \"budget\", \"race\", \"jail\", \"carbon\", \"rain\", \"closer\", \"weather\", \"cut\", \"ransomwar\", \"beachley\", \"blockad\", \"mail\", \"silo\", \"rape\", \"scott\", \"leve\", \"tonga\", \"wheel\", \"incent\", \"bird\", \"coraki\", \"mcgrath\", \"jenni\", \"derail\", \"roo\", \"rob\", \"pollut\", \"novemb\", \"trailer\", \"meningococc\", \"believ\", \"anim\", \"ranger\", \"confer\", \"slump\", \"dam\", \"matern\", \"kidman\", \"open\", \"water\", \"season\", \"gold\", \"stori\", \"grow\", \"resign\", \"post\", \"christma\", \"marriag\", \"concern\", \"follow\", \"leagu\", \"dribbl\", \"show\", \"reopen\", \"decis\", \"david\", \"face\", \"bushrang\", \"danger\", \"target\", \"qanta\", \"driver\", \"sach\", \"quiz\", \"farm\", \"market\", \"die\", \"close\", \"sport\", \"fund\", \"cut\", \"dairi\", \"fiji\", \"updat\", \"news\", \"pokemon\", \"lurk\", \"arbitr\", \"civil\", \"unbeaten\", \"penguin\", \"sculptur\", \"sanction\", \"downgrad\", \"quick\", \"magnific\", \"lennox\", \"olympian\", \"bega\", \"lyon\", \"forestri\", \"workcov\", \"factori\", \"sorri\", \"vic\", \"lankan\", \"bet\", \"meninde\", \"arrow\", \"amnesti\", \"bloom\", \"infect\", \"transport\", \"bag\", \"sharehold\", \"miss\", \"power\", \"rise\", \"court\", \"harvest\", \"investig\", \"turn\", \"game\", \"june\", \"blue\", \"drug\", \"weed\", \"time\", \"tree\", \"august\", \"closur\", \"highlight\", \"iraq\", \"studi\", \"union\", \"state\", \"oliv\", \"scene\", \"rock\", \"industri\", \"shortag\", \"winner\", \"corrupt\", \"hous\", \"quak\", \"interview\", \"countrywid\", \"teacher\", \"preview\", \"sign\", \"stand\", \"england\", \"entertain\", \"verrend\", \"hockey\", \"ramsay\", \"wimmera\", \"desert\", \"meatwork\", \"factor\", \"grade\", \"medicin\", \"asham\", \"line\", \"termin\", \"deep\", \"pastoralist\", \"rosella\", \"control\", \"regatta\", \"artist\", \"dung\", \"prosecut\", \"mason\", \"connect\", \"pellet\", \"internet\", \"warrior\", \"portland\", \"request\", \"releas\", \"erupt\", \"roger\", \"drum\", \"council\", \"sell\", \"appeal\", \"reform\", \"metgasco\", \"young\", \"profit\", \"expans\", \"rodeo\", \"group\", \"inquiri\", \"canberra\", \"total\", \"lamb\", \"campaign\", \"weekend\", \"appoint\", \"petit\", \"clear\", \"kevin\", \"star\", \"frack\", \"bash\", \"brown\", \"beer\", \"coach\", \"wheat\", \"hemp\", \"zone\", \"attack\", \"disast\", \"sport\", \"year\", \"inquest\", \"price\", \"melbourn\", \"crop\", \"updat\", \"fatal\", \"wrap\", \"interview\", \"milk\", \"send\", \"chatlin\", \"oprah\", \"walker\", \"turtl\", \"mundin\", \"complianc\", \"latham\", \"robert\", \"francisco\", \"chaplain\", \"famous\", \"rann\", \"golfer\", \"deadlin\", \"anzac\", \"competit\", \"mango\", \"dive\", \"lemon\", \"compens\", \"bacon\", \"chelsea\", \"serena\", \"respect\", \"pipelin\", \"univers\", \"height\", \"bulli\", \"institut\", \"isol\", \"charg\", \"death\", \"halv\", \"fruit\", \"tour\", \"fish\", \"grain\", \"smoke\", \"good\", \"australian\", \"project\", \"quit\", \"unemploy\", \"prison\", \"final\", \"grant\", \"welcom\", \"dubbo\", \"success\", \"figur\", \"super\", \"step\", \"camp\", \"pressur\", \"drink\", \"bring\", \"agricultur\", \"howard\", \"anger\", \"news\", \"closer\", \"research\", \"week\", \"die\", \"scorecentr\", \"mum\", \"spring\", \"dramat\", \"mickelson\", \"boon\", \"row\", \"depend\", \"devil\", \"complac\", \"poppi\", \"wright\", \"superannu\", \"swarm\", \"pioneer\", \"cub\", \"swamp\", \"wayn\", \"extrem\", \"cook\", \"style\", \"mckay\", \"happi\", \"scottsdal\", \"imag\", \"aftershock\", \"whale\", \"father\", \"pool\", \"custodi\", \"corner\", \"australia\", \"china\", \"result\", \"make\", \"sheep\", \"call\", \"train\", \"chees\", \"merger\", \"graincorp\", \"irrig\", \"wild\", \"truck\", \"andrew\", \"live\", \"summer\", \"origin\", \"abus\", \"michael\", \"record\", \"hour\", \"steal\", \"club\", \"pakistan\", \"log\", \"entertain\", \"bodi\", \"assault\", \"delay\", \"storm\", \"rain\", \"weather\", \"wrap\", \"sentenc\", \"test\", \"shaw\", \"cgmmv\", \"coloni\", \"john\", \"canadian\", \"snow\", \"austria\", \"packag\", \"box\", \"septemb\", \"memo\", \"ax\", \"ambit\", \"cole\", \"februari\", \"villa\", \"slice\", \"commerc\", \"guarante\", \"remov\", \"ratepay\", \"playoff\", \"ribbon\", \"intens\", \"tenni\", \"warship\", \"scallop\", \"tap\", \"conman\", \"spin\", \"grandstand\", \"sale\", \"review\", \"speak\", \"elect\", \"win\", \"mayor\", \"polit\", \"rescu\", \"challeng\", \"respons\", \"bushfir\", \"podcast\", \"eltham\", \"brumbi\", \"dog\", \"grape\", \"dump\", \"tweed\", \"loan\", \"jericho\", \"bridg\", \"homeless\", \"push\", \"export\", \"summit\", \"guilti\", \"alert\", \"celebr\", \"drought\", \"break\", \"critic\", \"weather\", \"job\", \"rural\", \"meet\", \"sydney\", \"bangor\", \"forward\", \"tech\", \"slide\", \"policewoman\", \"primari\", \"midwiv\", \"brake\", \"holiday\", \"print\", \"karratha\", \"friend\", \"environment\", \"careflight\", \"profession\", \"voyag\", \"past\", \"reverend\", \"loot\", \"renaiss\", \"zimmerman\", \"redback\", \"metronet\", \"signag\", \"snapper\", \"view\", \"banana\", \"applic\", \"store\", \"radiat\", \"chang\", \"shoot\", \"futur\", \"green\", \"mine\", \"stab\", \"expand\", \"minist\", \"syria\", \"track\", \"drown\", \"peter\", \"drone\", \"worker\", \"vote\", \"ban\", \"submiss\", \"juli\", \"stay\", \"farewel\", \"januari\", \"bull\", \"telstra\", \"wagga\", \"indonesia\", \"cyclon\", \"fluorid\", \"growth\", \"import\", \"tomato\", \"increas\", \"backflip\", \"aussi\", \"closer\", \"test\", \"job\", \"sydney\", \"crop\"], \"Total\": [149794.0, 105126.0, 108840.0, 54878.0, 43570.0, 34996.0, 23918.0, 16868.0, 9436.0, 12226.0, 8010.0, 6776.0, 6522.0, 6022.0, 5761.0, 5316.0, 5065.0, 4927.0, 6695.0, 6971.0, 5970.0, 4517.0, 4502.0, 4440.0, 4238.0, 5922.0, 4166.0, 5607.0, 4080.0, 4219.0, 144.9804659224995, 144.9804659224995, 144.9804659224995, 144.9804659224995, 144.9804659224995, 144.9804659224995, 144.9804659224995, 144.9804659224995, 144.9804659224995, 144.9804659224995, 144.9804659224995, 144.9804659224995, 144.9804659224995, 144.9804659224995, 144.9804659224995, 144.9804659224995, 144.9804659224995, 144.9804659224995, 289.960931844999, 144.9804659224995, 144.9804659224995, 289.960931844999, 144.9804659224995, 144.9804659224995, 289.960931844999, 579.921863689998, 144.9804659224995, 144.9804659224995, 289.960931844999, 144.9804659224995, 3334.5507162174886, 3044.5897843724897, 2464.6679206824915, 2174.7069888374926, 2174.7069888374926, 2029.7265229149932, 2029.7265229149932, 1884.7460569924935, 1739.7655910699941, 1594.7851251474945, 1594.7851251474945, 1594.7851251474945, 1449.8046592249952, 1449.8046592249952, 1449.8046592249952, 1449.8046592249952, 1449.8046592249952, 1304.8241933024956, 1304.8241933024956, 1159.843727379996, 1159.843727379996, 1159.843727379996, 1014.8632614574966, 1014.8632614574966, 1014.8632614574966, 1014.8632614574966, 1014.8632614574966, 1014.8632614574966, 869.8827955349971, 869.8827955349971, 869.8827955349971, 3473.4326245752327, 869.8827955349971, 869.8827955349971, 869.8827955349971, 869.8827955349971, 3602.2854339132305, 108840.42539733992, 1437.7062021240704, 16868.170884693962, 2004.881373352224, 1706.920364067714, 4084.2196712528184, 140.69875148842004, 422.09625446526013, 844.1925089305203, 281.3975029768401, 140.69875148842004, 1125.5900119073603, 140.69875148842004, 281.3975029768401, 140.69875148842004, 140.69875148842004, 140.69875148842004, 1125.5900119073603, 140.69875148842004, 140.69875148842004, 281.3975029768401, 984.8912604189403, 140.69875148842004, 422.09625446526013, 140.69875148842004, 984.8912604189403, 281.3975029768401, 140.69875148842004, 562.7950059536802, 140.69875148842004, 140.69875148842004, 140.69875148842004, 140.69875148842004, 140.69875148842004, 140.69875148842004, 140.69875148842004, 23918.787753031407, 5065.155053583121, 4502.360047629441, 4080.263793164181, 3517.468787210501, 3236.0712842336607, 2813.975029768401, 2532.5775267915606, 2251.1800238147207, 1969.7825208378806, 1969.7825208378806, 1969.7825208378806, 1829.0837693494607, 1829.0837693494607, 1829.0837693494607, 1547.6862663726206, 1547.6862663726206, 1406.9875148842004, 1406.9875148842004, 1406.9875148842004, 1266.2887633957803, 1266.2887633957803, 1266.2887633957803, 1125.5900119073603, 1125.5900119073603, 844.1925089305203, 844.1925089305203, 4219.032971695989, 2671.4594351493047, 2389.9492023465277, 3071.9223047447053, 2686.121421582219, 5452.97976039551, 1551.9679808066999, 1825.224623436235, 54878.066993991524, 6695.40109126253, 138.88190835774404, 138.88190835774404, 416.64572507323214, 972.1733585042083, 138.88190835774404, 138.88190835774404, 138.88190835774404, 555.5276334309762, 277.7638167154881, 138.88190835774404, 972.1733585042083, 138.88190835774404, 138.88190835774404, 277.7638167154881, 1111.0552668619523, 138.88190835774404, 138.88190835774404, 138.88190835774404, 277.7638167154881, 138.88190835774404, 138.88190835774404, 138.88190835774404, 1111.0552668619523, 833.2914501464643, 138.88190835774404, 138.88190835774404, 138.88190835774404, 138.88190835774404, 416.64572507323214, 138.88190835774404, 4166.457250732322, 3888.693434016833, 3749.8115256590895, 3472.0477089436013, 3333.165800585857, 3194.2838922281135, 2360.9924420816487, 2360.9924420816487, 1944.3467170084166, 1944.3467170084166, 1527.7009919351844, 1527.7009919351844, 1249.9371752196964, 1249.9371752196964, 1111.0552668619523, 1111.0552668619523, 1111.0552668619523, 1111.0552668619523, 1111.0552668619523, 972.1733585042083, 972.1733585042083, 972.1733585042083, 833.2914501464643, 833.2914501464643, 833.2914501464643, 833.2914501464643, 34996.77541841432, 833.2914501464643, 833.2914501464643, 833.2914501464643, 2358.442686845973, 2076.8011996874325, 5970.907490949562, 1672.6814578576839, 1525.1512366995094, 6695.40109126253, 1931.9193917935193, 2081.3993371066676, 2234.406306882002, 5922.010205643646, 149794.1571810595, 108840.42539733992, 4052.988422801582, 140.53522309264795, 281.0704461852959, 562.1408923705918, 140.53522309264795, 281.0704461852959, 140.53522309264795, 140.53522309264795, 421.60566927794383, 281.0704461852959, 140.53522309264795, 140.53522309264795, 1264.8170078338317, 281.0704461852959, 421.60566927794383, 140.53522309264795, 140.53522309264795, 140.53522309264795, 562.1408923705918, 140.53522309264795, 843.2113385558877, 140.53522309264795, 140.53522309264795, 140.53522309264795, 983.7465616485358, 983.7465616485358, 1826.9579002044236, 140.53522309264795, 421.60566927794383, 281.0704461852959, 140.53522309264795, 8010.507716280933, 5761.944146798566, 3653.915800408847, 2951.2396849456068, 2108.0283463897194, 1967.4931232970716, 1967.4931232970716, 1826.9579002044236, 1826.9579002044236, 1826.9579002044236, 1686.4226771117753, 1686.4226771117753, 1545.8874540191275, 1545.8874540191275, 1405.3522309264797, 1405.3522309264797, 1405.3522309264797, 1264.8170078338317, 1124.2817847411836, 983.7465616485358, 983.7465616485358, 983.7465616485358, 843.2113385558877, 843.2113385558877, 843.2113385558877, 843.2113385558877, 2949.4736403847664, 3083.368768097097, 6971.026181302925, 4242.970322617821, 105126.43451552177, 3045.8556224118165, 4052.988422801582, 2890.013970777022, 1256.7362674201995, 3750.3210124841644, 12226.513512935404, 132.88200882157486, 132.88200882157486, 132.88200882157486, 132.88200882157486, 265.7640176431497, 132.88200882157486, 265.7640176431497, 132.88200882157486, 265.7640176431497, 132.88200882157486, 132.88200882157486, 132.88200882157486, 132.88200882157486, 398.64602646472457, 132.88200882157486, 2258.994149966773, 132.88200882157486, 797.2920529294491, 531.5280352862994, 132.88200882157486, 132.88200882157486, 265.7640176431497, 132.88200882157486, 132.88200882157486, 531.5280352862994, 265.7640176431497, 132.88200882157486, 930.174061751024, 132.88200882157486, 132.88200882157486, 6776.982449900318, 3322.050220539372, 3189.1682117177966, 3189.1682117177966, 3189.1682117177966, 2524.7581676099226, 2258.994149966773, 2258.994149966773, 2126.1121411451977, 1993.2301323236231, 1860.348123502048, 1727.4661146804733, 1594.5841058588983, 1594.5841058588983, 1594.5841058588983, 1461.7020970373235, 1461.7020970373235, 1461.7020970373235, 1461.7020970373235, 1195.9380793941737, 1063.0560705725989, 1063.0560705725989, 930.174061751024, 930.174061751024, 930.174061751024, 930.174061751024, 797.2920529294491, 797.2920529294491, 3857.581681212266, 797.2920529294491, 54878.066993991524, 16868.170884693962, 1602.4008485257436, 2423.1431294557283, 1604.9345387603798, 1340.8198872880869, 1881.6411136969016, 43570.37130312799, 137.14060686054557, 548.5624274421823, 137.14060686054557, 137.14060686054557, 274.28121372109115, 137.14060686054557, 137.14060686054557, 137.14060686054557, 411.4218205816368, 137.14060686054557, 822.8436411632736, 137.14060686054557, 137.14060686054557, 137.14060686054557, 137.14060686054557, 2468.5309234898205, 137.14060686054557, 411.4218205816368, 137.14060686054557, 137.14060686054557, 137.14060686054557, 548.5624274421823, 137.14060686054557, 411.4218205816368, 411.4218205816368, 137.14060686054557, 137.14060686054557, 1097.1248548843646, 411.4218205816368, 411.4218205816368, 2879.9527440714573, 2605.671530350366, 2331.3903166292753, 2331.3903166292753, 1782.8278891870925, 1782.8278891870925, 1782.8278891870925, 1782.8278891870925, 1508.5466754660015, 1371.4060686054559, 1371.4060686054559, 1234.2654617449102, 1234.2654617449102, 1097.1248548843646, 959.9842480238192, 959.9842480238192, 959.9842480238192, 959.9842480238192, 822.8436411632736, 822.8436411632736, 822.8436411632736, 822.8436411632736, 685.7030343027279, 685.7030343027279, 685.7030343027279, 685.7030343027279, 685.7030343027279, 685.7030343027279, 685.7030343027279, 685.7030343027279, 3018.8346524292015, 685.7030343027279, 105126.43451552177, 3821.1924953691573, 1510.2879769632, 2464.488654797436, 2341.838125612466, 2986.7206467355136, 3750.3210124841644, 4084.2196712528184, 3835.8542296572696, 54878.066993991524, 1628.6840870976266, 1394.9256457913177, 545.328612488275, 136.33215312206875, 408.9964593662062, 817.9929187324124, 408.9964593662062, 136.33215312206875, 136.33215312206875, 817.9929187324124, 136.33215312206875, 136.33215312206875, 136.33215312206875, 136.33215312206875, 136.33215312206875, 136.33215312206875, 2044.9822968310311, 272.6643062441375, 1499.6536843427562, 136.33215312206875, 272.6643062441375, 681.6607656103436, 136.33215312206875, 408.9964593662062, 136.33215312206875, 272.6643062441375, 1090.65722497655, 136.33215312206875, 136.33215312206875, 1363.3215312206871, 272.6643062441375, 272.6643062441375, 5316.95397176068, 3408.303828051718, 2862.9752155634433, 2590.3109093193057, 2181.3144499531, 1772.3179905868933, 1772.3179905868933, 1772.3179905868933, 1772.3179905868933, 1499.6536843427562, 1499.6536843427562, 1363.3215312206871, 1226.9893780986185, 1226.9893780986185, 1226.9893780986185, 1090.65722497655, 1090.65722497655, 954.325071854481, 954.325071854481, 954.325071854481, 954.325071854481, 954.325071854481, 954.325071854481, 954.325071854481, 817.9929187324124, 817.9929187324124, 817.9929187324124, 817.9929187324124, 817.9929187324124, 12226.513512935404, 149794.1571810595, 1900.8948028228563, 2198.1267298354164, 6971.026181302925, 1505.7397762898715, 136.88543420817015, 821.312605249021, 136.88543420817015, 136.88543420817015, 136.88543420817015, 136.88543420817015, 136.88543420817015, 273.7708684163403, 136.88543420817015, 547.5417368326806, 410.6563026245105, 136.88543420817015, 136.88543420817015, 547.5417368326806, 136.88543420817015, 273.7708684163403, 136.88543420817015, 136.88543420817015, 958.1980394571912, 273.7708684163403, 136.88543420817015, 547.5417368326806, 136.88543420817015, 136.88543420817015, 136.88543420817015, 1642.625210498042, 410.6563026245105, 410.6563026245105, 410.6563026245105, 6022.959105159486, 4927.875631494125, 4517.219328869615, 2463.9378157470624, 1642.625210498042, 1642.625210498042, 1505.7397762898715, 1505.7397762898715, 1231.9689078735312, 1231.9689078735312, 1095.0834736653612, 1095.0834736653612, 1095.0834736653612, 1095.0834736653612, 958.1980394571912, 958.1980394571912, 958.1980394571912, 958.1980394571912, 958.1980394571912, 821.312605249021, 821.312605249021, 821.312605249021, 821.312605249021, 821.312605249021, 821.312605249021, 684.4271710408508, 43570.37130312799, 3280.819469466929, 2455.075912688754, 2057.2744614217, 1920.4876852421162, 5922.010205643646, 108840.42539733992, 3835.8542296572696, 1947.6696435994968, 4423.505883875493, 2081.5376779771077, 277.5383570636144, 138.7691785318072, 1665.2301423816864, 555.0767141272288, 555.0767141272288, 138.7691785318072, 555.0767141272288, 138.7691785318072, 1526.4609638498794, 138.7691785318072, 138.7691785318072, 138.7691785318072, 555.0767141272288, 555.0767141272288, 138.7691785318072, 138.7691785318072, 138.7691785318072, 138.7691785318072, 277.5383570636144, 138.7691785318072, 138.7691785318072, 277.5383570636144, 138.7691785318072, 138.7691785318072, 138.7691785318072, 555.0767141272288, 138.7691785318072, 138.7691785318072, 138.7691785318072, 9436.304140162889, 6522.151390994938, 4440.61371301783, 3052.9219276997587, 3052.9219276997587, 2497.8452135725297, 2220.306856508915, 1803.9993209134934, 1803.9993209134934, 1803.9993209134934, 1665.2301423816864, 1526.4609638498794, 1526.4609638498794, 1387.691785318072, 1387.691785318072, 1387.691785318072, 1387.691785318072, 1248.9226067862649, 1248.9226067862649, 1248.9226067862649, 1110.1534282544576, 1110.1534282544576, 1110.1534282544576, 1110.1534282544576, 1110.1534282544576, 971.3842497226505, 971.3842497226505, 971.3842497226505, 971.3842497226505, 4021.8691520126704, 971.3842497226505, 2501.704359485755, 108840.42539733992, 5607.445273717807, 34996.77541841432, 5970.907490949562, 2169.789289686584, 132.4544826790158, 264.9089653580316, 132.4544826790158, 132.4544826790158, 132.4544826790158, 132.4544826790158, 132.4544826790158, 132.4544826790158, 132.4544826790158, 397.3634480370474, 397.3634480370474, 397.3634480370474, 264.9089653580316, 132.4544826790158, 132.4544826790158, 264.9089653580316, 132.4544826790158, 132.4544826790158, 132.4544826790158, 132.4544826790158, 132.4544826790158, 662.2724133950791, 132.4544826790158, 132.4544826790158, 132.4544826790158, 264.9089653580316, 1059.6358614321264, 132.4544826790158, 132.4544826790158, 132.4544826790158, 4238.5434457285055, 3841.179997691458, 3841.179997691458, 2251.726205543269, 2251.726205543269, 1986.817240185237, 1854.3627575062212, 1854.3627575062212, 1589.4537921481897, 1456.9993094691738, 1456.9993094691738, 1192.0903441111423, 1192.0903441111423, 1192.0903441111423, 1192.0903441111423, 1059.6358614321264, 1059.6358614321264, 1059.6358614321264, 1059.6358614321264, 927.1813787531106, 927.1813787531106, 927.1813787531106, 927.1813787531106, 927.1813787531106, 794.7268960740948, 794.7268960740948, 794.7268960740948, 794.7268960740948, 794.7268960740948, 794.7268960740948, 794.7268960740948, 794.7268960740948, 1990.69491062829, 149794.1571810595, 4423.505883875493, 5607.445273717807, 2169.789289686584, 2986.7206467355136], \"loglift\": [30.0, 29.0, 28.0, 27.0, 26.0, 25.0, 24.0, 23.0, 22.0, 21.0, 20.0, 19.0, 18.0, 17.0, 16.0, 15.0, 14.0, 13.0, 12.0, 11.0, 10.0, 9.0, 8.0, 7.0, 6.0, 5.0, 4.0, 3.0, 2.0, 1.0, 2.2979, 2.2979, 2.2979, 2.2979, 2.2979, 2.2979, 2.2979, 2.2979, 2.2979, 2.2979, 2.2979, 2.2979, 2.2979, 2.2979, 2.2979, 2.2979, 2.2979, 2.2979, 2.2979, 2.2979, 2.2979, 2.2979, 2.2979, 2.2979, 2.2979, 2.2979, 2.2979, 2.2979, 2.2979, 2.2979, 2.2979, 2.2979, 2.2979, 2.2979, 2.2979, 2.2979, 2.2979, 2.2979, 2.2979, 2.2979, 2.2979, 2.2979, 2.2979, 2.2979, 2.2979, 2.2979, 2.2979, 2.2979, 2.2979, 2.2979, 2.2979, 2.2979, 2.2979, 2.2979, 2.2979, 2.2979, 2.2979, 2.2979, 2.2979, 2.2979, 2.2979, 2.2571, 2.2979, 2.2979, 2.2979, 2.2979, 2.0809, 1.3398, 2.2009, 1.3025, 1.9738, 2.0293, 1.5246, 2.2982, 2.2982, 2.2982, 2.2982, 2.2982, 2.2982, 2.2982, 2.2982, 2.2982, 2.2982, 2.2982, 2.2982, 2.2982, 2.2982, 2.2982, 2.2982, 2.2982, 2.2982, 2.2982, 2.2982, 2.2982, 2.2982, 2.2982, 2.2982, 2.2982, 2.2982, 2.2982, 2.2982, 2.2982, 2.2982, 2.2982, 2.2982, 2.2982, 2.2982, 2.2982, 2.2982, 2.2982, 2.2982, 2.2982, 2.2982, 2.2982, 2.2982, 2.2982, 2.2982, 2.2982, 2.2982, 2.2982, 2.2982, 2.2982, 2.2982, 2.2982, 2.2982, 2.2982, 2.2982, 2.2982, 2.2982, 2.2982, 2.2647, 2.2448, 2.2384, 2.1592, 2.1215, 1.8189, 2.2001, 2.1332, 0.4095, 1.2082, 2.3006, 2.3006, 2.3006, 2.3006, 2.3006, 2.3006, 2.3006, 2.3006, 2.3006, 2.3006, 2.3006, 2.3006, 2.3006, 2.3006, 2.3006, 2.3006, 2.3006, 2.3006, 2.3006, 2.3006, 2.3006, 2.3006, 2.3006, 2.3006, 2.3006, 2.3006, 2.3006, 2.3006, 2.3006, 2.3006, 2.3006, 2.3006, 2.3006, 2.3006, 2.3006, 2.3006, 2.3006, 2.3006, 2.3006, 2.3006, 2.3006, 2.3006, 2.3006, 2.3006, 2.3006, 2.3006, 2.3006, 2.3006, 2.3006, 2.3006, 2.3006, 2.3006, 2.3006, 2.3006, 2.3006, 2.3006, 2.2477, 2.3006, 2.3006, 2.3006, 2.2411, 2.2347, 2.066, 2.21, 2.207, 1.8908, 2.1529, 2.0784, 2.0074, 1.4382, -0.3389, -1.4189, 1.1243, 2.3025, 2.3025, 2.3025, 2.3025, 2.3025, 2.3025, 2.3025, 2.3025, 2.3025, 2.3025, 2.3025, 2.3025, 2.3025, 2.3025, 2.3025, 2.3025, 2.3025, 2.3025, 2.3025, 2.3025, 2.3025, 2.3025, 2.3025, 2.3025, 2.3025, 2.3025, 2.3025, 2.3025, 2.3025, 2.3025, 2.3025, 2.3025, 2.3025, 2.3025, 2.3025, 2.3025, 2.3025, 2.3025, 2.3025, 2.3025, 2.3025, 2.3025, 2.3025, 2.3025, 2.3025, 2.3025, 2.3025, 2.3025, 2.3025, 2.3025, 2.3025, 2.3025, 2.3025, 2.3025, 2.3025, 2.3025, 2.2543, 2.2099, 1.9538, 1.9859, 1.2647, 1.999, 1.8852, 1.8439, 2.1911, 1.6574, 0.7269, 2.3026, 2.3026, 2.3026, 2.3026, 2.3026, 2.3026, 2.3026, 2.3026, 2.3026, 2.3026, 2.3026, 2.3026, 2.3026, 2.3026, 2.3026, 2.3026, 2.3026, 2.3026, 2.3026, 2.3026, 2.3026, 2.3026, 2.3026, 2.3026, 2.3026, 2.3026, 2.3026, 2.3026, 2.3026, 2.3026, 2.3026, 2.3026, 2.3026, 2.3026, 2.3026, 2.3026, 2.3026, 2.3026, 2.3026, 2.3026, 2.3026, 2.3026, 2.3026, 2.3026, 2.3026, 2.3026, 2.3026, 2.3026, 2.3026, 2.3026, 2.3026, 2.3026, 2.3026, 2.3026, 2.3026, 2.3026, 2.3026, 2.3026, 2.2664, 2.3026, 2.0903, 1.8283, 2.2107, 2.0383, 2.0084, 2.0704, 1.8493, -0.3121, 2.3028, 2.3028, 2.3028, 2.3028, 2.3028, 2.3028, 2.3028, 2.3028, 2.3028, 2.3028, 2.3028, 2.3028, 2.3028, 2.3028, 2.3028, 2.3028, 2.3028, 2.3028, 2.3028, 2.3028, 2.3028, 2.3028, 2.3028, 2.3028, 2.3028, 2.3028, 2.3028, 2.3028, 2.3028, 2.3028, 2.3028, 2.3028, 2.3028, 2.3028, 2.3028, 2.3028, 2.3028, 2.3028, 2.3028, 2.3028, 2.3028, 2.3028, 2.3028, 2.3028, 2.3028, 2.3028, 2.3028, 2.3028, 2.3028, 2.3028, 2.3028, 2.3028, 2.3028, 2.3028, 2.3028, 2.3028, 2.3028, 2.3028, 2.3028, 2.3028, 2.2557, 2.3028, 1.8655, 2.1536, 2.2064, 1.979, 1.863, 1.7068, 1.5592, 1.4739, 1.4566, -0.9164, 1.7742, 1.9292, 2.3039, 2.3039, 2.3039, 2.3039, 2.3039, 2.3039, 2.3039, 2.3039, 2.3039, 2.3039, 2.3039, 2.3039, 2.3039, 2.3039, 2.3039, 2.3039, 2.3039, 2.3039, 2.3039, 2.3039, 2.3039, 2.3039, 2.3039, 2.3039, 2.3039, 2.3039, 2.3039, 2.3039, 2.3039, 2.3039, 2.3039, 2.3039, 2.3039, 2.3039, 2.3039, 2.3039, 2.3039, 2.3039, 2.3039, 2.3039, 2.3039, 2.3039, 2.3039, 2.3039, 2.3039, 2.3039, 2.3039, 2.3039, 2.3039, 2.3039, 2.3039, 2.3039, 2.3039, 2.3039, 2.3039, 2.3039, 2.3039, 2.3039, 2.3039, 2.0417, 1.4112, 2.1538, 2.0085, 0.8544, 2.3041, 2.3041, 2.3041, 2.3041, 2.3041, 2.3041, 2.3041, 2.3041, 2.3041, 2.3041, 2.3041, 2.3041, 2.3041, 2.3041, 2.3041, 2.3041, 2.3041, 2.3041, 2.3041, 2.3041, 2.3041, 2.3041, 2.3041, 2.3041, 2.3041, 2.3041, 2.3041, 2.3041, 2.3041, 2.3041, 2.3041, 2.3041, 2.3041, 2.3041, 2.3041, 2.3041, 2.3041, 2.3041, 2.3041, 2.3041, 2.3041, 2.3041, 2.3041, 2.3041, 2.3041, 2.3041, 2.3041, 2.3041, 2.3041, 2.3041, 2.3041, 2.3041, 2.3041, 2.3041, 2.3041, 2.3041, 2.2281, 2.2629, 2.1899, 2.159, 2.1478, 1.7557, 0.8726, 1.7437, 1.7283, 1.0258, 2.3058, 2.3058, 2.3058, 2.3058, 2.3058, 2.3058, 2.3058, 2.3058, 2.3058, 2.3058, 2.3058, 2.3058, 2.3058, 2.3058, 2.3058, 2.3058, 2.3058, 2.3058, 2.3058, 2.3058, 2.3058, 2.3058, 2.3058, 2.3058, 2.3058, 2.3058, 2.3058, 2.3058, 2.3058, 2.3058, 2.3058, 2.3058, 2.3058, 2.3058, 2.3058, 2.3058, 2.3058, 2.3058, 2.3058, 2.3058, 2.3058, 2.3058, 2.3058, 2.3058, 2.3058, 2.3058, 2.3058, 2.3058, 2.3058, 2.3058, 2.3058, 2.3058, 2.3058, 2.3058, 2.3058, 2.3058, 2.3058, 2.3058, 2.3058, 2.2713, 2.3058, 2.1865, 1.265, 1.9389, -0.6595, 0.7412, 1.6356, 2.3076, 2.3076, 2.3076, 2.3076, 2.3076, 2.3076, 2.3076, 2.3076, 2.3076, 2.3076, 2.3076, 2.3076, 2.3076, 2.3076, 2.3076, 2.3076, 2.3076, 2.3076, 2.3076, 2.3076, 2.3076, 2.3076, 2.3076, 2.3076, 2.3076, 2.3076, 2.3076, 2.3076, 2.3076, 2.3076, 2.3076, 2.3076, 2.3076, 2.3076, 2.3076, 2.3076, 2.3076, 2.3076, 2.3076, 2.3076, 2.3076, 2.3076, 2.3076, 2.3076, 2.3076, 2.3076, 2.3076, 2.3076, 2.3076, 2.3076, 2.3076, 2.3076, 2.3076, 2.3076, 2.3076, 2.3076, 2.3076, 2.3076, 2.3076, 2.3076, 2.3076, 2.3076, 2.2366, 1.6518, 1.8901, 1.1269, 1.5908, 1.2713], \"logprob\": [30.0, 29.0, 28.0, 27.0, 26.0, 25.0, 24.0, 23.0, 22.0, 21.0, 20.0, 19.0, 18.0, 17.0, 16.0, 15.0, 14.0, 13.0, 12.0, 11.0, 10.0, 9.0, 8.0, 7.0, 6.0, 5.0, 4.0, 3.0, 2.0, 1.0, -7.3512, -7.3512, -7.3512, -7.3512, -7.3512, -7.3512, -7.3512, -7.3512, -7.3512, -7.3512, -7.3512, -7.3512, -7.3512, -7.3512, -7.3512, -7.3512, -7.3512, -7.3512, -6.658, -7.3512, -7.3512, -6.658, -7.3512, -7.3512, -6.658, -5.9649, -7.3512, -7.3512, -6.658, -7.3512, -4.2157, -4.3066, -4.5179, -4.6431, -4.6431, -4.7121, -4.7121, -4.7862, -4.8663, -4.9533, -4.9533, -4.9533, -5.0486, -5.0486, -5.0486, -5.0486, -5.0486, -5.1539, -5.1539, -5.2717, -5.2717, -5.2717, -5.4052, -5.4052, -5.4052, -5.4052, -5.4052, -5.4052, -5.5594, -5.5594, -5.5594, -4.2157, -5.5594, -5.5594, -5.5594, -5.5594, -4.3554, -1.6882, -5.1539, -3.59, -5.0486, -5.1539, -4.7862, -7.3809, -6.2823, -5.5891, -6.6877, -7.3809, -5.3014, -7.3809, -6.6877, -7.3809, -7.3809, -7.3809, -5.3014, -7.3809, -7.3809, -6.6877, -5.435, -7.3809, -6.2823, -7.3809, -5.435, -6.6877, -7.3809, -5.9946, -7.3809, -7.3809, -7.3809, -7.3809, -7.3809, -7.3809, -7.3809, -2.2451, -3.7974, -3.9151, -4.0136, -4.162, -4.2454, -4.3851, -4.4905, -4.6083, -4.7418, -4.7418, -4.7418, -4.8159, -4.8159, -4.8159, -4.983, -4.983, -5.0783, -5.0783, -5.0783, -5.1837, -5.1837, -5.1837, -5.3014, -5.3014, -5.5891, -5.5891, -4.0136, -4.4905, -4.6083, -4.4364, -4.6083, -4.2028, -5.0783, -4.983, -3.3033, -4.6083, -7.3914, -7.3914, -6.2928, -5.4455, -7.3914, -7.3914, -7.3914, -6.0051, -6.6983, -7.3914, -5.4455, -7.3914, -7.3914, -6.6983, -5.312, -7.3914, -7.3914, -7.3914, -6.6983, -7.3914, -7.3914, -7.3914, -5.312, -5.5997, -7.3914, -7.3914, -7.3914, -7.3914, -6.2928, -7.3914, -3.9902, -4.0592, -4.0956, -4.1725, -4.2134, -4.2559, -4.5582, -4.5582, -4.7524, -4.7524, -4.9935, -4.9935, -5.1942, -5.1942, -5.312, -5.312, -5.312, -5.312, -5.312, -5.4455, -5.4455, -5.4455, -5.5997, -5.5997, -5.5997, -5.5997, -1.915, -5.5997, -5.5997, -5.5997, -4.6188, -4.7524, -3.8651, -4.9935, -5.0888, -3.9257, -4.9065, -4.9065, -4.9065, -4.501, -3.0476, -4.447, -5.1942, -7.3778, -6.6846, -5.9915, -7.3778, -6.6846, -7.3778, -7.3778, -6.2791, -6.6846, -7.3778, -7.3778, -5.1805, -6.6846, -6.2791, -7.3778, -7.3778, -7.3778, -5.9915, -7.3778, -5.586, -7.3778, -7.3778, -7.3778, -5.4318, -5.4318, -4.8128, -7.3778, -6.2791, -6.6846, -7.3778, -3.3347, -3.6642, -4.1197, -4.3332, -4.6697, -4.7387, -4.7387, -4.8128, -4.8128, -4.8128, -4.8929, -4.8929, -4.9799, -4.9799, -5.0752, -5.0752, -5.0752, -5.1805, -5.2983, -5.4318, -5.4318, -5.4318, -5.586, -5.586, -5.586, -5.586, -4.382, -4.382, -3.8224, -4.2867, -1.798, -4.6052, -4.4333, -4.8128, -5.2983, -4.7387, -4.4874, -7.4337, -7.4337, -7.4337, -7.4337, -6.7405, -7.4337, -6.7405, -7.4337, -6.7405, -7.4337, -7.4337, -7.4337, -7.4337, -6.3351, -7.4337, -4.6005, -7.4337, -5.6419, -6.0474, -7.4337, -7.4337, -6.7405, -7.4337, -7.4337, -6.0474, -6.7405, -7.4337, -5.4878, -7.4337, -7.4337, -3.5018, -4.2148, -4.2556, -4.2556, -4.2556, -4.4892, -4.6005, -4.6005, -4.6611, -4.7256, -4.7946, -4.8687, -4.9488, -4.9488, -4.9488, -5.0358, -5.0358, -5.0358, -5.0358, -5.2364, -5.3542, -5.3542, -5.4878, -5.4878, -5.4878, -5.4878, -5.6419, -5.6419, -4.1015, -5.6419, -1.6225, -3.0642, -5.0358, -4.7946, -5.2364, -5.3542, -5.2364, -4.2556, -7.4018, -6.0155, -7.4018, -7.4018, -6.7087, -7.4018, -7.4018, -7.4018, -6.3032, -7.4018, -5.6101, -7.4018, -7.4018, -7.4018, -7.4018, -4.5115, -7.4018, -6.3032, -7.4018, -7.4018, -7.4018, -6.0155, -7.4018, -6.3032, -6.3032, -7.4018, -7.4018, -5.3224, -6.3032, -6.3032, -4.3573, -4.4574, -4.5686, -4.5686, -4.8369, -4.8369, -4.8369, -4.8369, -5.0039, -5.0993, -5.0993, -5.2046, -5.2046, -5.3224, -5.4559, -5.4559, -5.4559, -5.4559, -5.6101, -5.6101, -5.6101, -5.6101, -5.7924, -5.7924, -5.7924, -5.7924, -5.7924, -5.7924, -5.7924, -5.7924, -4.3573, -5.7924, -1.1973, -4.2238, -5.0993, -4.8369, -5.0039, -4.9169, -4.8369, -4.8369, -4.9169, -4.6293, -5.4559, -5.4559, -6.0204, -7.4067, -6.3081, -5.615, -6.3081, -7.4067, -7.4067, -5.615, -7.4067, -7.4067, -7.4067, -7.4067, -7.4067, -7.4067, -4.6987, -6.7136, -5.0088, -7.4067, -6.7136, -5.7973, -7.4067, -6.3081, -7.4067, -6.7136, -5.3273, -7.4067, -7.4067, -5.1041, -6.7136, -6.7136, -3.7431, -4.1878, -4.3622, -4.4623, -4.6341, -4.8418, -4.8418, -4.8418, -4.8418, -5.0088, -5.0088, -5.1041, -5.2095, -5.2095, -5.2095, -5.3273, -5.3273, -5.4608, -5.4608, -5.4608, -5.4608, -5.4608, -5.4608, -5.4608, -5.615, -5.615, -5.615, -5.615, -5.615, -3.1726, -1.2975, -4.9218, -4.9218, -4.9218, -5.0046, -7.4025, -5.6107, -7.4025, -7.4025, -7.4025, -7.4025, -7.4025, -6.7093, -7.4025, -6.0162, -6.3038, -7.4025, -7.4025, -6.0162, -7.4025, -6.7093, -7.4025, -7.4025, -5.4565, -6.7093, -7.4025, -6.0162, -7.4025, -7.4025, -7.4025, -4.9175, -6.3038, -6.3038, -6.3038, -3.6183, -3.8189, -3.9059, -4.5121, -4.9175, -4.9175, -5.0046, -5.0046, -5.2052, -5.2052, -5.323, -5.323, -5.323, -5.323, -5.4565, -5.4565, -5.4565, -5.4565, -5.4565, -5.6107, -5.6107, -5.6107, -5.6107, -5.6107, -5.6107, -5.793, -1.7155, -4.267, -4.6299, -4.8375, -4.9175, -4.1836, -2.1554, -4.6299, -5.323, -5.2052, -4.679, -6.6939, -7.3871, -4.9022, -6.0008, -6.0008, -7.3871, -6.0008, -7.3871, -4.9892, -7.3871, -7.3871, -7.3871, -6.0008, -6.0008, -7.3871, -7.3871, -7.3871, -7.3871, -6.6939, -7.3871, -7.3871, -6.6939, -7.3871, -7.3871, -7.3871, -6.0008, -7.3871, -7.3871, -7.3871, -3.1676, -3.5369, -3.9214, -4.296, -4.296, -4.4967, -4.6145, -4.8221, -4.8221, -4.8221, -4.9022, -4.9892, -4.9892, -5.0845, -5.0845, -5.0845, -5.0845, -5.1899, -5.1899, -5.1899, -5.3076, -5.3076, -5.3076, -5.3076, -5.3076, -5.4412, -5.4412, -5.4412, -5.4412, -4.0549, -5.4412, -4.6145, -1.7631, -4.0549, -4.8221, -5.1899, -5.3076, -7.4319, -6.7387, -7.4319, -7.4319, -7.4319, -7.4319, -7.4319, -7.4319, -7.4319, -6.3333, -6.3333, -6.3333, -6.7387, -7.4319, -7.4319, -6.7387, -7.4319, -7.4319, -7.4319, -7.4319, -7.4319, -5.8225, -7.4319, -7.4319, -7.4319, -6.7387, -5.3525, -7.4319, -7.4319, -7.4319, -3.9662, -4.0646, -4.0646, -4.5987, -4.5987, -4.7238, -4.7928, -4.7928, -4.947, -5.034, -5.034, -5.2347, -5.2347, -5.2347, -5.2347, -5.3525, -5.3525, -5.3525, -5.3525, -5.486, -5.486, -5.486, -5.486, -5.486, -5.6401, -5.6401, -5.6401, -5.6401, -5.6401, -5.6401, -5.6401, -5.6401, -4.7928, -1.0569, -4.3408, -4.8669, -5.3525, -5.3525]}, \"token.table\": {\"Topic\": [3, 8, 3, 1, 2, 8, 7, 9, 9, 5, 8, 7, 4, 1, 3, 7, 6, 10, 6, 1, 3, 7, 5, 3, 5, 6, 6, 8, 10, 3, 6, 5, 7, 10, 8, 7, 9, 2, 9, 10, 7, 5, 2, 3, 10, 10, 10, 1, 6, 3, 4, 1, 5, 6, 5, 4, 2, 3, 5, 4, 1, 3, 1, 4, 5, 5, 1, 1, 8, 10, 8, 3, 9, 10, 9, 3, 9, 7, 6, 9, 2, 3, 10, 1, 7, 9, 4, 2, 3, 2, 3, 8, 3, 7, 6, 9, 6, 3, 1, 3, 5, 10, 1, 9, 9, 3, 9, 9, 10, 7, 7, 7, 8, 7, 8, 2, 2, 4, 1, 5, 6, 1, 4, 7, 3, 7, 10, 5, 8, 1, 6, 2, 9, 1, 9, 9, 7, 7, 8, 7, 4, 4, 2, 9, 6, 6, 3, 8, 4, 8, 5, 1, 6, 3, 1, 5, 7, 5, 2, 2, 3, 3, 2, 9, 2, 6, 10, 8, 1, 8, 3, 4, 5, 10, 4, 5, 4, 2, 4, 1, 4, 1, 7, 2, 1, 5, 7, 1, 7, 2, 1, 4, 6, 3, 8, 8, 4, 6, 2, 2, 8, 4, 7, 9, 6, 7, 9, 1, 5, 8, 4, 7, 4, 10, 7, 9, 10, 5, 6, 7, 9, 2, 6, 2, 9, 9, 2, 2, 5, 6, 5, 8, 10, 6, 1, 2, 10, 6, 3, 9, 2, 8, 4, 6, 5, 3, 7, 1, 7, 10, 4, 9, 3, 1, 3, 6, 8, 1, 3, 10, 9, 2, 1, 2, 7, 4, 10, 1, 1, 7, 3, 2, 7, 3, 10, 4, 2, 5, 10, 6, 7, 2, 10, 7, 4, 5, 10, 5, 1, 4, 7, 7, 6, 7, 8, 9, 7, 9, 10, 1, 6, 4, 10, 9, 9, 7, 1, 8, 5, 1, 7, 6, 2, 3, 1, 5, 6, 10, 9, 3, 2, 9, 2, 8, 5, 8, 7, 2, 8, 10, 4, 10, 3, 10, 5, 5, 1, 3, 6, 6, 7, 9, 6, 2, 5, 6, 3, 5, 5, 8, 7, 3, 4, 6, 10, 1, 4, 9, 9, 10, 9, 10, 5, 2, 10, 2, 6, 4, 2, 9, 1, 6, 2, 5, 7, 2, 4, 2, 7, 5, 3, 4, 6, 8, 9, 1, 8, 10, 1, 5, 5, 5, 4, 8, 1, 7, 2, 3, 4, 7, 4, 6, 4, 9, 4, 8, 6, 2, 6, 3, 9, 3, 6, 9, 2, 5, 4, 8, 6, 10, 8, 8, 10, 2, 3, 6, 10, 1, 10, 10, 5, 1, 8, 7, 3, 1, 1, 1, 4, 7, 2, 9, 4, 1, 5, 5, 4, 7, 8, 2, 2, 9, 8, 1, 2, 10, 6, 2, 3, 6, 5, 1, 10, 6, 8, 1, 7, 1, 1, 2, 9, 9, 5, 3, 2, 10, 9, 4, 8, 8, 3, 6, 4, 5, 2, 7, 2, 5, 6, 7, 10, 10, 7, 10, 6, 3, 7, 6, 3, 3, 9, 4, 5, 5, 7, 4, 3, 5, 10, 10, 3, 3, 8, 6, 4, 7, 4, 4, 2, 9, 2, 3, 4, 8, 8, 10, 6, 6, 2, 6, 3, 3, 9, 10, 4, 2, 6, 3, 9, 7, 10, 4, 7, 9, 3, 8, 1, 3, 1, 10, 9, 9, 3, 5, 2, 1, 4, 2, 7, 5, 6, 6, 4, 1, 6, 8, 3, 3, 9, 4, 1, 2, 9, 5, 3, 9, 5, 3, 8, 4, 8, 5, 1, 4, 6, 1, 6, 1, 7, 8, 9, 7, 5, 9, 3, 8, 3, 10, 5, 4, 5, 7, 10, 4, 1, 9, 10, 1, 4, 3, 7, 10, 9, 3, 5, 9, 9, 4, 6, 8, 10, 3, 5, 1, 6, 1, 5, 1, 3, 10, 8, 7, 10, 4, 3, 1, 5, 8, 3, 1, 5, 3, 8, 10, 7, 8, 9, 7, 8, 1, 3, 8, 8, 9, 10, 10, 2, 2, 9, 4, 2, 5, 10, 3, 10, 9, 6, 8, 9, 10, 3, 2, 5, 10, 4, 6, 7, 1, 10, 4, 8, 5, 5, 2, 5, 1, 8, 3, 2, 5, 7, 9, 1, 5, 1, 1, 7, 5, 7, 4, 6, 6, 5, 10, 9, 3, 2, 10, 10, 2, 3, 10, 7, 3, 6, 9, 1, 4, 8, 1, 3, 8, 9, 5, 4, 7, 6, 7, 8, 6, 4, 8, 1, 3, 6, 9, 5, 2, 1, 1, 5, 10, 1, 4, 6, 8, 8, 1, 6, 10, 6, 10, 6], \"Freq\": [1.0008503025603002, 0.9997933209534604, 0.9998216794333111, 1.00013473592719, 1.0021410887331488, 1.0008369465494453, 1.0000086568812827, 0.9996044307669595, 1.0016633482350685, 1.0008879394544943, 0.9997933209534604, 1.0000086568812827, 1.0002576256541518, 1.00013473592719, 1.0008503025603002, 1.0000086568812827, 0.9998325820320642, 0.9965687633228906, 1.0000164085777588, 1.00013473592719, 0.9107293536383013, 0.0891714845894953, 1.0008879394544943, 1.0000788352150585, 1.0008879394544943, 0.9989747248188235, 0.9989747248188237, 0.8920294434405297, 0.10793963585010977, 0.04604425747138858, 0.9540105145151014, 1.0002608166854126, 0.06831785185861382, 0.9313330687196325, 1.0000252377525685, 1.0002309304213763, 1.0016633482350685, 1.000110407702281, 1.0016633482350685, 1.000343645002144, 0.9975636479402527, 1.0008879394544943, 0.9997719608638033, 1.0008503025603002, 1.000343645002144, 1.000343645002144, 0.9965687633228906, 1.00013473592719, 1.0004330820813327, 0.9998216794333111, 0.9997493646655065, 0.9076958825606999, 0.09250846925714412, 1.0004330820813327, 1.0008879394544943, 1.0033071915860243, 0.9999200313556373, 1.0008503025603002, 1.0008879394544943, 1.0001446787677861, 1.00013473592719, 1.0008503025603002, 1.00013473592719, 0.9997493646655065, 1.0008879394544943, 0.9998845430239633, 1.00013473592719, 1.00013473592719, 0.9595163736673052, 0.04023385048414367, 1.0008369465494453, 0.9996502422454796, 1.0016633482350685, 0.9965687633228906, 0.9996044307669595, 1.0008503025603002, 0.9998617954504732, 1.0000086568812827, 1.0004330820813327, 1.0002221060073921, 0.3362009190065619, 0.6637391755065132, 0.999804376190822, 1.00013473592719, 0.9997641559871799, 0.9996980179246008, 1.0002576256541518, 1.0000088736507378, 1.0008503025603002, 1.0021410887331488, 0.9998216794333111, 1.0001728211701824, 1.0008503025603002, 0.9996593698897072, 1.0000164085777588, 0.9998617954504732, 0.9997849232979954, 1.0008503025603002, 0.1946825868957647, 0.7460594766787121, 0.05952364151065909, 0.9965687633228906, 0.7232348104344721, 0.2768243584766428, 0.9996044307669595, 0.9999502573241847, 1.0016633482350685, 1.0000003764339036, 1.0001077148971906, 0.9975636479402527, 1.0000086568812827, 0.9993974046460251, 1.0000252377525685, 1.0000086568812827, 0.9999514460437612, 0.9997719608638034, 0.9997719608638033, 1.0000230436593922, 1.00013473592719, 1.0008879394544943, 1.0001900225375813, 0.2392192079660286, 0.728734769488631, 0.032053017027960484, 0.07139130257980573, 0.40955536019903704, 0.5190522879074693, 1.000203805524587, 0.9996193833541296, 1.00013473592719, 1.0004330820813327, 1.0002027113855023, 0.9998617954504732, 1.00013473592719, 1.0016633482350685, 1.0016633482350685, 1.000497658669489, 1.0012311613517977, 1.0008369465494453, 0.9975636479402527, 0.9997493646655065, 1.0000230436593922, 1.0003642428311397, 1.0016633482350685, 1.0007976713969602, 1.0001900225375813, 1.0008503025603002, 0.9997933209534604, 0.9997493646655065, 1.0000067898253666, 0.9996336939163308, 1.00013473592719, 1.0001260594997519, 0.9996502422454796, 0.3695717836043907, 0.622355563727766, 0.008062522067724917, 0.9999472553008717, 0.9999353489927236, 1.000110407702281, 1.0000502623504197, 0.9996502422454796, 0.11232342420259513, 0.887395023949328, 0.09408312099999479, 0.5511061109110015, 0.35490429985763156, 1.0008369465494453, 1.00013473592719, 1.000836946549445, 0.30841440181957186, 0.6587731622866055, 0.03281529235360245, 1.000343645002144, 0.6321768747397386, 0.3678182911047302, 1.0009353069723457, 0.9985873969291306, 1.0002576256541518, 1.0001347359271897, 1.0001446787677861, 1.00013473592719, 0.9975636479402527, 1.0021410887331488, 0.7645347887760219, 0.15583620981948032, 0.07967565614830573, 1.00013473592719, 0.9999108565236416, 0.9999779719828769, 1.00013473592719, 0.9997493646655063, 0.9989747248188237, 0.13513024402581916, 0.8652224257768277, 1.0008369465494453, 1.0033071915860243, 0.9989747248188237, 1.0021410887331488, 1.0000088736507378, 1.0008369465494453, 0.7056349914727491, 0.23468567718020278, 0.059675575615503886, 1.0004330820813327, 0.9975636479402527, 1.0002221060073921, 1.00013473592719, 1.0008879394544943, 1.0008369465494453, 1.0000728034764625, 1.0000086568812827, 0.9997493646655065, 0.9999242137044491, 0.03381512298378511, 0.9662174111396247, 1.0000004739403936, 0.9998128718503542, 1.0000164085777588, 0.9996593698897072, 1.0000619679820948, 1.0021410887331488, 0.9989747248188237, 1.0003642428311397, 1.0000255729763454, 1.0002221060073921, 1.0021410887331488, 0.9985873969291306, 0.6356153632560635, 0.3645753672187789, 0.07319193994959268, 0.9267995381324873, 1.000343645002144, 0.9989747248188235, 1.00013473592719, 1.0021410887331488, 0.999804376190822, 1.0003005041483775, 1.0008503025603002, 0.9998617954504732, 1.0003642428311397, 1.0008369465494453, 0.9997493646655065, 0.9989747248188237, 0.9996336939163308, 0.9421471263190022, 0.057665170647787714, 1.00013473592719, 0.9975636479402527, 0.999804376190822, 0.9530514060241941, 0.0471270528058922, 0.9999862591336293, 0.4615324717394017, 0.10210028685163422, 0.43655830085482933, 1.000836946549445, 1.00013473592719, 0.9360549292308673, 0.06355928531814531, 0.9998617954504732, 0.9997719608638034, 0.16194353557694716, 0.8380112611119725, 0.9996593698897072, 0.8943801727846388, 0.10503397046937038, 1.00013473592719, 1.00013473592719, 1.0000086568812827, 0.9999502573241847, 1.0000088736507378, 0.9998205792704344, 0.9999502573241847, 1.000343645002144, 0.9997493646655065, 1.000110407702281, 1.0000025896628493, 1.000343645002144, 1.0004330820813327, 0.9975636479402527, 1.0021410887331488, 0.9990853511090594, 0.999879972200176, 0.7383803695262358, 0.2616670317974255, 0.9999531400008419, 1.0000025896628493, 1.00013473592719, 0.999918784995055, 0.9975636479402527, 0.9998205792704344, 0.9989747248188237, 0.9998205792704344, 0.9999237741529585, 0.9999677691436847, 1.0003142829989113, 1.0002221060073921, 1.0001215931386582, 1.00013473592719, 0.9997039034500782, 0.9997493646655063, 1.000343645002144, 1.0016633482350685, 0.9996044307669595, 1.0000086568812827, 1.00013473592719, 1.0008369465494453, 0.9999472553008717, 1.00013473592719, 0.9975636479402527, 1.0004330820813327, 0.9997719608638034, 1.0000502623504197, 1.00013473592719, 1.000203805524587, 1.0007976713969602, 0.9965687633228906, 0.9998617954504732, 1.0008503025603002, 0.9670462467042301, 0.03294593830683529, 0.9997719608638033, 0.9996193833541296, 0.9645939626171844, 0.03551447806464775, 1.0000086568812827, 1.0002027113855023, 1.0008369465494453, 1.000343645002144, 1.0033071915860243, 1.000343645002144, 1.0001957242067616, 1.000343645002144, 0.9998128718503542, 1.0008879394544943, 1.00013473592719, 0.09203542775960727, 0.9077738953843278, 0.9997849232979954, 1.0012311613517977, 1.0016633482350685, 0.9989747248188235, 0.1512626164640394, 0.8087566204702399, 0.03997954228672479, 1.0008503025603002, 1.0000957843777594, 1.000203805524587, 0.9999237741529585, 1.0012311613517977, 0.8009034932802852, 0.0677428869541213, 0.13164220585410807, 0.999804376190822, 1.00013473592719, 1.0033071915860243, 0.9998617954504732, 0.6930072092212383, 0.3070917175190356, 0.9998617954504732, 1.000343645002144, 0.9999472553008717, 1.0000088736507378, 0.9990853511090594, 1.0021410887331488, 1.0001900225375813, 1.0033071915860243, 0.9418610227321556, 0.05816023196791187, 1.00013473592719, 1.0000164085777588, 1.0021410887331488, 1.0008879394544943, 0.9975636479402527, 1.0021410887331488, 1.0000728034764625, 1.0003642428311397, 1.0012311613517977, 1.0008879394544943, 1.0008503025603002, 1.0009353069723457, 1.0001900225375813, 0.9997933209534604, 1.0000619679820948, 1.00013473592719, 0.9993758707150665, 0.9965687633228906, 1.0001347359271897, 1.0008879394544943, 1.0008879394544943, 1.0008879394544943, 1.0033071915860243, 1.0002281649517875, 1.00013473592719, 1.0002309304213763, 1.000110407702281, 0.9996502422454796, 0.9116651984948302, 0.08853952301283836, 1.0000230436593922, 0.9989747248188237, 0.9997493646655065, 0.9998617954504732, 1.0009353069723457, 1.0008369465494453, 0.9989747248188237, 0.9998667259785772, 0.9989747248188235, 0.7908345602669944, 0.2091809330312317, 0.3557034924359444, 0.6443656303551503, 1.0016633482350685, 0.9999542014691375, 1.0008879394544943, 1.0033071915860243, 1.0000252377525685, 1.000096538097677, 0.9965687633228906, 0.9996193833541296, 1.0008369465494453, 0.9965687633228906, 1.0021410887331488, 0.08534497334452563, 0.5894329094298173, 0.3254160854143783, 1.00013473592719, 1.0001215931386582, 0.999804376190822, 1.0000025896628495, 1.0001347359271897, 1.0008369465494453, 1.0000086568812827, 0.9999502573241847, 1.00013473592719, 1.00013473592719, 0.023718944872811523, 0.20692734664901088, 0.7693934979949586, 0.8481147909815495, 0.1523100206026297, 0.9997493646655065, 1.0001347359271897, 0.9999472553008717, 1.0008879394544943, 1.0000614547462536, 0.9975636479402527, 0.9997933209534604, 1.0000088736507378, 0.9985873969291306, 0.9998617954504732, 0.9996193833541296, 1.00013473592719, 1.0021410887331488, 0.9965687633228906, 0.9989747248188237, 1.0021410887331488, 0.9999502573241847, 0.9989747248188237, 1.0008879394544943, 1.00013473592719, 0.9999242137044491, 1.0001900225375813, 1.0008369465494453, 1.00013473592719, 1.0003142829989113, 1.00013473592719, 0.09342976259383279, 0.9065908687553291, 1.0016633482350685, 0.9996980179246008, 1.0008879394544943, 0.9999111249226144, 1.0021410887331488, 0.9965687633228906, 1.0000003764339036, 1.0033071915860243, 1.000836946549445, 1.0008369465494453, 0.9996502422454796, 0.9989747248188237, 1.0000230436593922, 0.9999848826670165, 0.9999542014691375, 0.9996593698897072, 0.2323428579831591, 0.7675980743315736, 0.7234766516490823, 0.2767308336649883, 0.9965687633228906, 0.9990853511090594, 1.0000086568812827, 0.9965687633228906, 1.000096538097677, 0.9998216794333111, 1.0002309304213763, 0.9989747248188237, 1.0000032011616034, 1.0008503025603002, 0.9998617954504732, 0.9997493646655065, 0.9996336939163308, 1.0008879394544943, 0.9997641559871799, 0.9997493646655065, 0.8628724402690641, 0.0688434520430627, 0.0683258321028893, 0.9965687633228906, 1.0008503025603002, 0.4221539499573156, 0.5778443267015736, 0.9989747248188237, 1.0002576256541518, 0.9975636479402527, 1.0033071915860243, 1.0033071915860243, 1.0001668155086942, 1.0016633482350685, 0.6192944313725204, 0.15276051564504278, 0.07738888067491963, 0.15055988396708297, 0.9996193833541296, 0.9995886686662931, 1.000096538097677, 0.9989747248188237, 0.9985873969291306, 0.9998861981078919, 1.0008503025603002, 1.0008503025603002, 1.0016633482350685, 0.9965687633228906, 0.9997493646655063, 0.9999693881862488, 0.9989747248188237, 1.0008503025603002, 1.0000003764339036, 0.8606473107141522, 0.13940803015846598, 0.9997493646655063, 1.0012311613517977, 0.9998617954504732, 1.0008503025603002, 1.0000252377525685, 1.00013473592719, 1.0000032011616034, 1.00013473592719, 0.9965687633228906, 1.0000869895485476, 1.0016633482350685, 1.0008503025603002, 0.9999472553008717, 1.000110407702281, 1.00013473592719, 0.9997493646655065, 1.0021410887331488, 1.0000086568812827, 0.9998128718503542, 0.9997039034500782, 0.9989747248188235, 1.0033071915860243, 1.00013473592719, 0.9989747248188237, 1.0008369465494453, 1.0008503025603002, 0.948458810937615, 0.05154760627034186, 0.9997493646655065, 1.00013473592719, 0.9997719608638033, 0.9999767881814048, 1.0008879394544943, 0.9996502422454796, 0.9998617954504732, 0.9998128718503542, 1.0000502623504197, 1.0001728211701824, 1.0033071915860243, 1.0008369465494453, 1.0008879394544943, 1.00013473592719, 1.0000230436593922, 0.9998325820320642, 0.31184457846370145, 0.6882087248854101, 0.29779177485566777, 0.14016750781999535, 0.5622103335637175, 0.9996980179246008, 0.9975636479402527, 1.0008879394544943, 1.0002221060073924, 0.9998216794333111, 1.0002281649517875, 1.0008503025603002, 0.9999531400008419, 0.9998128718503542, 0.9997493646655063, 0.745201733226931, 0.25483905425569797, 0.9965687633228906, 0.9997493646655065, 1.00013473592719, 1.0016633482350685, 0.9965687633228906, 1.00013473592719, 1.0033071915860243, 0.9996502422454796, 0.9998205792704344, 0.9965687633228906, 0.9998617954504732, 0.9999502573241847, 1.0008879394544943, 1.0000255729763454, 1.0016633482350685, 0.35425913731052366, 0.6457462417787685, 0.9996193833541296, 1.000091986223527, 0.20733582685909943, 0.7927985034216644, 1.00013473592719, 1.0001900225375813, 1.00013473592719, 0.9999472553008717, 0.9601452973073973, 0.040018049872782076, 1.000343645002144, 0.9996193833541296, 0.9996593698897072, 0.9965687633228906, 0.9999865531268742, 1.0008503025603002, 0.07550165570664402, 0.06925324282057693, 0.8555118643173527, 0.9999502573241847, 1.00013473592719, 1.000203805524587, 0.9998216794333111, 1.0008369465494453, 1.000343645002144, 0.9996593698897072, 0.9997933209534604, 0.9996044307669595, 0.9996593698897072, 1.0008369465494453, 1.0001347359271897, 0.9998216794333111, 1.0008369465494453, 1.0008369465494453, 0.5115704115952818, 0.4885266993612601, 0.9997144980556016, 0.9999200313556373, 1.0003642428311397, 1.0016633482350685, 1.0002576256541518, 0.08799296388898208, 0.9123809447212184, 0.9965687633228906, 0.9996502422454796, 0.999804376190822, 1.0016633482350685, 0.9989747248188237, 0.2785121196494551, 0.0628460789468738, 0.6587535037812599, 0.9999502573241847, 0.9999542014691375, 1.0002608166854126, 1.000343645002144, 0.9997493646655065, 0.9998861981078919, 0.9998558438224683, 1.00013473592719, 1.0000004739403936, 1.0033071915860243, 1.0001728211701824, 0.9998128718503542, 1.0002608166854126, 0.8701391945595258, 0.12988609750439611, 1.00013473592719, 0.9999237741529585, 1.0008503025603002, 1.0021410887331488, 1.0000025896628493, 1.0000086568812827, 1.0000619679820948, 1.00013473592719, 1.0008879394544943, 1.00013473592719, 1.00013473592719, 1.0000086568812827, 1.0000517757623855, 0.9975636479402527, 0.524488435377185, 0.4754259686210071, 0.9989747248188237, 1.0008879394544943, 1.000343645002144, 1.0016633482350685, 1.0001957242067616, 1.0021410887331488, 0.9999242137044491, 1.000343645002144, 0.9481708637130901, 0.05203148442799823, 0.999804376190822, 1.0000086568812827, 0.9998902543084436, 0.9989747248188235, 1.0016633482350685, 1.00013473592719, 1.0000096934645688, 1.0008369465494453, 0.3836258435004286, 0.02424650574789556, 0.23895533213007492, 0.35316841017179135, 0.9997301743423433, 0.25567224690547274, 0.7442700995326573, 1.0000164085777588, 1.0003142829989113, 1.0002281649517875, 1.0004330820813327, 1.0033071915860243, 0.9999237741529585, 0.0866871569113412, 0.913503281107099, 0.9989747248188237, 1.0000619679820948, 0.9996336939163308, 0.9997719608638033, 1.00013473592719, 1.00013473592719, 1.0008879394544943, 0.9999242137044491, 0.8050444789017386, 0.1951538857475594, 0.42910911141351393, 0.5709288906413096, 1.000836946549445, 1.00013473592719, 0.8612494670154175, 0.13870015725255888, 1.000096538097677, 0.9965687633228906, 1.0004330820813327], \"Term\": [\"abort\", \"abus\", \"accus\", \"activ\", \"addict\", \"aftershock\", \"agricultur\", \"alert\", \"ambit\", \"amnesti\", \"andrew\", \"anger\", \"anim\", \"announc\", \"annual\", \"anzac\", \"appeal\", \"applic\", \"appoint\", \"approv\", \"april\", \"april\", \"arbitr\", \"arrest\", \"arrow\", \"artist\", \"asham\", \"assault\", \"assault\", \"attack\", \"attack\", \"august\", \"aussi\", \"aussi\", \"australia\", \"australian\", \"austria\", \"award\", \"ax\", \"backflip\", \"bacon\", \"bag\", \"bait\", \"balloon\", \"ban\", \"banana\", \"bangor\", \"barri\", \"bash\", \"bath\", \"beachley\", \"beef\", \"beef\", \"beer\", \"bega\", \"believ\", \"bell\", \"bellami\", \"bet\", \"bird\", \"birth\", \"bitcoin\", \"black\", \"blockad\", \"bloom\", \"blue\", \"bluescop\", \"board\", \"bodi\", \"bodi\", \"boon\", \"bounti\", \"box\", \"brake\", \"break\", \"breakout\", \"bridg\", \"bring\", \"brown\", \"brumbi\", \"budget\", \"budget\", \"bull\", \"bulldog\", \"bulli\", \"bushfir\", \"bushrang\", \"busi\", \"button\", \"buy\", \"byron\", \"call\", \"calm\", \"camp\", \"campaign\", \"canadian\", \"canberra\", \"cane\", \"carbon\", \"carbon\", \"carbon\", \"careflight\", \"cattl\", \"cattl\", \"celebr\", \"cent\", \"cgmmv\", \"challeng\", \"chang\", \"chaplain\", \"charg\", \"chatlin\", \"chees\", \"chelsea\", \"china\", \"chopper\", \"chris\", \"christma\", \"citizen\", \"civil\", \"clear\", \"close\", \"close\", \"close\", \"closer\", \"closer\", \"closer\", \"closur\", \"club\", \"clubhous\", \"coach\", \"coal\", \"cole\", \"coleman\", \"coloni\", \"commerc\", \"compens\", \"competit\", \"complac\", \"complianc\", \"concern\", \"confer\", \"confid\", \"conman\", \"connect\", \"control\", \"convoy\", \"cook\", \"coraki\", \"corner\", \"corrupt\", \"cost\", \"council\", \"countri\", \"countrywid\", \"countrywid\", \"countrywid\", \"court\", \"crash\", \"creek\", \"cricket\", \"crisi\", \"critic\", \"critic\", \"crop\", \"crop\", \"crop\", \"cub\", \"culleton\", \"custodi\", \"cut\", \"cut\", \"cut\", \"cyclon\", \"dairi\", \"dairi\", \"dam\", \"dancer\", \"danger\", \"darwin\", \"david\", \"dead\", \"deadlin\", \"deadlock\", \"deal\", \"deal\", \"deal\", \"dean\", \"death\", \"debat\", \"decemb\", \"decis\", \"deep\", \"delay\", \"delay\", \"depend\", \"derail\", \"desert\", \"detaine\", \"develop\", \"devil\", \"die\", \"die\", \"die\", \"disast\", \"dive\", \"dog\", \"dogleg\", \"downgrad\", \"dramat\", \"dribbl\", \"drink\", \"driver\", \"drone\", \"drought\", \"drought\", \"drown\", \"drug\", \"drum\", \"dubbo\", \"dump\", \"dunde\", \"dung\", \"egypt\", \"elect\", \"eltham\", \"emoji\", \"employ\", \"england\", \"england\", \"entertain\", \"entertain\", \"environment\", \"erupt\", \"escap\", \"exchang\", \"expand\", \"expans\", \"expel\", \"export\", \"extradit\", \"extrem\", \"face\", \"factor\", \"factori\", \"fall\", \"fall\", \"famili\", \"famous\", \"farewel\", \"farm\", \"farm\", \"farmer\", \"fatal\", \"fatal\", \"fatal\", \"father\", \"fear\", \"featur\", \"featur\", \"februari\", \"fenc\", \"fight\", \"fight\", \"figur\", \"fiji\", \"fiji\", \"file\", \"fin\", \"final\", \"financ\", \"fire\", \"fish\", \"flood\", \"fluorid\", \"follow\", \"food\", \"forestri\", \"forward\", \"frack\", \"francisco\", \"freo\", \"friend\", \"fruit\", \"fund\", \"fund\", \"futur\", \"game\", \"gang\", \"gold\", \"golfer\", \"good\", \"grade\", \"grain\", \"graincorp\", \"grandstand\", \"grant\", \"grape\", \"green\", \"greenhous\", \"group\", \"grow\", \"growth\", \"guarante\", \"guilti\", \"halv\", \"happen\", \"happi\", \"harvest\", \"hear\", \"height\", \"hemp\", \"hen\", \"hendra\", \"hick\", \"highlight\", \"hockey\", \"holiday\", \"homeless\", \"hooper\", \"hospit\", \"hospit\", \"hospitalis\", \"hour\", \"hous\", \"hous\", \"howard\", \"hunt\", \"imag\", \"import\", \"incent\", \"increas\", \"india\", \"indonesia\", \"industri\", \"infect\", \"injur\", \"inquest\", \"inquest\", \"inquiri\", \"institut\", \"intens\", \"internet\", \"interview\", \"interview\", \"interview\", \"invad\", \"investig\", \"iraq\", \"irrig\", \"isol\", \"jail\", \"jail\", \"jail\", \"januari\", \"japan\", \"jenni\", \"jericho\", \"job\", \"job\", \"john\", \"juli\", \"june\", \"karl\", \"karratha\", \"kemp\", \"kevin\", \"kidman\", \"kill\", \"kill\", \"kununurra\", \"lamb\", \"lambi\", \"lankan\", \"latham\", \"laugh\", \"leagu\", \"leav\", \"lemon\", \"lennox\", \"letter\", \"leve\", \"line\", \"live\", \"loan\", \"lobster\", \"log\", \"loot\", \"lose\", \"lurk\", \"lyon\", \"magnific\", \"mail\", \"make\", \"mandela\", \"mango\", \"march\", \"marin\", \"market\", \"market\", \"marriag\", \"mason\", \"matern\", \"mayor\", \"mcgrath\", \"mckay\", \"meatwork\", \"media\", \"medicin\", \"meet\", \"meet\", \"melbourn\", \"melbourn\", \"memo\", \"memori\", \"meninde\", \"meningococc\", \"merger\", \"metgasco\", \"metronet\", \"michael\", \"mickelson\", \"midwiv\", \"migrat\", \"milk\", \"milk\", \"milk\", \"mind\", \"mine\", \"minist\", \"miss\", \"money\", \"mum\", \"mundin\", \"murder\", \"murdoch\", \"nation\", \"news\", \"news\", \"news\", \"newsmak\", \"newsmak\", \"novemb\", \"number\", \"oliv\", \"olympian\", \"open\", \"oprah\", \"origin\", \"outback\", \"overhaul\", \"packag\", \"pakistan\", \"parkinson\", \"partnership\", \"past\", \"pastoralist\", \"pat\", \"pedestrian\", \"pellet\", \"penguin\", \"perilya\", \"peter\", \"petit\", \"pioneer\", \"pip\", \"pipelin\", \"plan\", \"play\", \"play\", \"playoff\", \"podcast\", \"pokemon\", \"polic\", \"policeman\", \"policewoman\", \"polit\", \"pollut\", \"pool\", \"poppi\", \"port\", \"portland\", \"post\", \"power\", \"presid\", \"pressur\", \"preview\", \"preview\", \"price\", \"price\", \"primari\", \"print\", \"prison\", \"profession\", \"profit\", \"program\", \"project\", \"prosecut\", \"protest\", \"psychiatrist\", \"push\", \"qanta\", \"quak\", \"quick\", \"quit\", \"quiz\", \"race\", \"race\", \"race\", \"radiat\", \"raikkonen\", \"rain\", \"rain\", \"ramsay\", \"ranger\", \"rann\", \"ransomwar\", \"rape\", \"rat\", \"ratepay\", \"reax\", \"reax\", \"reax\", \"reax\", \"record\", \"redback\", \"reform\", \"regatta\", \"regret\", \"releas\", \"releg\", \"religi\", \"remov\", \"renaiss\", \"reopen\", \"report\", \"request\", \"requir\", \"rescu\", \"research\", \"research\", \"resign\", \"respect\", \"respons\", \"restaur\", \"result\", \"resurg\", \"retir\", \"return\", \"reverend\", \"review\", \"ribbon\", \"rig\", \"rise\", \"river\", \"road\", \"rob\", \"robber\", \"robert\", \"rock\", \"rodeo\", \"roger\", \"roo\", \"rope\", \"rosella\", \"row\", \"royalti\", \"rural\", \"rural\", \"sach\", \"sachin\", \"safeti\", \"sale\", \"sanction\", \"save\", \"scallop\", \"scene\", \"school\", \"scorecentr\", \"scott\", \"scottsdal\", \"sculptur\", \"search\", \"season\", \"sell\", \"send\", \"send\", \"sentenc\", \"sentenc\", \"sentenc\", \"septemb\", \"serena\", \"sharehold\", \"shaw\", \"shed\", \"sheep\", \"sheffield\", \"shoot\", \"shortag\", \"show\", \"sign\", \"sign\", \"signag\", \"silo\", \"skull\", \"slice\", \"slide\", \"slipperi\", \"slump\", \"smith\", \"smoke\", \"snapper\", \"snow\", \"solar\", \"sorri\", \"speak\", \"spin\", \"sport\", \"sport\", \"spring\", \"stab\", \"stand\", \"stand\", \"stanhop\", \"star\", \"stat\", \"state\", \"station\", \"station\", \"stay\", \"steal\", \"step\", \"store\", \"stori\", \"storifi\", \"storm\", \"storm\", \"storm\", \"stoush\", \"strike\", \"studi\", \"studio\", \"style\", \"submiss\", \"success\", \"summer\", \"summit\", \"super\", \"superannu\", \"support\", \"sustain\", \"swamp\", \"swarm\", \"sydney\", \"sydney\", \"syria\", \"talk\", \"talkaboutit\", \"tap\", \"target\", \"teacher\", \"teacher\", \"tech\", \"teen\", \"telstra\", \"tenni\", \"termin\", \"test\", \"test\", \"test\", \"threat\", \"tiger\", \"time\", \"tomato\", \"tonga\", \"total\", \"tour\", \"toxic\", \"track\", \"trailer\", \"train\", \"transport\", \"tree\", \"trial\", \"trial\", \"tribut\", \"truck\", \"tumbarumba\", \"turkish\", \"turn\", \"turtl\", \"tweed\", \"twin\", \"unbeaten\", \"uncertain\", \"undo\", \"unemploy\", \"union\", \"univers\", \"updat\", \"updat\", \"verrend\", \"vic\", \"view\", \"villa\", \"visit\", \"visitor\", \"vote\", \"voyag\", \"wach\", \"wach\", \"wagga\", \"walker\", \"warn\", \"warrior\", \"warship\", \"watch\", \"water\", \"wayn\", \"weather\", \"weather\", \"weather\", \"weather\", \"weed\", \"week\", \"week\", \"weekend\", \"welcom\", \"whale\", \"wheat\", \"wheel\", \"wild\", \"wimbledon\", \"wimbledon\", \"wimmera\", \"win\", \"winner\", \"winter\", \"withdraw\", \"word\", \"workcov\", \"worker\", \"world\", \"world\", \"wrap\", \"wrap\", \"wright\", \"xmas\", \"year\", \"year\", \"young\", \"zimmerman\", \"zone\"]}, \"R\": 30, \"lambda.step\": 0.01, \"plot.opts\": {\"xlab\": \"PC1\", \"ylab\": \"PC2\"}, \"topic.order\": [4, 2, 5, 9, 7, 6, 10, 3, 1, 8]};\n",
       "\n",
       "function LDAvis_load_lib(url, callback){\n",
       "  var s = document.createElement('script');\n",
       "  s.src = url;\n",
       "  s.async = true;\n",
       "  s.onreadystatechange = s.onload = callback;\n",
       "  s.onerror = function(){console.warn(\"failed to load library \" + url);};\n",
       "  document.getElementsByTagName(\"head\")[0].appendChild(s);\n",
       "}\n",
       "\n",
       "if(typeof(LDAvis) !== \"undefined\"){\n",
       "   // already loaded: just create the visualization\n",
       "   !function(LDAvis){\n",
       "       new LDAvis(\"#\" + \"ldavis_el2595624761164168164617068649\", ldavis_el2595624761164168164617068649_data);\n",
       "   }(LDAvis);\n",
       "}else if(typeof define === \"function\" && define.amd){\n",
       "   // require.js is available: use it to load d3/LDAvis\n",
       "   require.config({paths: {d3: \"https://cdnjs.cloudflare.com/ajax/libs/d3/3.5.5/d3.min\"}});\n",
       "   require([\"d3\"], function(d3){\n",
       "      window.d3 = d3;\n",
       "      LDAvis_load_lib(\"https://cdn.rawgit.com/bmabey/pyLDAvis/files/ldavis.v1.0.0.js\", function(){\n",
       "        new LDAvis(\"#\" + \"ldavis_el2595624761164168164617068649\", ldavis_el2595624761164168164617068649_data);\n",
       "      });\n",
       "    });\n",
       "}else{\n",
       "    // require.js not available: dynamically load d3 & LDAvis\n",
       "    LDAvis_load_lib(\"https://cdnjs.cloudflare.com/ajax/libs/d3/3.5.5/d3.min.js\", function(){\n",
       "         LDAvis_load_lib(\"https://cdn.rawgit.com/bmabey/pyLDAvis/files/ldavis.v1.0.0.js\", function(){\n",
       "                 new LDAvis(\"#\" + \"ldavis_el2595624761164168164617068649\", ldavis_el2595624761164168164617068649_data);\n",
       "            })\n",
       "         });\n",
       "}\n",
       "</script>"
      ],
      "text/plain": [
       "PreparedData(topic_coordinates=              x         y  topics  cluster       Freq\n",
       "topic                                                \n",
       "3      0.228358 -0.132144       1        1  10.046715\n",
       "1      0.033553  0.089641       2        1  10.044132\n",
       "4     -0.105515 -0.114008       3        1  10.019445\n",
       "8     -0.020778  0.301059       4        1  10.001205\n",
       "6      0.078885  0.108141       5        1  10.000315\n",
       "5     -0.009762  0.329718       6        1   9.997517\n",
       "9     -0.317461 -0.118304       7        1   9.987092\n",
       "2      0.216033 -0.142093       8        1   9.985004\n",
       "0      0.211714 -0.175075       9        1   9.968107\n",
       "7     -0.315026 -0.146935      10        1   9.950467, topic_info=      Category           Freq        Term          Total  loglift  logprob\n",
       "term                                                                      \n",
       "2084   Default  149794.000000      closer  149794.000000  30.0000  30.0000\n",
       "1048   Default  105126.000000       sport  105126.000000  29.0000  29.0000\n",
       "649    Default  108840.000000     weather  108840.000000  28.0000  28.0000\n",
       "1298   Default   54878.000000   interview   54878.000000  27.0000  27.0000\n",
       "4037   Default   43570.000000   entertain   43570.000000  26.0000  26.0000\n",
       "1246   Default   34996.000000       rural   34996.000000  25.0000  25.0000\n",
       "81     Default   23918.000000        busi   23918.000000  24.0000  24.0000\n",
       "11460  Default   16868.000000  countrywid   16868.000000  23.0000  23.0000\n",
       "5337   Default    9436.000000  grandstand    9436.000000  22.0000  22.0000\n",
       "1250   Default   12226.000000        news   12226.000000  21.0000  21.0000\n",
       "268    Default    8010.000000        open    8010.000000  20.0000  20.0000\n",
       "98     Default    6776.000000        miss    6776.000000  19.0000  19.0000\n",
       "549    Default    6522.000000        sale    6522.000000  18.0000  18.0000\n",
       "6242   Default    6022.000000      corner    6022.000000  17.0000  17.0000\n",
       "55     Default    5761.000000       water    5761.000000  16.0000  16.0000\n",
       "319    Default    5316.000000       charg    5316.000000  15.0000  15.0000\n",
       "64     Default    5065.000000      report    5065.000000  14.0000  14.0000\n",
       "37     Default    4927.000000   australia    4927.000000  13.0000  13.0000\n",
       "1839   Default    6695.000000      budget    6695.000000  12.0000  12.0000\n",
       "171    Default    6971.000000         die    6971.000000  11.0000  11.0000\n",
       "240    Default    5970.000000        meet    5970.000000  10.0000  10.0000\n",
       "1194   Default    4517.000000       china    4517.000000   9.0000   9.0000\n",
       "1265   Default    4502.000000        bell    4502.000000   8.0000   8.0000\n",
       "511    Default    4440.000000      review    4440.000000   7.0000   7.0000\n",
       "174    Default    4238.000000       chang    4238.000000   6.0000   6.0000\n",
       "483    Default    5922.000000        rain    5922.000000   5.0000   5.0000\n",
       "343    Default    4166.000000        warn    4166.000000   4.0000   4.0000\n",
       "470    Default    5607.000000         job    5607.000000   3.0000   3.0000\n",
       "192    Default    4080.000000       crash    4080.000000   2.0000   2.0000\n",
       "364    Default    4219.000000      hospit    4219.000000   1.0000   1.0000\n",
       "...        ...            ...         ...            ...      ...      ...\n",
       "4502   Topic10    1589.453792       syria    1589.453792   2.3076  -4.9470\n",
       "1107   Topic10    1456.999309       track    1456.999309   2.3076  -5.0340\n",
       "1300   Topic10    1456.999309       drown    1456.999309   2.3076  -5.0340\n",
       "4453   Topic10    1192.090344       peter    1192.090344   2.3076  -5.2347\n",
       "3984   Topic10    1192.090344       drone    1192.090344   2.3076  -5.2347\n",
       "781    Topic10    1192.090344      worker    1192.090344   2.3076  -5.2347\n",
       "291    Topic10    1192.090344        vote    1192.090344   2.3076  -5.2347\n",
       "534    Topic10    1059.635861         ban    1059.635861   2.3076  -5.3525\n",
       "2027   Topic10    1059.635861     submiss    1059.635861   2.3076  -5.3525\n",
       "5044   Topic10    1059.635861        juli    1059.635861   2.3076  -5.3525\n",
       "408    Topic10    1059.635861        stay    1059.635861   2.3076  -5.3525\n",
       "1870   Topic10     927.181379     farewel     927.181379   2.3076  -5.4860\n",
       "5007   Topic10     927.181379     januari     927.181379   2.3076  -5.4860\n",
       "2876   Topic10     927.181379        bull     927.181379   2.3076  -5.4860\n",
       "1437   Topic10     927.181379     telstra     927.181379   2.3076  -5.4860\n",
       "2265   Topic10     927.181379       wagga     927.181379   2.3076  -5.4860\n",
       "1294   Topic10     794.726896   indonesia     794.726896   2.3076  -5.6401\n",
       "2705   Topic10     794.726896      cyclon     794.726896   2.3076  -5.6401\n",
       "6051   Topic10     794.726896     fluorid     794.726896   2.3076  -5.6401\n",
       "349    Topic10     794.726896      growth     794.726896   2.3076  -5.6401\n",
       "1253   Topic10     794.726896      import     794.726896   2.3076  -5.6401\n",
       "9031   Topic10     794.726896      tomato     794.726896   2.3076  -5.6401\n",
       "1058   Topic10     794.726896     increas     794.726896   2.3076  -5.6401\n",
       "4793   Topic10     794.726896    backflip     794.726896   2.3076  -5.6401\n",
       "27     Topic10    1854.362758       aussi    1990.694911   2.2366  -4.7928\n",
       "2084   Topic10   77750.781333      closer  149794.157181   1.6518  -1.0569\n",
       "574    Topic10    2913.998619        test    4423.505884   1.8901  -4.3408\n",
       "470    Topic10    1721.908275         job    5607.445274   1.1269  -4.8669\n",
       "2142   Topic10    1059.635861      sydney    2169.789290   1.5908  -5.3525\n",
       "335    Topic10    1059.635861        crop    2986.720647   1.2713  -5.3525\n",
       "\n",
       "[717 rows x 6 columns], token_table=      Topic      Freq        Term\n",
       "term                             \n",
       "3738      3  1.000850       abort\n",
       "1883      8  0.999793        abus\n",
       "210       3  0.999822       accus\n",
       "2811      1  1.000135       activ\n",
       "2970      2  1.002141      addict\n",
       "2321      8  1.000837  aftershock\n",
       "821       7  1.000009  agricultur\n",
       "1834      9  0.999604       alert\n",
       "3224      9  1.001663       ambit\n",
       "2859      5  1.000888     amnesti\n",
       "7243      8  0.999793      andrew\n",
       "159       7  1.000009       anger\n",
       "2423      4  1.000258        anim\n",
       "203       1  1.000135     announc\n",
       "2948      3  1.000850      annual\n",
       "3563      7  1.000009       anzac\n",
       "881       6  0.999833      appeal\n",
       "2559     10  0.996569      applic\n",
       "625       6  1.000016     appoint\n",
       "1211      1  1.000135      approv\n",
       "3771      3  0.910729       april\n",
       "3771      7  0.089171       april\n",
       "2872      5  1.000888      arbitr\n",
       "284       3  1.000079      arrest\n",
       "2866      5  1.000888       arrow\n",
       "3585      6  0.998975      artist\n",
       "3353      6  0.998975       asham\n",
       "1524      8  0.892029     assault\n",
       "1524     10  0.107940     assault\n",
       "80        3  0.046044      attack\n",
       "...     ...       ...         ...\n",
       "2434      5  0.999730        weed\n",
       "1152      4  0.255672        week\n",
       "1152      7  0.744270        week\n",
       "1401      6  1.000016     weekend\n",
       "129       7  1.000314      welcom\n",
       "2337      8  1.000228       whale\n",
       "1513      6  1.000433       wheat\n",
       "2655      4  1.003307       wheel\n",
       "2057      8  0.999924        wild\n",
       "4480      1  0.086687   wimbledon\n",
       "4480      3  0.913503   wimbledon\n",
       "3179      6  0.998975     wimmera\n",
       "21        9  1.000062         win\n",
       "2418      5  0.999634      winner\n",
       "3254      2  0.999772      winter\n",
       "1148      1  1.000135    withdraw\n",
       "4476      1  1.000135        word\n",
       "3206      5  1.000888     workcov\n",
       "781      10  0.999924      worker\n",
       "421       1  0.805044       world\n",
       "421       4  0.195154       world\n",
       "4767      6  0.429109        wrap\n",
       "4767      8  0.570929        wrap\n",
       "3472      8  1.000837      wright\n",
       "9340      1  1.000135        xmas\n",
       "1103      6  0.861249        year\n",
       "1103     10  0.138700        year\n",
       "355       6  1.000097       young\n",
       "3063     10  0.996569   zimmerman\n",
       "917       6  1.000433        zone\n",
       "\n",
       "[753 rows x 3 columns], R=30, lambda_step=0.01, plot_opts={'xlab': 'PC1', 'ylab': 'PC2'}, topic_order=[4, 2, 5, 9, 7, 6, 10, 3, 1, 8])"
      ]
     },
     "execution_count": 36,
     "metadata": {},
     "output_type": "execute_result"
    }
   ],
   "source": [
    "# import importlib\n",
    "# importlib.reload(gensim.models.wrappers)\n",
    "# from gensim.models.wrappers import LdaMallet\n",
    "\n",
    "lda_mallet2gensim = gensim.models.wrappers.ldamallet.malletmodel2ldamodel(lda_model_mallet_tfidf, iterations=1000)\n",
    "vis_mallet_tfidf = pyLDAvis.gensim.prepare(lda_mallet2gensim, corpus_tfidf, dictionary)\n",
    "vis_mallet_tfidf"
   ]
  },
  {
   "cell_type": "code",
   "execution_count": 37,
   "metadata": {},
   "outputs": [
    {
     "name": "stdout",
     "output_type": "stream",
     "text": [
      "Mallet Model topics\n",
      "(7, '0.348*\"closer\" + 0.019*\"chang\" + 0.017*\"futur\" + 0.017*\"shoot\" + 0.013*\"test\" + 0.010*\"mine\" + 0.010*\"green\" + 0.009*\"stab\" + 0.008*\"expand\" + 0.008*\"aussi\"')\n",
      "(5, '0.302*\"sport\" + 0.015*\"year\" + 0.013*\"attack\" + 0.013*\"drum\" + 0.012*\"council\" + 0.011*\"control\" + 0.010*\"appeal\" + 0.010*\"sell\" + 0.010*\"interview\" + 0.008*\"reform\"')\n",
      "(6, '0.197*\"interview\" + 0.047*\"countrywid\" + 0.030*\"miss\" + 0.017*\"hous\" + 0.015*\"power\" + 0.014*\"rise\" + 0.014*\"entertain\" + 0.014*\"court\" + 0.014*\"harvest\" + 0.011*\"investig\"')\n",
      "(3, '0.185*\"weather\" + 0.028*\"countrywid\" + 0.015*\"station\" + 0.015*\"plan\" + 0.013*\"road\" + 0.013*\"world\" + 0.011*\"dead\" + 0.010*\"return\" + 0.010*\"approv\" + 0.009*\"clubhous\"')\n",
      "(0, '0.172*\"weather\" + 0.042*\"grandstand\" + 0.029*\"sale\" + 0.020*\"review\" + 0.017*\"drought\" + 0.017*\"job\" + 0.014*\"speak\" + 0.014*\"elect\" + 0.011*\"win\" + 0.010*\"mayor\"')\n",
      "Mallet Model converted to gensim topics\n",
      "(1, '0.106*\"busi\" + 0.037*\"interview\" + 0.022*\"report\" + 0.020*\"bell\" + 0.018*\"crash\" + 0.018*\"hospit\" + 0.016*\"media\" + 0.015*\"reax\" + 0.014*\"debat\" + 0.012*\"fire\"')\n",
      "(4, '0.147*\"rural\" + 0.047*\"closer\" + 0.021*\"meet\" + 0.020*\"budget\" + 0.018*\"warn\" + 0.017*\"arrest\" + 0.017*\"school\" + 0.015*\"farmer\" + 0.015*\"flood\" + 0.014*\"polic\"')\n",
      "(9, '0.273*\"closer\" + 0.042*\"news\" + 0.024*\"charg\" + 0.015*\"death\" + 0.013*\"halv\" + 0.012*\"fruit\" + 0.010*\"tour\" + 0.009*\"anzac\" + 0.008*\"grain\" + 0.008*\"fish\"')\n",
      "(8, '0.166*\"sport\" + 0.036*\"open\" + 0.026*\"water\" + 0.022*\"die\" + 0.016*\"season\" + 0.014*\"close\" + 0.013*\"gold\" + 0.013*\"farm\" + 0.013*\"market\" + 0.012*\"cut\"')\n",
      "(2, '0.180*\"entertain\" + 0.116*\"weather\" + 0.027*\"corner\" + 0.022*\"australia\" + 0.020*\"china\" + 0.015*\"rain\" + 0.014*\"bodi\" + 0.011*\"result\" + 0.010*\"assault\" + 0.010*\"wrap\"')\n"
     ]
    }
   ],
   "source": [
    "# TEST ! TEST !\n",
    "\n",
    "print(\"Mallet Model topics\")\n",
    "for topic in lda_model_mallet_tfidf.show_topics(num_topics=5, num_words=10):\n",
    "    print(topic)\n",
    "    \n",
    "print(\"Mallet Model converted to gensim topics\")\n",
    "for topic in lda_mallet2gensim.show_topics(num_topics=5, num_words=10):\n",
    "    print(topic)"
   ]
  },
  {
   "cell_type": "code",
   "execution_count": 38,
   "metadata": {},
   "outputs": [
    {
     "name": "stdout",
     "output_type": "stream",
     "text": [
      "\n",
      "Coherence Score:  0.4473196035866921\n"
     ]
    }
   ],
   "source": [
    "lda_model_mallet_4topics = gensim.models.wrappers.LdaMallet(mallet_path, corpus=corpus_tfidf, num_topics=4, id2word=dictionary)\n",
    "\n",
    "# Compute Coherence Score for model trained using both Mallet and TF-IDF\n",
    "\n",
    "coherence_model_lda_mallet_tfidf_4topics = CoherenceModel(model=lda_model_mallet_4topics, texts=processed_docs, dictionary=dictionary, coherence='c_v')\n",
    "coherence_lda_mallet_tfidf_4topics = coherence_model_lda_mallet_tfidf_4topics.get_coherence()\n",
    "print('\\nCoherence Score: ', coherence_lda_mallet_tfidf_4topics)"
   ]
  },
  {
   "cell_type": "code",
   "execution_count": 39,
   "metadata": {},
   "outputs": [
    {
     "data": {
      "image/png": "[encoded data removed]",
      "text/plain": [
       "<Figure size 720x720 with 4 Axes>"
      ]
     },
     "metadata": {
      "needs_background": "light"
     },
     "output_type": "display_data"
    }
   ],
   "source": [
    "# 1. Wordcloud of Top N words in each topic\n",
    "cols2 = [color for name, color in mcolors.TABLEAU_COLORS.items()]  # more colors: 'mcolors.XKCD_COLORS'\n",
    "\n",
    "cloud3 = WordCloud(stopwords=gensim.parsing.preprocessing.STOPWORDS,\n",
    "                  background_color='white',\n",
    "                  width=2500,\n",
    "                  height=1800,\n",
    "                  max_words=10,\n",
    "                  colormap='tab10',\n",
    "                  color_func=lambda *args, **kwargs: cols[i],\n",
    "                  prefer_horizontal=1.0)\n",
    "\n",
    "topics2 = lda_model_mallet_4topics.show_topics(formatted=False)\n",
    "\n",
    "fig2, axes2 = plt.subplots(2, 2, figsize=(10,10), sharex=True, sharey=True)\n",
    "\n",
    "for i, ax in enumerate(axes2.flatten()):\n",
    "    fig2.add_subplot(ax)\n",
    "    topic_words = dict(topics2[i][1])\n",
    "    cloud3.generate_from_frequencies(topic_words, max_font_size=300)\n",
    "    plt.gca().imshow(cloud3)\n",
    "    plt.gca().set_title('Topic ' + str(i+1), fontdict=dict(size=16))\n",
    "    plt.gca().axis('off')\n",
    "\n",
    "plt.subplots_adjust(wspace=0, hspace=0)\n",
    "plt.axis('off')\n",
    "plt.margins(x=0, y=0)\n",
    "plt.tight_layout()\n",
    "plt.show()"
   ]
  },
  {
   "cell_type": "code",
   "execution_count": 40,
   "metadata": {},
   "outputs": [
    {
     "name": "stdout",
     "output_type": "stream",
     "text": [
      "Num Topics =  2  has Coherence Value of  0.609790471889881\n",
      "Num Topics =  4  has Coherence Value of  0.5071486390468577\n",
      "Num Topics =  6  has Coherence Value of  0.4800583185055712\n",
      "Num Topics =  8  has Coherence Value of  0.4725015442584691\n",
      "Num Topics =  10  has Coherence Value of  0.46992324128298135\n",
      "Num Topics =  12  has Coherence Value of  0.43937880042165545\n",
      "Num Topics =  14  has Coherence Value of  0.44909164638296806\n",
      "Num Topics =  16  has Coherence Value of  0.468885293810879\n",
      "Num Topics =  18  has Coherence Value of  0.4484850030764603\n"
     ]
    }
   ],
   "source": [
    "def compute_coherence_values(dictionary, corpus, texts, limit, start=2, step=3):\n",
    "    \"\"\"\n",
    "    Compute c_v coherence for various number of topics\n",
    "\n",
    "    Parameters:\n",
    "    ----------\n",
    "    dictionary : Gensim dictionary\n",
    "    corpus : Gensim corpus\n",
    "    texts : List of input texts\n",
    "    limit : Max num of topics\n",
    "\n",
    "    Returns:\n",
    "    -------\n",
    "    model_list : List of LDA topic models\n",
    "    coherence_values : Coherence values corresponding to the LDA model with respective number of topics\n",
    "    \"\"\"\n",
    "    coherence_values = []\n",
    "    model_list = []\n",
    "    for num_topics in range(start, limit, step):\n",
    "        model = gensim.models.wrappers.LdaMallet(mallet_path, corpus=corpus, num_topics=num_topics, id2word=dictionary)\n",
    "        model_list.append(model)\n",
    "        coherencemodel = CoherenceModel(model=model, texts=texts, dictionary=dictionary, coherence='c_v')\n",
    "        coherence_score = coherencemodel.get_coherence()\n",
    "        coherence_values.append(coherence_score)\n",
    "        print(\"Num Topics = \", num_topics, \" has Coherence Value of \", coherence_score)\n",
    "\n",
    "    return model_list, coherence_values\n",
    "\n",
    "# Can take a long time to run.\n",
    "model_list, coherence_values = compute_coherence_values(dictionary=dictionary, corpus=corpus_tfidf, texts=processed_docs, start=2, limit=20, step=2)"
   ]
  },
  {
   "cell_type": "code",
   "execution_count": 41,
   "metadata": {},
   "outputs": [
    {
     "data": {
      "image/png": "[encoded data removed]",
      "text/plain": [
       "<Figure size 432x288 with 1 Axes>"
      ]
     },
     "metadata": {
      "needs_background": "light"
     },
     "output_type": "display_data"
    }
   ],
   "source": [
    "# Show graph\n",
    "limit=20; start=2; step=2;\n",
    "x = range(start, limit, step)\n",
    "plt.plot(x, coherence_values)\n",
    "plt.xlabel(\"Num Topics\")\n",
    "plt.ylabel(\"Coherence score\")\n",
    "plt.legend((\"coherence_values\"), loc='best')\n",
    "plt.show()"
   ]
  },
  {
   "cell_type": "code",
   "execution_count": 42,
   "metadata": {},
   "outputs": [
    {
     "name": "stdout",
     "output_type": "stream",
     "text": [
      "Num Topics = 2  has Coherence Value of 0.6098\n",
      "Num Topics = 4  has Coherence Value of 0.5071\n",
      "Num Topics = 6  has Coherence Value of 0.4801\n",
      "Num Topics = 8  has Coherence Value of 0.4725\n",
      "Num Topics = 10  has Coherence Value of 0.4699\n",
      "Num Topics = 12  has Coherence Value of 0.4394\n",
      "Num Topics = 14  has Coherence Value of 0.4491\n",
      "Num Topics = 16  has Coherence Value of 0.4689\n",
      "Num Topics = 18  has Coherence Value of 0.4485\n"
     ]
    }
   ],
   "source": [
    "# Print the coherence scores\n",
    "for m, cv in zip(x, coherence_values):\n",
    "    print(\"Num Topics =\", m, \" has Coherence Value of\", round(cv, 4))"
   ]
  },
  {
   "cell_type": "markdown",
   "metadata": {},
   "source": [
    "## Validating our topic models - how well can they classify articles into one of the topics?"
   ]
  },
  {
   "cell_type": "markdown",
   "metadata": {},
   "source": [
    "### Performance evaluation by classifying sample document using LDA Bag of Words model"
   ]
  },
  {
   "cell_type": "code",
   "execution_count": 43,
   "metadata": {},
   "outputs": [
    {
     "data": {
      "text/plain": [
       "['briton', 'make', 'second', 'row', 'attempt']"
      ]
     },
     "execution_count": 43,
     "metadata": {},
     "output_type": "execute_result"
    }
   ],
   "source": [
    "processed_docs[3000]"
   ]
  },
  {
   "cell_type": "code",
   "execution_count": 44,
   "metadata": {
    "scrolled": true
   },
   "outputs": [
    {
     "name": "stdout",
     "output_type": "stream",
     "text": [
      "\n",
      "Score: 0.300295352935791\t \n",
      "Topic: 0.035*\"australia\" + 0.022*\"melbourn\" + 0.021*\"world\" + 0.017*\"open\" + 0.014*\"final\" + 0.013*\"donald\" + 0.012*\"sydney\" + 0.010*\"leagu\" + 0.010*\"take\" + 0.010*\"road\"\n",
      "\n",
      "Score: 0.21737168729305267\t \n",
      "Topic: 0.035*\"govern\" + 0.021*\"test\" + 0.018*\"rural\" + 0.014*\"break\" + 0.012*\"school\" + 0.012*\"news\" + 0.011*\"busi\" + 0.010*\"violenc\" + 0.010*\"say\" + 0.009*\"worker\"\n",
      "\n",
      "Score: 0.19899491965770721\t \n",
      "Topic: 0.029*\"charg\" + 0.027*\"court\" + 0.021*\"murder\" + 0.018*\"woman\" + 0.018*\"face\" + 0.016*\"die\" + 0.016*\"alleg\" + 0.015*\"brisban\" + 0.015*\"live\" + 0.015*\"jail\"\n",
      "\n",
      "Score: 0.18333320319652557\t \n",
      "Topic: 0.027*\"south\" + 0.025*\"kill\" + 0.015*\"island\" + 0.013*\"fall\" + 0.011*\"attack\" + 0.010*\"forc\" + 0.009*\"shark\" + 0.009*\"east\" + 0.007*\"northern\" + 0.007*\"bring\"\n",
      "\n",
      "Score: 0.01666867546737194\t \n",
      "Topic: 0.019*\"council\" + 0.015*\"power\" + 0.013*\"farmer\" + 0.011*\"industri\" + 0.011*\"guilti\" + 0.011*\"christma\" + 0.010*\"region\" + 0.009*\"research\" + 0.009*\"look\" + 0.009*\"energi\"\n",
      "\n",
      "Score: 0.016668247058987617\t \n",
      "Topic: 0.037*\"trump\" + 0.032*\"australian\" + 0.019*\"queensland\" + 0.014*\"leav\" + 0.014*\"australia\" + 0.012*\"say\" + 0.011*\"show\" + 0.011*\"royal\" + 0.010*\"game\" + 0.009*\"meet\"\n",
      "\n",
      "Score: 0.016667695716023445\t \n",
      "Topic: 0.019*\"canberra\" + 0.018*\"market\" + 0.014*\"rise\" + 0.014*\"west\" + 0.014*\"australian\" + 0.013*\"turnbul\" + 0.013*\"price\" + 0.013*\"share\" + 0.011*\"victoria\" + 0.010*\"bank\"\n",
      "\n",
      "Score: 0.016666876152157784\t \n",
      "Topic: 0.063*\"polic\" + 0.024*\"crash\" + 0.019*\"interview\" + 0.019*\"miss\" + 0.018*\"shoot\" + 0.016*\"arrest\" + 0.015*\"investig\" + 0.013*\"driver\" + 0.012*\"search\" + 0.011*\"offic\"\n",
      "\n",
      "Score: 0.01666666567325592\t \n",
      "Topic: 0.029*\"elect\" + 0.019*\"death\" + 0.018*\"say\" + 0.017*\"hospit\" + 0.016*\"tasmanian\" + 0.015*\"labor\" + 0.013*\"deal\" + 0.013*\"china\" + 0.011*\"polit\" + 0.011*\"talk\"\n",
      "\n",
      "Score: 0.01666666567325592\t \n",
      "Topic: 0.019*\"nation\" + 0.018*\"coast\" + 0.016*\"help\" + 0.016*\"countri\" + 0.015*\"state\" + 0.015*\"chang\" + 0.014*\"health\" + 0.013*\"tasmania\" + 0.013*\"hour\" + 0.013*\"indigen\"\n"
     ]
    }
   ],
   "source": [
    "for index, score in sorted(lda_model[bow_corpus[3000]], key=lambda tup: -1*tup[1]):\n",
    "    print(\"\\nScore: {}\\t \\nTopic: {}\".format(score, lda_model.print_topic(index, 10)))"
   ]
  },
  {
   "cell_type": "markdown",
   "metadata": {},
   "source": [
    "Our test document has the highest probability to be part of the topic on the top."
   ]
  },
  {
   "cell_type": "markdown",
   "metadata": {},
   "source": [
    "## Performance evaluation by classifying sample document using LDA TF-IDF model"
   ]
  },
  {
   "cell_type": "code",
   "execution_count": 45,
   "metadata": {},
   "outputs": [
    {
     "name": "stdout",
     "output_type": "stream",
     "text": [
      "\n",
      "Score: 0.6209820508956909\t \n",
      "Topic: 0.020*\"polic\" + 0.019*\"charg\" + 0.016*\"murder\" + 0.013*\"court\" + 0.012*\"alleg\" + 0.011*\"death\" + 0.011*\"jail\" + 0.011*\"woman\" + 0.010*\"arrest\" + 0.009*\"assault\"\n",
      "\n",
      "Score: 0.24565459787845612\t \n",
      "Topic: 0.018*\"countri\" + 0.017*\"hour\" + 0.010*\"interview\" + 0.009*\"govern\" + 0.006*\"abbott\" + 0.005*\"wall\" + 0.005*\"cut\" + 0.005*\"asylum\" + 0.005*\"say\" + 0.004*\"union\"\n",
      "\n",
      "Score: 0.016671421006321907\t \n",
      "Topic: 0.008*\"final\" + 0.007*\"leagu\" + 0.007*\"sport\" + 0.006*\"peter\" + 0.005*\"decemb\" + 0.005*\"open\" + 0.005*\"rain\" + 0.005*\"world\" + 0.005*\"dairi\" + 0.005*\"murray\"\n",
      "\n",
      "Score: 0.016671055927872658\t \n",
      "Topic: 0.010*\"donald\" + 0.009*\"australia\" + 0.007*\"kill\" + 0.006*\"wednesday\" + 0.005*\"syria\" + 0.005*\"islam\" + 0.005*\"zealand\" + 0.005*\"australian\" + 0.005*\"russia\" + 0.005*\"suicid\"\n",
      "\n",
      "Score: 0.01667081192135811\t \n",
      "Topic: 0.012*\"market\" + 0.011*\"podcast\" + 0.011*\"drum\" + 0.010*\"turnbul\" + 0.009*\"share\" + 0.006*\"dollar\" + 0.006*\"australian\" + 0.006*\"tuesday\" + 0.006*\"mother\" + 0.006*\"price\"\n",
      "\n",
      "Score: 0.01667075976729393\t \n",
      "Topic: 0.010*\"weather\" + 0.007*\"plead\" + 0.007*\"cattl\" + 0.007*\"hobart\" + 0.005*\"histori\" + 0.005*\"wild\" + 0.005*\"warn\" + 0.005*\"coast\" + 0.004*\"queensland\" + 0.004*\"sydney\"\n",
      "\n",
      "Score: 0.016670577228069305\t \n",
      "Topic: 0.009*\"christma\" + 0.006*\"health\" + 0.006*\"elect\" + 0.006*\"rugbi\" + 0.006*\"farm\" + 0.005*\"stori\" + 0.005*\"mental\" + 0.005*\"august\" + 0.005*\"tasmanian\" + 0.005*\"indigen\"\n",
      "\n",
      "Score: 0.016670558601617813\t \n",
      "Topic: 0.014*\"news\" + 0.014*\"crash\" + 0.012*\"rural\" + 0.010*\"north\" + 0.008*\"south\" + 0.007*\"korea\" + 0.007*\"ash\" + 0.006*\"west\" + 0.006*\"octob\" + 0.006*\"die\"\n",
      "\n",
      "Score: 0.016669446602463722\t \n",
      "Topic: 0.022*\"trump\" + 0.007*\"michael\" + 0.007*\"friday\" + 0.007*\"juli\" + 0.006*\"video\" + 0.005*\"anim\" + 0.005*\"care\" + 0.005*\"know\" + 0.005*\"steal\" + 0.005*\"updat\"\n",
      "\n",
      "Score: 0.01666872762143612\t \n",
      "Topic: 0.008*\"grandstand\" + 0.008*\"marriag\" + 0.007*\"septemb\" + 0.007*\"novemb\" + 0.007*\"violenc\" + 0.006*\"malcolm\" + 0.006*\"domest\" + 0.006*\"andrew\" + 0.005*\"quiz\" + 0.005*\"say\"\n"
     ]
    }
   ],
   "source": [
    "for index, score in sorted(lda_model_tfidf[bow_corpus[3000]], key=lambda tup: -1*tup[1]):\n",
    "    print(\"\\nScore: {}\\t \\nTopic: {}\".format(score, lda_model_tfidf.print_topic(index, 10)))"
   ]
  },
  {
   "cell_type": "markdown",
   "metadata": {},
   "source": [
    "The test document has the highest probability to be part of the topic on the top."
   ]
  },
  {
   "cell_type": "markdown",
   "metadata": {},
   "source": [
    "## Performance evaluation by classifying sample document using the 4 topic model trained using Mallet and TF-IDF"
   ]
  },
  {
   "cell_type": "code",
   "execution_count": 46,
   "metadata": {},
   "outputs": [],
   "source": [
    "# for index, score in sorted(lda_model_mallet_4topics[corpus_tfidf[3000]], key=lambda tup: -1*tup[1]):\n",
    "#     print(\"\\nScore: {}\\t \\nTopic: {}\".format(score, lda_model_mallet_4topics.print_topic(index, 4)))"
   ]
  },
  {
   "cell_type": "markdown",
   "metadata": {},
   "source": [
    "## Testing model on unseen document"
   ]
  },
  {
   "cell_type": "code",
   "execution_count": 47,
   "metadata": {},
   "outputs": [
    {
     "name": "stdout",
     "output_type": "stream",
     "text": [
      "Score: 0.4068733751773834\t Topic: 0.019*\"nation\" + 0.018*\"coast\" + 0.016*\"help\" + 0.016*\"countri\" + 0.015*\"state\"\n",
      "Score: 0.31188517808914185\t Topic: 0.035*\"govern\" + 0.021*\"test\" + 0.018*\"rural\" + 0.014*\"break\" + 0.012*\"school\"\n",
      "Score: 0.21122941374778748\t Topic: 0.037*\"trump\" + 0.032*\"australian\" + 0.019*\"queensland\" + 0.014*\"leav\" + 0.014*\"australia\"\n",
      "Score: 0.01000365149229765\t Topic: 0.027*\"south\" + 0.025*\"kill\" + 0.015*\"island\" + 0.013*\"fall\" + 0.011*\"attack\"\n",
      "Score: 0.010001669637858868\t Topic: 0.019*\"canberra\" + 0.018*\"market\" + 0.014*\"rise\" + 0.014*\"west\" + 0.014*\"australian\"\n",
      "Score: 0.010001661255955696\t Topic: 0.029*\"charg\" + 0.027*\"court\" + 0.021*\"murder\" + 0.018*\"woman\" + 0.018*\"face\"\n",
      "Score: 0.010001637041568756\t Topic: 0.019*\"council\" + 0.015*\"power\" + 0.013*\"farmer\" + 0.011*\"industri\" + 0.011*\"guilti\"\n",
      "Score: 0.010001281276345253\t Topic: 0.063*\"polic\" + 0.024*\"crash\" + 0.019*\"interview\" + 0.019*\"miss\" + 0.018*\"shoot\"\n",
      "Score: 0.010001139715313911\t Topic: 0.035*\"australia\" + 0.022*\"melbourn\" + 0.021*\"world\" + 0.017*\"open\" + 0.014*\"final\"\n",
      "Score: 0.010000986978411674\t Topic: 0.029*\"elect\" + 0.019*\"death\" + 0.018*\"say\" + 0.017*\"hospit\" + 0.016*\"tasmanian\"\n"
     ]
    }
   ],
   "source": [
    "unseen_document = 'First-time fisherman calls Border Force after becoming stranded in crocodile-infested river'\n",
    "bow_vector = dictionary.doc2bow(preprocess(unseen_document))\n",
    "\n",
    "for index, score in sorted(lda_model_tfidf[bow_vector], key=lambda tup: -1*tup[1]):\n",
    "    print(\"Score: {}\\t Topic: {}\".format(score, lda_model.print_topic(index, 5)))"
   ]
  },
  {
   "cell_type": "markdown",
   "metadata": {},
   "source": [
    "## References"
   ]
  },
  {
   "cell_type": "markdown",
   "metadata": {},
   "source": [
    "?) Vector space model, Wikipedia : https://en.wikipedia.org/wiki/Vector_space_model\n",
    "?) https://textminingonline.com/dive-into-nltk-part-iv-stemming-and-lemmatization\n",
    "?) Wordnet : https://wordnet.princeton.edu/\n",
    "?) A Gentle Introduction to the Bag-of-Words Model : https://machinelearningmastery.com/gentle-introduction-bag-words-model/"
   ]
  }
 ],
 "metadata": {
  "kernelspec": {
   "display_name": "Python 3",
   "language": "python",
   "name": "python3"
  },
  "language_info": {
   "codemirror_mode": {
    "name": "ipython",
    "version": 3
   },
   "file_extension": ".py",
   "mimetype": "text/x-python",
   "name": "python",
   "nbconvert_exporter": "python",
   "pygments_lexer": "ipython3",
   "version": "3.7.0"
  },
  "widgets": {
   "application/vnd.jupyter.widget-state+json": {
    "state": {},
    "version_major": 2,
    "version_minor": 0
   }
  }
 },
 "nbformat": 4,
 "nbformat_minor": 2
}
